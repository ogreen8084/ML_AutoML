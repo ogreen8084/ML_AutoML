{
  "nbformat": 4,
  "nbformat_minor": 0,
  "metadata": {
    "colab": {
      "provenance": [],
      "authorship_tag": "ABX9TyNo1JkLZpSF9crQbPY8kwdc",
      "include_colab_link": true
    },
    "kernelspec": {
      "name": "python3",
      "display_name": "Python 3"
    },
    "language_info": {
      "name": "python"
    }
  },
  "cells": [
    {
      "cell_type": "markdown",
      "metadata": {
        "id": "view-in-github",
        "colab_type": "text"
      },
      "source": [
        "<a href=\"https://colab.research.google.com/github/ogreen8084/ML_AutoML/blob/main/H2O_AutoKeras.ipynb\" target=\"_parent\"><img src=\"https://colab.research.google.com/assets/colab-badge.svg\" alt=\"Open In Colab\"/></a>"
      ]
    },
    {
      "cell_type": "code",
      "execution_count": null,
      "metadata": {
        "id": "eJHJXoY8avlL"
      },
      "outputs": [],
      "source": [
        "import pandas as pd\n",
        "import numpy as np\n",
        "import matplotlib.pyplot as plt\n",
        "import seaborn as sns\n",
        "%matplotlib inline"
      ]
    },
    {
      "cell_type": "code",
      "source": [
        "from google.colab import drive\n",
        "\n",
        "drive.mount('/content/gdrive')"
      ],
      "metadata": {
        "colab": {
          "base_uri": "https://localhost:8080/"
        },
        "id": "2VJvqraCa2GP",
        "outputId": "ae5a79f2-ec07-4159-a3aa-3e073a4c4761"
      },
      "execution_count": null,
      "outputs": [
        {
          "output_type": "stream",
          "name": "stdout",
          "text": [
            "Drive already mounted at /content/gdrive; to attempt to forcibly remount, call drive.mount(\"/content/gdrive\", force_remount=True).\n"
          ]
        }
      ]
    },
    {
      "cell_type": "code",
      "source": [
        "df = pd.read_csv('/content/gdrive/MyDrive/telco_churn.csv')"
      ],
      "metadata": {
        "id": "ShonsByKa3Be"
      },
      "execution_count": null,
      "outputs": []
    },
    {
      "cell_type": "markdown",
      "source": [
        "The dataframe has 20 features and one target column \"Churn\". We will use the 20 features to predict whether the customer was retained or not. "
      ],
      "metadata": {
        "id": "fDcDEEYLcPVV"
      }
    },
    {
      "cell_type": "code",
      "source": [
        "df.shape"
      ],
      "metadata": {
        "colab": {
          "base_uri": "https://localhost:8080/"
        },
        "id": "kOc1S32ucNZT",
        "outputId": "a8880f7d-d2fc-4d36-9bd0-8d741431b376"
      },
      "execution_count": null,
      "outputs": [
        {
          "output_type": "execute_result",
          "data": {
            "text/plain": [
              "(7043, 21)"
            ]
          },
          "metadata": {},
          "execution_count": 4
        }
      ]
    },
    {
      "cell_type": "code",
      "source": [
        "df.head()"
      ],
      "metadata": {
        "colab": {
          "base_uri": "https://localhost:8080/",
          "height": 386
        },
        "id": "FIc4dx-ZbDcm",
        "outputId": "ce12ee33-db80-4b1f-b1ca-ffbb0b4495c3"
      },
      "execution_count": null,
      "outputs": [
        {
          "output_type": "execute_result",
          "data": {
            "text/plain": [
              "   customerID  gender  SeniorCitizen Partner Dependents  tenure PhoneService  \\\n",
              "0  7590-VHVEG  Female              0     Yes         No       1           No   \n",
              "1  5575-GNVDE    Male              0      No         No      34          Yes   \n",
              "2  3668-QPYBK    Male              0      No         No       2          Yes   \n",
              "3  7795-CFOCW    Male              0      No         No      45           No   \n",
              "4  9237-HQITU  Female              0      No         No       2          Yes   \n",
              "\n",
              "      MultipleLines InternetService OnlineSecurity  ... DeviceProtection  \\\n",
              "0  No phone service             DSL             No  ...               No   \n",
              "1                No             DSL            Yes  ...              Yes   \n",
              "2                No             DSL            Yes  ...               No   \n",
              "3  No phone service             DSL            Yes  ...              Yes   \n",
              "4                No     Fiber optic             No  ...               No   \n",
              "\n",
              "  TechSupport StreamingTV StreamingMovies        Contract PaperlessBilling  \\\n",
              "0          No          No              No  Month-to-month              Yes   \n",
              "1          No          No              No        One year               No   \n",
              "2          No          No              No  Month-to-month              Yes   \n",
              "3         Yes          No              No        One year               No   \n",
              "4          No          No              No  Month-to-month              Yes   \n",
              "\n",
              "               PaymentMethod MonthlyCharges  TotalCharges Churn  \n",
              "0           Electronic check          29.85         29.85    No  \n",
              "1               Mailed check          56.95        1889.5    No  \n",
              "2               Mailed check          53.85        108.15   Yes  \n",
              "3  Bank transfer (automatic)          42.30       1840.75    No  \n",
              "4           Electronic check          70.70        151.65   Yes  \n",
              "\n",
              "[5 rows x 21 columns]"
            ],
            "text/html": [
              "\n",
              "  <div id=\"df-213eeca8-2165-4c01-ae5b-985e3132fa51\">\n",
              "    <div class=\"colab-df-container\">\n",
              "      <div>\n",
              "<style scoped>\n",
              "    .dataframe tbody tr th:only-of-type {\n",
              "        vertical-align: middle;\n",
              "    }\n",
              "\n",
              "    .dataframe tbody tr th {\n",
              "        vertical-align: top;\n",
              "    }\n",
              "\n",
              "    .dataframe thead th {\n",
              "        text-align: right;\n",
              "    }\n",
              "</style>\n",
              "<table border=\"1\" class=\"dataframe\">\n",
              "  <thead>\n",
              "    <tr style=\"text-align: right;\">\n",
              "      <th></th>\n",
              "      <th>customerID</th>\n",
              "      <th>gender</th>\n",
              "      <th>SeniorCitizen</th>\n",
              "      <th>Partner</th>\n",
              "      <th>Dependents</th>\n",
              "      <th>tenure</th>\n",
              "      <th>PhoneService</th>\n",
              "      <th>MultipleLines</th>\n",
              "      <th>InternetService</th>\n",
              "      <th>OnlineSecurity</th>\n",
              "      <th>...</th>\n",
              "      <th>DeviceProtection</th>\n",
              "      <th>TechSupport</th>\n",
              "      <th>StreamingTV</th>\n",
              "      <th>StreamingMovies</th>\n",
              "      <th>Contract</th>\n",
              "      <th>PaperlessBilling</th>\n",
              "      <th>PaymentMethod</th>\n",
              "      <th>MonthlyCharges</th>\n",
              "      <th>TotalCharges</th>\n",
              "      <th>Churn</th>\n",
              "    </tr>\n",
              "  </thead>\n",
              "  <tbody>\n",
              "    <tr>\n",
              "      <th>0</th>\n",
              "      <td>7590-VHVEG</td>\n",
              "      <td>Female</td>\n",
              "      <td>0</td>\n",
              "      <td>Yes</td>\n",
              "      <td>No</td>\n",
              "      <td>1</td>\n",
              "      <td>No</td>\n",
              "      <td>No phone service</td>\n",
              "      <td>DSL</td>\n",
              "      <td>No</td>\n",
              "      <td>...</td>\n",
              "      <td>No</td>\n",
              "      <td>No</td>\n",
              "      <td>No</td>\n",
              "      <td>No</td>\n",
              "      <td>Month-to-month</td>\n",
              "      <td>Yes</td>\n",
              "      <td>Electronic check</td>\n",
              "      <td>29.85</td>\n",
              "      <td>29.85</td>\n",
              "      <td>No</td>\n",
              "    </tr>\n",
              "    <tr>\n",
              "      <th>1</th>\n",
              "      <td>5575-GNVDE</td>\n",
              "      <td>Male</td>\n",
              "      <td>0</td>\n",
              "      <td>No</td>\n",
              "      <td>No</td>\n",
              "      <td>34</td>\n",
              "      <td>Yes</td>\n",
              "      <td>No</td>\n",
              "      <td>DSL</td>\n",
              "      <td>Yes</td>\n",
              "      <td>...</td>\n",
              "      <td>Yes</td>\n",
              "      <td>No</td>\n",
              "      <td>No</td>\n",
              "      <td>No</td>\n",
              "      <td>One year</td>\n",
              "      <td>No</td>\n",
              "      <td>Mailed check</td>\n",
              "      <td>56.95</td>\n",
              "      <td>1889.5</td>\n",
              "      <td>No</td>\n",
              "    </tr>\n",
              "    <tr>\n",
              "      <th>2</th>\n",
              "      <td>3668-QPYBK</td>\n",
              "      <td>Male</td>\n",
              "      <td>0</td>\n",
              "      <td>No</td>\n",
              "      <td>No</td>\n",
              "      <td>2</td>\n",
              "      <td>Yes</td>\n",
              "      <td>No</td>\n",
              "      <td>DSL</td>\n",
              "      <td>Yes</td>\n",
              "      <td>...</td>\n",
              "      <td>No</td>\n",
              "      <td>No</td>\n",
              "      <td>No</td>\n",
              "      <td>No</td>\n",
              "      <td>Month-to-month</td>\n",
              "      <td>Yes</td>\n",
              "      <td>Mailed check</td>\n",
              "      <td>53.85</td>\n",
              "      <td>108.15</td>\n",
              "      <td>Yes</td>\n",
              "    </tr>\n",
              "    <tr>\n",
              "      <th>3</th>\n",
              "      <td>7795-CFOCW</td>\n",
              "      <td>Male</td>\n",
              "      <td>0</td>\n",
              "      <td>No</td>\n",
              "      <td>No</td>\n",
              "      <td>45</td>\n",
              "      <td>No</td>\n",
              "      <td>No phone service</td>\n",
              "      <td>DSL</td>\n",
              "      <td>Yes</td>\n",
              "      <td>...</td>\n",
              "      <td>Yes</td>\n",
              "      <td>Yes</td>\n",
              "      <td>No</td>\n",
              "      <td>No</td>\n",
              "      <td>One year</td>\n",
              "      <td>No</td>\n",
              "      <td>Bank transfer (automatic)</td>\n",
              "      <td>42.30</td>\n",
              "      <td>1840.75</td>\n",
              "      <td>No</td>\n",
              "    </tr>\n",
              "    <tr>\n",
              "      <th>4</th>\n",
              "      <td>9237-HQITU</td>\n",
              "      <td>Female</td>\n",
              "      <td>0</td>\n",
              "      <td>No</td>\n",
              "      <td>No</td>\n",
              "      <td>2</td>\n",
              "      <td>Yes</td>\n",
              "      <td>No</td>\n",
              "      <td>Fiber optic</td>\n",
              "      <td>No</td>\n",
              "      <td>...</td>\n",
              "      <td>No</td>\n",
              "      <td>No</td>\n",
              "      <td>No</td>\n",
              "      <td>No</td>\n",
              "      <td>Month-to-month</td>\n",
              "      <td>Yes</td>\n",
              "      <td>Electronic check</td>\n",
              "      <td>70.70</td>\n",
              "      <td>151.65</td>\n",
              "      <td>Yes</td>\n",
              "    </tr>\n",
              "  </tbody>\n",
              "</table>\n",
              "<p>5 rows × 21 columns</p>\n",
              "</div>\n",
              "      <button class=\"colab-df-convert\" onclick=\"convertToInteractive('df-213eeca8-2165-4c01-ae5b-985e3132fa51')\"\n",
              "              title=\"Convert this dataframe to an interactive table.\"\n",
              "              style=\"display:none;\">\n",
              "        \n",
              "  <svg xmlns=\"http://www.w3.org/2000/svg\" height=\"24px\"viewBox=\"0 0 24 24\"\n",
              "       width=\"24px\">\n",
              "    <path d=\"M0 0h24v24H0V0z\" fill=\"none\"/>\n",
              "    <path d=\"M18.56 5.44l.94 2.06.94-2.06 2.06-.94-2.06-.94-.94-2.06-.94 2.06-2.06.94zm-11 1L8.5 8.5l.94-2.06 2.06-.94-2.06-.94L8.5 2.5l-.94 2.06-2.06.94zm10 10l.94 2.06.94-2.06 2.06-.94-2.06-.94-.94-2.06-.94 2.06-2.06.94z\"/><path d=\"M17.41 7.96l-1.37-1.37c-.4-.4-.92-.59-1.43-.59-.52 0-1.04.2-1.43.59L10.3 9.45l-7.72 7.72c-.78.78-.78 2.05 0 2.83L4 21.41c.39.39.9.59 1.41.59.51 0 1.02-.2 1.41-.59l7.78-7.78 2.81-2.81c.8-.78.8-2.07 0-2.86zM5.41 20L4 18.59l7.72-7.72 1.47 1.35L5.41 20z\"/>\n",
              "  </svg>\n",
              "      </button>\n",
              "      \n",
              "  <style>\n",
              "    .colab-df-container {\n",
              "      display:flex;\n",
              "      flex-wrap:wrap;\n",
              "      gap: 12px;\n",
              "    }\n",
              "\n",
              "    .colab-df-convert {\n",
              "      background-color: #E8F0FE;\n",
              "      border: none;\n",
              "      border-radius: 50%;\n",
              "      cursor: pointer;\n",
              "      display: none;\n",
              "      fill: #1967D2;\n",
              "      height: 32px;\n",
              "      padding: 0 0 0 0;\n",
              "      width: 32px;\n",
              "    }\n",
              "\n",
              "    .colab-df-convert:hover {\n",
              "      background-color: #E2EBFA;\n",
              "      box-shadow: 0px 1px 2px rgba(60, 64, 67, 0.3), 0px 1px 3px 1px rgba(60, 64, 67, 0.15);\n",
              "      fill: #174EA6;\n",
              "    }\n",
              "\n",
              "    [theme=dark] .colab-df-convert {\n",
              "      background-color: #3B4455;\n",
              "      fill: #D2E3FC;\n",
              "    }\n",
              "\n",
              "    [theme=dark] .colab-df-convert:hover {\n",
              "      background-color: #434B5C;\n",
              "      box-shadow: 0px 1px 3px 1px rgba(0, 0, 0, 0.15);\n",
              "      filter: drop-shadow(0px 1px 2px rgba(0, 0, 0, 0.3));\n",
              "      fill: #FFFFFF;\n",
              "    }\n",
              "  </style>\n",
              "\n",
              "      <script>\n",
              "        const buttonEl =\n",
              "          document.querySelector('#df-213eeca8-2165-4c01-ae5b-985e3132fa51 button.colab-df-convert');\n",
              "        buttonEl.style.display =\n",
              "          google.colab.kernel.accessAllowed ? 'block' : 'none';\n",
              "\n",
              "        async function convertToInteractive(key) {\n",
              "          const element = document.querySelector('#df-213eeca8-2165-4c01-ae5b-985e3132fa51');\n",
              "          const dataTable =\n",
              "            await google.colab.kernel.invokeFunction('convertToInteractive',\n",
              "                                                     [key], {});\n",
              "          if (!dataTable) return;\n",
              "\n",
              "          const docLinkHtml = 'Like what you see? Visit the ' +\n",
              "            '<a target=\"_blank\" href=https://colab.research.google.com/notebooks/data_table.ipynb>data table notebook</a>'\n",
              "            + ' to learn more about interactive tables.';\n",
              "          element.innerHTML = '';\n",
              "          dataTable['output_type'] = 'display_data';\n",
              "          await google.colab.output.renderOutput(dataTable, element);\n",
              "          const docLink = document.createElement('div');\n",
              "          docLink.innerHTML = docLinkHtml;\n",
              "          element.appendChild(docLink);\n",
              "        }\n",
              "      </script>\n",
              "    </div>\n",
              "  </div>\n",
              "  "
            ]
          },
          "metadata": {},
          "execution_count": 5
        }
      ]
    },
    {
      "cell_type": "markdown",
      "source": [
        "At first glance there seems to be 17 categorical features and 3 numerical features, but there seems to be an issue with the TotalCharges columns, we will have to convert it to a numerical column as well. SeniorCitizen is already in binary form, we will convert the other \"Yes/No\" columns to this format as well\n",
        "."
      ],
      "metadata": {
        "id": "r4gLwtlnb1Wy"
      }
    },
    {
      "cell_type": "code",
      "source": [
        "df.describe()"
      ],
      "metadata": {
        "colab": {
          "base_uri": "https://localhost:8080/",
          "height": 300
        },
        "id": "KqxMmGsgbEmp",
        "outputId": "f242c300-50a3-46a3-c2dc-729dd332954e"
      },
      "execution_count": null,
      "outputs": [
        {
          "output_type": "execute_result",
          "data": {
            "text/plain": [
              "       SeniorCitizen       tenure  MonthlyCharges\n",
              "count    7043.000000  7043.000000     7043.000000\n",
              "mean        0.162147    32.371149       64.761692\n",
              "std         0.368612    24.559481       30.090047\n",
              "min         0.000000     0.000000       18.250000\n",
              "25%         0.000000     9.000000       35.500000\n",
              "50%         0.000000    29.000000       70.350000\n",
              "75%         0.000000    55.000000       89.850000\n",
              "max         1.000000    72.000000      118.750000"
            ],
            "text/html": [
              "\n",
              "  <div id=\"df-f7de3b1d-47ca-4ca3-88a6-de5c480a88a7\">\n",
              "    <div class=\"colab-df-container\">\n",
              "      <div>\n",
              "<style scoped>\n",
              "    .dataframe tbody tr th:only-of-type {\n",
              "        vertical-align: middle;\n",
              "    }\n",
              "\n",
              "    .dataframe tbody tr th {\n",
              "        vertical-align: top;\n",
              "    }\n",
              "\n",
              "    .dataframe thead th {\n",
              "        text-align: right;\n",
              "    }\n",
              "</style>\n",
              "<table border=\"1\" class=\"dataframe\">\n",
              "  <thead>\n",
              "    <tr style=\"text-align: right;\">\n",
              "      <th></th>\n",
              "      <th>SeniorCitizen</th>\n",
              "      <th>tenure</th>\n",
              "      <th>MonthlyCharges</th>\n",
              "    </tr>\n",
              "  </thead>\n",
              "  <tbody>\n",
              "    <tr>\n",
              "      <th>count</th>\n",
              "      <td>7043.000000</td>\n",
              "      <td>7043.000000</td>\n",
              "      <td>7043.000000</td>\n",
              "    </tr>\n",
              "    <tr>\n",
              "      <th>mean</th>\n",
              "      <td>0.162147</td>\n",
              "      <td>32.371149</td>\n",
              "      <td>64.761692</td>\n",
              "    </tr>\n",
              "    <tr>\n",
              "      <th>std</th>\n",
              "      <td>0.368612</td>\n",
              "      <td>24.559481</td>\n",
              "      <td>30.090047</td>\n",
              "    </tr>\n",
              "    <tr>\n",
              "      <th>min</th>\n",
              "      <td>0.000000</td>\n",
              "      <td>0.000000</td>\n",
              "      <td>18.250000</td>\n",
              "    </tr>\n",
              "    <tr>\n",
              "      <th>25%</th>\n",
              "      <td>0.000000</td>\n",
              "      <td>9.000000</td>\n",
              "      <td>35.500000</td>\n",
              "    </tr>\n",
              "    <tr>\n",
              "      <th>50%</th>\n",
              "      <td>0.000000</td>\n",
              "      <td>29.000000</td>\n",
              "      <td>70.350000</td>\n",
              "    </tr>\n",
              "    <tr>\n",
              "      <th>75%</th>\n",
              "      <td>0.000000</td>\n",
              "      <td>55.000000</td>\n",
              "      <td>89.850000</td>\n",
              "    </tr>\n",
              "    <tr>\n",
              "      <th>max</th>\n",
              "      <td>1.000000</td>\n",
              "      <td>72.000000</td>\n",
              "      <td>118.750000</td>\n",
              "    </tr>\n",
              "  </tbody>\n",
              "</table>\n",
              "</div>\n",
              "      <button class=\"colab-df-convert\" onclick=\"convertToInteractive('df-f7de3b1d-47ca-4ca3-88a6-de5c480a88a7')\"\n",
              "              title=\"Convert this dataframe to an interactive table.\"\n",
              "              style=\"display:none;\">\n",
              "        \n",
              "  <svg xmlns=\"http://www.w3.org/2000/svg\" height=\"24px\"viewBox=\"0 0 24 24\"\n",
              "       width=\"24px\">\n",
              "    <path d=\"M0 0h24v24H0V0z\" fill=\"none\"/>\n",
              "    <path d=\"M18.56 5.44l.94 2.06.94-2.06 2.06-.94-2.06-.94-.94-2.06-.94 2.06-2.06.94zm-11 1L8.5 8.5l.94-2.06 2.06-.94-2.06-.94L8.5 2.5l-.94 2.06-2.06.94zm10 10l.94 2.06.94-2.06 2.06-.94-2.06-.94-.94-2.06-.94 2.06-2.06.94z\"/><path d=\"M17.41 7.96l-1.37-1.37c-.4-.4-.92-.59-1.43-.59-.52 0-1.04.2-1.43.59L10.3 9.45l-7.72 7.72c-.78.78-.78 2.05 0 2.83L4 21.41c.39.39.9.59 1.41.59.51 0 1.02-.2 1.41-.59l7.78-7.78 2.81-2.81c.8-.78.8-2.07 0-2.86zM5.41 20L4 18.59l7.72-7.72 1.47 1.35L5.41 20z\"/>\n",
              "  </svg>\n",
              "      </button>\n",
              "      \n",
              "  <style>\n",
              "    .colab-df-container {\n",
              "      display:flex;\n",
              "      flex-wrap:wrap;\n",
              "      gap: 12px;\n",
              "    }\n",
              "\n",
              "    .colab-df-convert {\n",
              "      background-color: #E8F0FE;\n",
              "      border: none;\n",
              "      border-radius: 50%;\n",
              "      cursor: pointer;\n",
              "      display: none;\n",
              "      fill: #1967D2;\n",
              "      height: 32px;\n",
              "      padding: 0 0 0 0;\n",
              "      width: 32px;\n",
              "    }\n",
              "\n",
              "    .colab-df-convert:hover {\n",
              "      background-color: #E2EBFA;\n",
              "      box-shadow: 0px 1px 2px rgba(60, 64, 67, 0.3), 0px 1px 3px 1px rgba(60, 64, 67, 0.15);\n",
              "      fill: #174EA6;\n",
              "    }\n",
              "\n",
              "    [theme=dark] .colab-df-convert {\n",
              "      background-color: #3B4455;\n",
              "      fill: #D2E3FC;\n",
              "    }\n",
              "\n",
              "    [theme=dark] .colab-df-convert:hover {\n",
              "      background-color: #434B5C;\n",
              "      box-shadow: 0px 1px 3px 1px rgba(0, 0, 0, 0.15);\n",
              "      filter: drop-shadow(0px 1px 2px rgba(0, 0, 0, 0.3));\n",
              "      fill: #FFFFFF;\n",
              "    }\n",
              "  </style>\n",
              "\n",
              "      <script>\n",
              "        const buttonEl =\n",
              "          document.querySelector('#df-f7de3b1d-47ca-4ca3-88a6-de5c480a88a7 button.colab-df-convert');\n",
              "        buttonEl.style.display =\n",
              "          google.colab.kernel.accessAllowed ? 'block' : 'none';\n",
              "\n",
              "        async function convertToInteractive(key) {\n",
              "          const element = document.querySelector('#df-f7de3b1d-47ca-4ca3-88a6-de5c480a88a7');\n",
              "          const dataTable =\n",
              "            await google.colab.kernel.invokeFunction('convertToInteractive',\n",
              "                                                     [key], {});\n",
              "          if (!dataTable) return;\n",
              "\n",
              "          const docLinkHtml = 'Like what you see? Visit the ' +\n",
              "            '<a target=\"_blank\" href=https://colab.research.google.com/notebooks/data_table.ipynb>data table notebook</a>'\n",
              "            + ' to learn more about interactive tables.';\n",
              "          element.innerHTML = '';\n",
              "          dataTable['output_type'] = 'display_data';\n",
              "          await google.colab.output.renderOutput(dataTable, element);\n",
              "          const docLink = document.createElement('div');\n",
              "          docLink.innerHTML = docLinkHtml;\n",
              "          element.appendChild(docLink);\n",
              "        }\n",
              "      </script>\n",
              "    </div>\n",
              "  </div>\n",
              "  "
            ]
          },
          "metadata": {},
          "execution_count": 6
        }
      ]
    },
    {
      "cell_type": "markdown",
      "source": [
        "There is an issue where TotalCharges is blank for 11 instances in the data. We will remove those rows. "
      ],
      "metadata": {
        "id": "gYWq1cbyekQB"
      }
    },
    {
      "cell_type": "code",
      "source": [
        "num_issues= 0\n",
        "for i in df['TotalCharges']: \n",
        "    try:\n",
        "        float(i)\n",
        "    except:\n",
        "        print(i)\n",
        "        num_issues += 1\n",
        "print('There are ' + str(num_issues) + ' invalid values.')"
      ],
      "metadata": {
        "colab": {
          "base_uri": "https://localhost:8080/"
        },
        "id": "G3Ky0jLtcuTY",
        "outputId": "3ad9e8be-3b75-4974-84db-4f560bf00456"
      },
      "execution_count": null,
      "outputs": [
        {
          "output_type": "stream",
          "name": "stdout",
          "text": [
            " \n",
            " \n",
            " \n",
            " \n",
            " \n",
            " \n",
            " \n",
            " \n",
            " \n",
            " \n",
            " \n",
            "There are 11 invalid values.\n"
          ]
        }
      ]
    },
    {
      "cell_type": "code",
      "source": [
        "df = df[df['TotalCharges'] != ' ']"
      ],
      "metadata": {
        "id": "Ix_wHVjzenJ-"
      },
      "execution_count": null,
      "outputs": []
    },
    {
      "cell_type": "markdown",
      "source": [
        "We now have 7032 rows of data."
      ],
      "metadata": {
        "id": "9EYUNsNqfD5c"
      }
    },
    {
      "cell_type": "code",
      "source": [
        "df.shape"
      ],
      "metadata": {
        "colab": {
          "base_uri": "https://localhost:8080/"
        },
        "id": "VjCKf_iYfBKb",
        "outputId": "9b2322ff-dbcf-4858-91e0-0523a8dbe331"
      },
      "execution_count": null,
      "outputs": [
        {
          "output_type": "execute_result",
          "data": {
            "text/plain": [
              "(7032, 21)"
            ]
          },
          "metadata": {},
          "execution_count": 9
        }
      ]
    },
    {
      "cell_type": "code",
      "source": [
        "df['TotalCharges'] = df['TotalCharges'].astype(float)"
      ],
      "metadata": {
        "colab": {
          "base_uri": "https://localhost:8080/"
        },
        "id": "BkXdopDlfGoU",
        "outputId": "f05dc06e-ab22-4345-f209-5d7576fe492b"
      },
      "execution_count": null,
      "outputs": [
        {
          "output_type": "stream",
          "name": "stderr",
          "text": [
            "/usr/local/lib/python3.7/dist-packages/ipykernel_launcher.py:1: SettingWithCopyWarning: \n",
            "A value is trying to be set on a copy of a slice from a DataFrame.\n",
            "Try using .loc[row_indexer,col_indexer] = value instead\n",
            "\n",
            "See the caveats in the documentation: https://pandas.pydata.org/pandas-docs/stable/user_guide/indexing.html#returning-a-view-versus-a-copy\n",
            "  \"\"\"Entry point for launching an IPython kernel.\n"
          ]
        }
      ]
    },
    {
      "cell_type": "code",
      "source": [
        "df.dtypes"
      ],
      "metadata": {
        "colab": {
          "base_uri": "https://localhost:8080/"
        },
        "id": "0SKJBa3pbJDW",
        "outputId": "a6255bfa-f86b-41aa-b934-01f52c2779b7"
      },
      "execution_count": null,
      "outputs": [
        {
          "output_type": "execute_result",
          "data": {
            "text/plain": [
              "customerID           object\n",
              "gender               object\n",
              "SeniorCitizen         int64\n",
              "Partner              object\n",
              "Dependents           object\n",
              "tenure                int64\n",
              "PhoneService         object\n",
              "MultipleLines        object\n",
              "InternetService      object\n",
              "OnlineSecurity       object\n",
              "OnlineBackup         object\n",
              "DeviceProtection     object\n",
              "TechSupport          object\n",
              "StreamingTV          object\n",
              "StreamingMovies      object\n",
              "Contract             object\n",
              "PaperlessBilling     object\n",
              "PaymentMethod        object\n",
              "MonthlyCharges      float64\n",
              "TotalCharges        float64\n",
              "Churn                object\n",
              "dtype: object"
            ]
          },
          "metadata": {},
          "execution_count": 11
        }
      ]
    },
    {
      "cell_type": "markdown",
      "source": [
        "We'll now explore the remaining categorical features."
      ],
      "metadata": {
        "id": "s-MauivlfUtb"
      }
    },
    {
      "cell_type": "code",
      "source": [
        "object_cols = df.select_dtypes(include='object')"
      ],
      "metadata": {
        "id": "cwJocBCKbL09"
      },
      "execution_count": null,
      "outputs": []
    },
    {
      "cell_type": "code",
      "source": [
        "for col in object_cols:\n",
        "    print(\"Column \" + col + \" has \" + str(df[col].nunique()) + \" unique values.\" )"
      ],
      "metadata": {
        "colab": {
          "base_uri": "https://localhost:8080/"
        },
        "id": "HqGu7kgfbaW2",
        "outputId": "43954c84-b936-4019-a329-afdc741c5b89"
      },
      "execution_count": null,
      "outputs": [
        {
          "output_type": "stream",
          "name": "stdout",
          "text": [
            "Column customerID has 7032 unique values.\n",
            "Column gender has 2 unique values.\n",
            "Column Partner has 2 unique values.\n",
            "Column Dependents has 2 unique values.\n",
            "Column PhoneService has 2 unique values.\n",
            "Column MultipleLines has 3 unique values.\n",
            "Column InternetService has 3 unique values.\n",
            "Column OnlineSecurity has 3 unique values.\n",
            "Column OnlineBackup has 3 unique values.\n",
            "Column DeviceProtection has 3 unique values.\n",
            "Column TechSupport has 3 unique values.\n",
            "Column StreamingTV has 3 unique values.\n",
            "Column StreamingMovies has 3 unique values.\n",
            "Column Contract has 3 unique values.\n",
            "Column PaperlessBilling has 2 unique values.\n",
            "Column PaymentMethod has 4 unique values.\n",
            "Column Churn has 2 unique values.\n"
          ]
        }
      ]
    },
    {
      "cell_type": "markdown",
      "source": [
        "There do not appear to be any extremely rare categorical values in our dataset. With that, we can proceed to converting the features to numeric binary, ordinal or dummy form. \n",
        "\n",
        "All Yes/No features will be converted to binary. For the remaining features, either customers don't have service, they have service (with the exception of PaymentMethod) customers don't have the feature or they have the feature. As a result, we will convert those features to ordinal form. PaymentMethod will be converted to dummy values as there is not a clear ordering for this feature.\n"
      ],
      "metadata": {
        "id": "Uy9Grq93gF9l"
      }
    },
    {
      "cell_type": "code",
      "source": [
        "sns.set(rc={'figure.figsize':(11,4)})\n",
        "\n",
        "for col in object_cols:\n",
        "    if col != 'customerID':\n",
        "        sns.barplot(x=df[col].value_counts().index, y=df[col].value_counts()).set_title(col)\n",
        "        plt.show()\n"
      ],
      "metadata": {
        "colab": {
          "base_uri": "https://localhost:8080/",
          "height": 1000
        },
        "id": "DsPT975gbpDn",
        "outputId": "89afacc8-b2a6-4fce-c050-ce4b81f2b5b3"
      },
      "execution_count": null,
      "outputs": [
        {
          "output_type": "display_data",
          "data": {
            "text/plain": [
              "<Figure size 792x288 with 1 Axes>"
            ],
            "image/png": "[encoded data removed]"
          },
          "metadata": {}
        },
        {
          "output_type": "display_data",
          "data": {
            "text/plain": [
              "<Figure size 792x288 with 1 Axes>"
            ],
            "image/png": "[encoded data removed]"
          },
          "metadata": {}
        },
        {
          "output_type": "display_data",
          "data": {
            "text/plain": [
              "<Figure size 792x288 with 1 Axes>"
            ],
            "image/png": "[encoded data removed]"
          },
          "metadata": {}
        },
        {
          "output_type": "display_data",
          "data": {
            "text/plain": [
              "<Figure size 792x288 with 1 Axes>"
            ],
            "image/png": "[encoded data removed]"
          },
          "metadata": {}
        },
        {
          "output_type": "display_data",
          "data": {
            "text/plain": [
              "<Figure size 792x288 with 1 Axes>"
            ],
            "image/png": "[encoded data removed]"
          },
          "metadata": {}
        },
        {
          "output_type": "display_data",
          "data": {
            "text/plain": [
              "<Figure size 792x288 with 1 Axes>"
            ],
            "image/png": "[encoded data removed]"
          },
          "metadata": {}
        },
        {
          "output_type": "display_data",
          "data": {
            "text/plain": [
              "<Figure size 792x288 with 1 Axes>"
            ],
            "image/png": "[encoded data removed]"
          },
          "metadata": {}
        },
        {
          "output_type": "display_data",
          "data": {
            "text/plain": [
              "<Figure size 792x288 with 1 Axes>"
            ],
            "image/png": "[encoded data removed]"
          },
          "metadata": {}
        },
        {
          "output_type": "display_data",
          "data": {
            "text/plain": [
              "<Figure size 792x288 with 1 Axes>"
            ],
            "image/png": "[encoded data removed]"
          },
          "metadata": {}
        },
        {
          "output_type": "display_data",
          "data": {
            "text/plain": [
              "<Figure size 792x288 with 1 Axes>"
            ],
            "image/png": "[encoded data removed]"
          },
          "metadata": {}
        },
        {
          "output_type": "display_data",
          "data": {
            "text/plain": [
              "<Figure size 792x288 with 1 Axes>"
            ],
            "image/png": "[encoded data removed]"
          },
          "metadata": {}
        },
        {
          "output_type": "display_data",
          "data": {
            "text/plain": [
              "<Figure size 792x288 with 1 Axes>"
            ],
            "image/png": "[encoded data removed]"
          },
          "metadata": {}
        },
        {
          "output_type": "display_data",
          "data": {
            "text/plain": [
              "<Figure size 792x288 with 1 Axes>"
            ],
            "image/png": "[encoded data removed]"
          },
          "metadata": {}
        },
        {
          "output_type": "display_data",
          "data": {
            "text/plain": [
              "<Figure size 792x288 with 1 Axes>"
            ],
            "image/png": "[encoded data removed]"
          },
          "metadata": {}
        },
        {
          "output_type": "display_data",
          "data": {
            "text/plain": [
              "<Figure size 792x288 with 1 Axes>"
            ],
            "image/png": "[encoded data removed]"
          },
          "metadata": {}
        },
        {
          "output_type": "display_data",
          "data": {
            "text/plain": [
              "<Figure size 792x288 with 1 Axes>"
            ],
            "image/png": "[encoded data removed]"
          },
          "metadata": {}
        }
      ]
    },
    {
      "cell_type": "code",
      "source": [
        "yes_no = []\n",
        "ordinal = []\n",
        "other = []\n",
        "for col in object_cols:\n",
        "    if col == 'customerID':\n",
        "        pass\n",
        "    elif col == 'contract':\n",
        "        contract.append(col)\n",
        "    elif df[col].nunique() == 3:\n",
        "        ordinal.append(col)\n",
        "    elif df[col].nunique() == 2:\n",
        "        yes_no.append(col)\n",
        "    else:\n",
        "        other.append(col)"
      ],
      "metadata": {
        "id": "P2zRKkPjhluS"
      },
      "execution_count": null,
      "outputs": []
    },
    {
      "cell_type": "code",
      "source": [
        "yes_no"
      ],
      "metadata": {
        "colab": {
          "base_uri": "https://localhost:8080/"
        },
        "id": "jOm1bZpwf0EJ",
        "outputId": "6473f9b2-47fa-4ea5-d1b3-6e037a3998ae"
      },
      "execution_count": null,
      "outputs": [
        {
          "output_type": "execute_result",
          "data": {
            "text/plain": [
              "['gender',\n",
              " 'Partner',\n",
              " 'Dependents',\n",
              " 'PhoneService',\n",
              " 'PaperlessBilling',\n",
              " 'Churn']"
            ]
          },
          "metadata": {},
          "execution_count": 16
        }
      ]
    },
    {
      "cell_type": "markdown",
      "source": [
        "Charts of binary values vs. Churn"
      ],
      "metadata": {
        "id": "nJDKLE0QpwYM"
      }
    },
    {
      "cell_type": "code",
      "source": [
        "fig, axlist = plt.subplots(3, 2, figsize=(20, 14))\n",
        "sns.countplot(x='gender', hue='Churn', data=df, ax=axlist[0][0])\n",
        "sns.countplot(x='Partner', hue='Churn', data=df, ax=axlist[0][1])\n",
        "sns.countplot(x='PhoneService', hue='Churn', data=df, ax=axlist[1][0])\n",
        "sns.countplot(x='PaperlessBilling', hue='Churn', data=df, ax=axlist[1][1])\n",
        "sns.countplot(x='Dependents', hue='Churn', data=df, ax=axlist[2][0])\n"
      ],
      "metadata": {
        "colab": {
          "base_uri": "https://localhost:8080/",
          "height": 604
        },
        "id": "urtqkexRoLva",
        "outputId": "336d176c-b587-410b-819d-3e98c20f41b0"
      },
      "execution_count": null,
      "outputs": [
        {
          "output_type": "execute_result",
          "data": {
            "text/plain": [
              "<matplotlib.axes._subplots.AxesSubplot at 0x7f2237665190>"
            ]
          },
          "metadata": {},
          "execution_count": 17
        },
        {
          "output_type": "display_data",
          "data": {
            "text/plain": [
              "<Figure size 1440x1008 with 6 Axes>"
            ],
            "image/png": "[encoded data removed]"
          },
          "metadata": {}
        }
      ]
    },
    {
      "cell_type": "code",
      "source": [
        "ordinal"
      ],
      "metadata": {
        "colab": {
          "base_uri": "https://localhost:8080/"
        },
        "id": "omKvXCcMia5d",
        "outputId": "fe90bb78-ccf1-4592-8f32-ba98d6f1f8dd"
      },
      "execution_count": null,
      "outputs": [
        {
          "output_type": "execute_result",
          "data": {
            "text/plain": [
              "['MultipleLines',\n",
              " 'InternetService',\n",
              " 'OnlineSecurity',\n",
              " 'OnlineBackup',\n",
              " 'DeviceProtection',\n",
              " 'TechSupport',\n",
              " 'StreamingTV',\n",
              " 'StreamingMovies',\n",
              " 'Contract']"
            ]
          },
          "metadata": {},
          "execution_count": 18
        }
      ]
    },
    {
      "cell_type": "markdown",
      "source": [
        "Charts of ordinal values vs. Churn"
      ],
      "metadata": {
        "id": "dfLhu2ucp5m-"
      }
    },
    {
      "cell_type": "code",
      "source": [
        "fig, axlist = plt.subplots(5, 2, figsize=(20, 16))\n",
        "sns.countplot(x='MultipleLines', hue='Churn', data=df, ax=axlist[0][0])\n",
        "sns.countplot(x='InternetService', hue='Churn', data=df, ax=axlist[0][1])\n",
        "sns.countplot(x='OnlineBackup', hue='Churn', data=df, ax=axlist[1][0])\n",
        "sns.countplot(x='OnlineSecurity', hue='Churn', data=df, ax=axlist[1][1])\n",
        "sns.countplot(x='DeviceProtection', hue='Churn', data=df, ax=axlist[2][0])\n",
        "sns.countplot(x='MultipleLines', hue='Churn', data=df, ax=axlist[2][1])\n",
        "sns.countplot(x='TechSupport', hue='Churn', data=df, ax=axlist[3][0])\n",
        "sns.countplot(x='StreamingMovies', hue='Churn', data=df, ax=axlist[3][1])\n",
        "sns.countplot(x='Contract', hue='Churn', data=df, ax=axlist[4][0])\n"
      ],
      "metadata": {
        "colab": {
          "base_uri": "https://localhost:8080/",
          "height": 681
        },
        "id": "vdBaQhUBpFID",
        "outputId": "266c1a7a-6670-4e26-ee17-08225b8a246b"
      },
      "execution_count": null,
      "outputs": [
        {
          "output_type": "execute_result",
          "data": {
            "text/plain": [
              "<matplotlib.axes._subplots.AxesSubplot at 0x7f22376a7a90>"
            ]
          },
          "metadata": {},
          "execution_count": 19
        },
        {
          "output_type": "display_data",
          "data": {
            "text/plain": [
              "<Figure size 1440x1152 with 10 Axes>"
            ],
            "image/png": "[encoded data removed]"
          },
          "metadata": {}
        }
      ]
    },
    {
      "cell_type": "markdown",
      "source": [
        "Chart of payment method vs. Churn"
      ],
      "metadata": {
        "id": "IFp4j_ifqAdh"
      }
    },
    {
      "cell_type": "code",
      "source": [
        "other"
      ],
      "metadata": {
        "colab": {
          "base_uri": "https://localhost:8080/"
        },
        "id": "Q2SiEz20icGD",
        "outputId": "f993a8f3-4943-478e-8c03-75ae0499a9cc"
      },
      "execution_count": null,
      "outputs": [
        {
          "output_type": "execute_result",
          "data": {
            "text/plain": [
              "['PaymentMethod']"
            ]
          },
          "metadata": {},
          "execution_count": 20
        }
      ]
    },
    {
      "cell_type": "code",
      "source": [
        "sns.countplot(x='PaymentMethod', hue='Churn', data=df)"
      ],
      "metadata": {
        "colab": {
          "base_uri": "https://localhost:8080/",
          "height": 302
        },
        "id": "U8DTUMZlposy",
        "outputId": "05997d07-fbea-4332-af8f-b293cc5db1c8"
      },
      "execution_count": null,
      "outputs": [
        {
          "output_type": "execute_result",
          "data": {
            "text/plain": [
              "<matplotlib.axes._subplots.AxesSubplot at 0x7f2237022910>"
            ]
          },
          "metadata": {},
          "execution_count": 21
        },
        {
          "output_type": "display_data",
          "data": {
            "text/plain": [
              "<Figure size 792x288 with 1 Axes>"
            ],
            "image/png": "[encoded data removed]"
          },
          "metadata": {}
        }
      ]
    },
    {
      "cell_type": "code",
      "source": [
        "yes_no_map = {\"Yes\":1, \"No\": 0}\n",
        "ordinal_map = {\"Yes\": 2, \"No\": 1, \"No internet service\": 0, \"No phone service\": 0}\n",
        "isp_map = {\"Fiber optic\": 2, \"DSL\": 1, \"No\": 0}\n",
        "contract_map = {\"Two year\": 2, \"One year\": 1, \"Month-to-month\": 0}\n",
        "mf_map = {\"Male\": 1, \"Female\": 0}\n",
        "\n",
        "for col in yes_no:\n",
        "    if col == 'gender':\n",
        "        df[col] = df[col].map(mf_map)\n",
        "    else:\n",
        "        df[col] = df[col].map(yes_no_map)\n",
        "\n",
        "for col in ordinal:\n",
        "    if col == 'Contract':\n",
        "        df[col] = df[col].map(contract_map)\n",
        "    elif col == 'InternetService':\n",
        "        df[col] = df[col].map(isp_map)\n",
        "    else:\n",
        "        df[col] = df[col].map(ordinal_map)\n"
      ],
      "metadata": {
        "id": "P9wIOXDPid2w"
      },
      "execution_count": null,
      "outputs": []
    },
    {
      "cell_type": "code",
      "source": [
        "df.drop(columns=['customerID'], inplace=True)"
      ],
      "metadata": {
        "id": "ZDH-pma0kGm3"
      },
      "execution_count": null,
      "outputs": []
    },
    {
      "cell_type": "code",
      "source": [
        "df = pd.get_dummies(df)"
      ],
      "metadata": {
        "id": "v0xHT2fzj0Oj"
      },
      "execution_count": null,
      "outputs": []
    },
    {
      "cell_type": "markdown",
      "source": [
        "We will also drop the customerID column, we now have all columns in numerical form. Note that monthly charges is a higher level of magnitude, as a result, we will scale all values by a MinMaxScaler before we proceed with model training for the manual models."
      ],
      "metadata": {
        "id": "LvgT6z1dlF3m"
      }
    },
    {
      "cell_type": "code",
      "source": [
        "df.describe()"
      ],
      "metadata": {
        "colab": {
          "base_uri": "https://localhost:8080/",
          "height": 428
        },
        "id": "ML3VpXiFk9E6",
        "outputId": "b14604d5-4568-4425-97b1-a5d6937cb136"
      },
      "execution_count": null,
      "outputs": [
        {
          "output_type": "execute_result",
          "data": {
            "text/plain": [
              "            gender  SeniorCitizen      Partner   Dependents       tenure  \\\n",
              "count  7032.000000    7032.000000  7032.000000  7032.000000  7032.000000   \n",
              "mean      0.504693       0.162400     0.482509     0.298493    32.421786   \n",
              "std       0.500014       0.368844     0.499729     0.457629    24.545260   \n",
              "min       0.000000       0.000000     0.000000     0.000000     1.000000   \n",
              "25%       0.000000       0.000000     0.000000     0.000000     9.000000   \n",
              "50%       1.000000       0.000000     0.000000     0.000000    29.000000   \n",
              "75%       1.000000       0.000000     1.000000     1.000000    55.000000   \n",
              "max       1.000000       1.000000     1.000000     1.000000    72.000000   \n",
              "\n",
              "       PhoneService  MultipleLines  InternetService  OnlineSecurity  \\\n",
              "count   7032.000000    7032.000000      7032.000000     7032.000000   \n",
              "mean       0.903299       1.325228         1.224118        1.070392   \n",
              "std        0.295571       0.642585         0.778643        0.705562   \n",
              "min        0.000000       0.000000         0.000000        0.000000   \n",
              "25%        1.000000       1.000000         1.000000        1.000000   \n",
              "50%        1.000000       1.000000         1.000000        1.000000   \n",
              "75%        1.000000       2.000000         2.000000        2.000000   \n",
              "max        1.000000       2.000000         2.000000        2.000000   \n",
              "\n",
              "       OnlineBackup  ...  StreamingMovies     Contract  PaperlessBilling  \\\n",
              "count   7032.000000  ...      7032.000000  7032.000000       7032.000000   \n",
              "mean       1.128697  ...         1.172213     0.688567          0.592719   \n",
              "std        0.737917  ...         0.758252     0.832934          0.491363   \n",
              "min        0.000000  ...         0.000000     0.000000          0.000000   \n",
              "25%        1.000000  ...         1.000000     0.000000          0.000000   \n",
              "50%        1.000000  ...         1.000000     0.000000          1.000000   \n",
              "75%        2.000000  ...         2.000000     1.000000          1.000000   \n",
              "max        2.000000  ...         2.000000     2.000000          1.000000   \n",
              "\n",
              "       MonthlyCharges  TotalCharges        Churn  \\\n",
              "count     7032.000000   7032.000000  7032.000000   \n",
              "mean        64.798208   2283.300441     0.265785   \n",
              "std         30.085974   2266.771362     0.441782   \n",
              "min         18.250000     18.800000     0.000000   \n",
              "25%         35.587500    401.450000     0.000000   \n",
              "50%         70.350000   1397.475000     0.000000   \n",
              "75%         89.862500   3794.737500     1.000000   \n",
              "max        118.750000   8684.800000     1.000000   \n",
              "\n",
              "       PaymentMethod_Bank transfer (automatic)  \\\n",
              "count                              7032.000000   \n",
              "mean                                  0.219283   \n",
              "std                                   0.413790   \n",
              "min                                   0.000000   \n",
              "25%                                   0.000000   \n",
              "50%                                   0.000000   \n",
              "75%                                   0.000000   \n",
              "max                                   1.000000   \n",
              "\n",
              "       PaymentMethod_Credit card (automatic)  PaymentMethod_Electronic check  \\\n",
              "count                            7032.000000                     7032.000000   \n",
              "mean                                0.216297                        0.336320   \n",
              "std                                 0.411748                        0.472483   \n",
              "min                                 0.000000                        0.000000   \n",
              "25%                                 0.000000                        0.000000   \n",
              "50%                                 0.000000                        0.000000   \n",
              "75%                                 0.000000                        1.000000   \n",
              "max                                 1.000000                        1.000000   \n",
              "\n",
              "       PaymentMethod_Mailed check  \n",
              "count                 7032.000000  \n",
              "mean                     0.228100  \n",
              "std                      0.419637  \n",
              "min                      0.000000  \n",
              "25%                      0.000000  \n",
              "50%                      0.000000  \n",
              "75%                      0.000000  \n",
              "max                      1.000000  \n",
              "\n",
              "[8 rows x 23 columns]"
            ],
            "text/html": [
              "\n",
              "  <div id=\"df-7b0f329f-5c5b-442a-b78c-f5f50d812cb5\">\n",
              "    <div class=\"colab-df-container\">\n",
              "      <div>\n",
              "<style scoped>\n",
              "    .dataframe tbody tr th:only-of-type {\n",
              "        vertical-align: middle;\n",
              "    }\n",
              "\n",
              "    .dataframe tbody tr th {\n",
              "        vertical-align: top;\n",
              "    }\n",
              "\n",
              "    .dataframe thead th {\n",
              "        text-align: right;\n",
              "    }\n",
              "</style>\n",
              "<table border=\"1\" class=\"dataframe\">\n",
              "  <thead>\n",
              "    <tr style=\"text-align: right;\">\n",
              "      <th></th>\n",
              "      <th>gender</th>\n",
              "      <th>SeniorCitizen</th>\n",
              "      <th>Partner</th>\n",
              "      <th>Dependents</th>\n",
              "      <th>tenure</th>\n",
              "      <th>PhoneService</th>\n",
              "      <th>MultipleLines</th>\n",
              "      <th>InternetService</th>\n",
              "      <th>OnlineSecurity</th>\n",
              "      <th>OnlineBackup</th>\n",
              "      <th>...</th>\n",
              "      <th>StreamingMovies</th>\n",
              "      <th>Contract</th>\n",
              "      <th>PaperlessBilling</th>\n",
              "      <th>MonthlyCharges</th>\n",
              "      <th>TotalCharges</th>\n",
              "      <th>Churn</th>\n",
              "      <th>PaymentMethod_Bank transfer (automatic)</th>\n",
              "      <th>PaymentMethod_Credit card (automatic)</th>\n",
              "      <th>PaymentMethod_Electronic check</th>\n",
              "      <th>PaymentMethod_Mailed check</th>\n",
              "    </tr>\n",
              "  </thead>\n",
              "  <tbody>\n",
              "    <tr>\n",
              "      <th>count</th>\n",
              "      <td>7032.000000</td>\n",
              "      <td>7032.000000</td>\n",
              "      <td>7032.000000</td>\n",
              "      <td>7032.000000</td>\n",
              "      <td>7032.000000</td>\n",
              "      <td>7032.000000</td>\n",
              "      <td>7032.000000</td>\n",
              "      <td>7032.000000</td>\n",
              "      <td>7032.000000</td>\n",
              "      <td>7032.000000</td>\n",
              "      <td>...</td>\n",
              "      <td>7032.000000</td>\n",
              "      <td>7032.000000</td>\n",
              "      <td>7032.000000</td>\n",
              "      <td>7032.000000</td>\n",
              "      <td>7032.000000</td>\n",
              "      <td>7032.000000</td>\n",
              "      <td>7032.000000</td>\n",
              "      <td>7032.000000</td>\n",
              "      <td>7032.000000</td>\n",
              "      <td>7032.000000</td>\n",
              "    </tr>\n",
              "    <tr>\n",
              "      <th>mean</th>\n",
              "      <td>0.504693</td>\n",
              "      <td>0.162400</td>\n",
              "      <td>0.482509</td>\n",
              "      <td>0.298493</td>\n",
              "      <td>32.421786</td>\n",
              "      <td>0.903299</td>\n",
              "      <td>1.325228</td>\n",
              "      <td>1.224118</td>\n",
              "      <td>1.070392</td>\n",
              "      <td>1.128697</td>\n",
              "      <td>...</td>\n",
              "      <td>1.172213</td>\n",
              "      <td>0.688567</td>\n",
              "      <td>0.592719</td>\n",
              "      <td>64.798208</td>\n",
              "      <td>2283.300441</td>\n",
              "      <td>0.265785</td>\n",
              "      <td>0.219283</td>\n",
              "      <td>0.216297</td>\n",
              "      <td>0.336320</td>\n",
              "      <td>0.228100</td>\n",
              "    </tr>\n",
              "    <tr>\n",
              "      <th>std</th>\n",
              "      <td>0.500014</td>\n",
              "      <td>0.368844</td>\n",
              "      <td>0.499729</td>\n",
              "      <td>0.457629</td>\n",
              "      <td>24.545260</td>\n",
              "      <td>0.295571</td>\n",
              "      <td>0.642585</td>\n",
              "      <td>0.778643</td>\n",
              "      <td>0.705562</td>\n",
              "      <td>0.737917</td>\n",
              "      <td>...</td>\n",
              "      <td>0.758252</td>\n",
              "      <td>0.832934</td>\n",
              "      <td>0.491363</td>\n",
              "      <td>30.085974</td>\n",
              "      <td>2266.771362</td>\n",
              "      <td>0.441782</td>\n",
              "      <td>0.413790</td>\n",
              "      <td>0.411748</td>\n",
              "      <td>0.472483</td>\n",
              "      <td>0.419637</td>\n",
              "    </tr>\n",
              "    <tr>\n",
              "      <th>min</th>\n",
              "      <td>0.000000</td>\n",
              "      <td>0.000000</td>\n",
              "      <td>0.000000</td>\n",
              "      <td>0.000000</td>\n",
              "      <td>1.000000</td>\n",
              "      <td>0.000000</td>\n",
              "      <td>0.000000</td>\n",
              "      <td>0.000000</td>\n",
              "      <td>0.000000</td>\n",
              "      <td>0.000000</td>\n",
              "      <td>...</td>\n",
              "      <td>0.000000</td>\n",
              "      <td>0.000000</td>\n",
              "      <td>0.000000</td>\n",
              "      <td>18.250000</td>\n",
              "      <td>18.800000</td>\n",
              "      <td>0.000000</td>\n",
              "      <td>0.000000</td>\n",
              "      <td>0.000000</td>\n",
              "      <td>0.000000</td>\n",
              "      <td>0.000000</td>\n",
              "    </tr>\n",
              "    <tr>\n",
              "      <th>25%</th>\n",
              "      <td>0.000000</td>\n",
              "      <td>0.000000</td>\n",
              "      <td>0.000000</td>\n",
              "      <td>0.000000</td>\n",
              "      <td>9.000000</td>\n",
              "      <td>1.000000</td>\n",
              "      <td>1.000000</td>\n",
              "      <td>1.000000</td>\n",
              "      <td>1.000000</td>\n",
              "      <td>1.000000</td>\n",
              "      <td>...</td>\n",
              "      <td>1.000000</td>\n",
              "      <td>0.000000</td>\n",
              "      <td>0.000000</td>\n",
              "      <td>35.587500</td>\n",
              "      <td>401.450000</td>\n",
              "      <td>0.000000</td>\n",
              "      <td>0.000000</td>\n",
              "      <td>0.000000</td>\n",
              "      <td>0.000000</td>\n",
              "      <td>0.000000</td>\n",
              "    </tr>\n",
              "    <tr>\n",
              "      <th>50%</th>\n",
              "      <td>1.000000</td>\n",
              "      <td>0.000000</td>\n",
              "      <td>0.000000</td>\n",
              "      <td>0.000000</td>\n",
              "      <td>29.000000</td>\n",
              "      <td>1.000000</td>\n",
              "      <td>1.000000</td>\n",
              "      <td>1.000000</td>\n",
              "      <td>1.000000</td>\n",
              "      <td>1.000000</td>\n",
              "      <td>...</td>\n",
              "      <td>1.000000</td>\n",
              "      <td>0.000000</td>\n",
              "      <td>1.000000</td>\n",
              "      <td>70.350000</td>\n",
              "      <td>1397.475000</td>\n",
              "      <td>0.000000</td>\n",
              "      <td>0.000000</td>\n",
              "      <td>0.000000</td>\n",
              "      <td>0.000000</td>\n",
              "      <td>0.000000</td>\n",
              "    </tr>\n",
              "    <tr>\n",
              "      <th>75%</th>\n",
              "      <td>1.000000</td>\n",
              "      <td>0.000000</td>\n",
              "      <td>1.000000</td>\n",
              "      <td>1.000000</td>\n",
              "      <td>55.000000</td>\n",
              "      <td>1.000000</td>\n",
              "      <td>2.000000</td>\n",
              "      <td>2.000000</td>\n",
              "      <td>2.000000</td>\n",
              "      <td>2.000000</td>\n",
              "      <td>...</td>\n",
              "      <td>2.000000</td>\n",
              "      <td>1.000000</td>\n",
              "      <td>1.000000</td>\n",
              "      <td>89.862500</td>\n",
              "      <td>3794.737500</td>\n",
              "      <td>1.000000</td>\n",
              "      <td>0.000000</td>\n",
              "      <td>0.000000</td>\n",
              "      <td>1.000000</td>\n",
              "      <td>0.000000</td>\n",
              "    </tr>\n",
              "    <tr>\n",
              "      <th>max</th>\n",
              "      <td>1.000000</td>\n",
              "      <td>1.000000</td>\n",
              "      <td>1.000000</td>\n",
              "      <td>1.000000</td>\n",
              "      <td>72.000000</td>\n",
              "      <td>1.000000</td>\n",
              "      <td>2.000000</td>\n",
              "      <td>2.000000</td>\n",
              "      <td>2.000000</td>\n",
              "      <td>2.000000</td>\n",
              "      <td>...</td>\n",
              "      <td>2.000000</td>\n",
              "      <td>2.000000</td>\n",
              "      <td>1.000000</td>\n",
              "      <td>118.750000</td>\n",
              "      <td>8684.800000</td>\n",
              "      <td>1.000000</td>\n",
              "      <td>1.000000</td>\n",
              "      <td>1.000000</td>\n",
              "      <td>1.000000</td>\n",
              "      <td>1.000000</td>\n",
              "    </tr>\n",
              "  </tbody>\n",
              "</table>\n",
              "<p>8 rows × 23 columns</p>\n",
              "</div>\n",
              "      <button class=\"colab-df-convert\" onclick=\"convertToInteractive('df-7b0f329f-5c5b-442a-b78c-f5f50d812cb5')\"\n",
              "              title=\"Convert this dataframe to an interactive table.\"\n",
              "              style=\"display:none;\">\n",
              "        \n",
              "  <svg xmlns=\"http://www.w3.org/2000/svg\" height=\"24px\"viewBox=\"0 0 24 24\"\n",
              "       width=\"24px\">\n",
              "    <path d=\"M0 0h24v24H0V0z\" fill=\"none\"/>\n",
              "    <path d=\"M18.56 5.44l.94 2.06.94-2.06 2.06-.94-2.06-.94-.94-2.06-.94 2.06-2.06.94zm-11 1L8.5 8.5l.94-2.06 2.06-.94-2.06-.94L8.5 2.5l-.94 2.06-2.06.94zm10 10l.94 2.06.94-2.06 2.06-.94-2.06-.94-.94-2.06-.94 2.06-2.06.94z\"/><path d=\"M17.41 7.96l-1.37-1.37c-.4-.4-.92-.59-1.43-.59-.52 0-1.04.2-1.43.59L10.3 9.45l-7.72 7.72c-.78.78-.78 2.05 0 2.83L4 21.41c.39.39.9.59 1.41.59.51 0 1.02-.2 1.41-.59l7.78-7.78 2.81-2.81c.8-.78.8-2.07 0-2.86zM5.41 20L4 18.59l7.72-7.72 1.47 1.35L5.41 20z\"/>\n",
              "  </svg>\n",
              "      </button>\n",
              "      \n",
              "  <style>\n",
              "    .colab-df-container {\n",
              "      display:flex;\n",
              "      flex-wrap:wrap;\n",
              "      gap: 12px;\n",
              "    }\n",
              "\n",
              "    .colab-df-convert {\n",
              "      background-color: #E8F0FE;\n",
              "      border: none;\n",
              "      border-radius: 50%;\n",
              "      cursor: pointer;\n",
              "      display: none;\n",
              "      fill: #1967D2;\n",
              "      height: 32px;\n",
              "      padding: 0 0 0 0;\n",
              "      width: 32px;\n",
              "    }\n",
              "\n",
              "    .colab-df-convert:hover {\n",
              "      background-color: #E2EBFA;\n",
              "      box-shadow: 0px 1px 2px rgba(60, 64, 67, 0.3), 0px 1px 3px 1px rgba(60, 64, 67, 0.15);\n",
              "      fill: #174EA6;\n",
              "    }\n",
              "\n",
              "    [theme=dark] .colab-df-convert {\n",
              "      background-color: #3B4455;\n",
              "      fill: #D2E3FC;\n",
              "    }\n",
              "\n",
              "    [theme=dark] .colab-df-convert:hover {\n",
              "      background-color: #434B5C;\n",
              "      box-shadow: 0px 1px 3px 1px rgba(0, 0, 0, 0.15);\n",
              "      filter: drop-shadow(0px 1px 2px rgba(0, 0, 0, 0.3));\n",
              "      fill: #FFFFFF;\n",
              "    }\n",
              "  </style>\n",
              "\n",
              "      <script>\n",
              "        const buttonEl =\n",
              "          document.querySelector('#df-7b0f329f-5c5b-442a-b78c-f5f50d812cb5 button.colab-df-convert');\n",
              "        buttonEl.style.display =\n",
              "          google.colab.kernel.accessAllowed ? 'block' : 'none';\n",
              "\n",
              "        async function convertToInteractive(key) {\n",
              "          const element = document.querySelector('#df-7b0f329f-5c5b-442a-b78c-f5f50d812cb5');\n",
              "          const dataTable =\n",
              "            await google.colab.kernel.invokeFunction('convertToInteractive',\n",
              "                                                     [key], {});\n",
              "          if (!dataTable) return;\n",
              "\n",
              "          const docLinkHtml = 'Like what you see? Visit the ' +\n",
              "            '<a target=\"_blank\" href=https://colab.research.google.com/notebooks/data_table.ipynb>data table notebook</a>'\n",
              "            + ' to learn more about interactive tables.';\n",
              "          element.innerHTML = '';\n",
              "          dataTable['output_type'] = 'display_data';\n",
              "          await google.colab.output.renderOutput(dataTable, element);\n",
              "          const docLink = document.createElement('div');\n",
              "          docLink.innerHTML = docLinkHtml;\n",
              "          element.appendChild(docLink);\n",
              "        }\n",
              "      </script>\n",
              "    </div>\n",
              "  </div>\n",
              "  "
            ]
          },
          "metadata": {},
          "execution_count": 25
        }
      ]
    },
    {
      "cell_type": "code",
      "source": [
        "from sklearn.model_selection import train_test_split\n",
        "\n",
        "Xtrain, Xtest, ytrain, ytest = train_test_split(df.drop(columns=['Churn']), df[['Churn']], test_size=0.25, random_state=231)"
      ],
      "metadata": {
        "id": "skUNMhK4k-2X"
      },
      "execution_count": null,
      "outputs": []
    },
    {
      "cell_type": "code",
      "source": [
        "from sklearn.preprocessing import MinMaxScaler\n",
        "\n",
        "Xtrain_m = Xtrain.copy()\n",
        "Xtest_m = Xtest.copy()\n",
        "\n",
        "min_max_scaler = MinMaxScaler()\n",
        "\n",
        "min_max_scaler.fit(Xtrain_m)\n",
        "Xtrain_m = min_max_scaler.transform(Xtrain_m)\n",
        "Xtest_m = min_max_scaler.transform(Xtest_m)"
      ],
      "metadata": {
        "id": "GdeTchT-lhzU"
      },
      "execution_count": null,
      "outputs": []
    },
    {
      "cell_type": "markdown",
      "source": [
        "We will run manual models with no model tuning using Logistic Regression, LightGBM and Deep Learning (TensorFlow)"
      ],
      "metadata": {
        "id": "oo-0gPE0qtBG"
      }
    },
    {
      "cell_type": "markdown",
      "source": [
        "# Logistic Regression\n",
        "\n"
      ],
      "metadata": {
        "id": "z9ydCCMh1uMN"
      }
    },
    {
      "cell_type": "code",
      "source": [
        "from sklearn.linear_model import LogisticRegression\n",
        "from sklearn.metrics import accuracy_score "
      ],
      "metadata": {
        "id": "s9jTTDiRmS6n"
      },
      "execution_count": null,
      "outputs": []
    },
    {
      "cell_type": "code",
      "source": [
        "lr = LogisticRegression()\n",
        "\n",
        "lr.fit(Xtrain_m, ytrain) \n",
        "ypred_train = lr.predict(Xtrain_m)\n",
        "ypred_test = lr.predict(Xtest_m)"
      ],
      "metadata": {
        "colab": {
          "base_uri": "https://localhost:8080/"
        },
        "id": "pnIErHI3sv7q",
        "outputId": "dbc34670-793e-4379-d103-c45070cc0c13"
      },
      "execution_count": null,
      "outputs": [
        {
          "output_type": "stream",
          "name": "stderr",
          "text": [
            "/usr/local/lib/python3.7/dist-packages/sklearn/utils/validation.py:993: DataConversionWarning: A column-vector y was passed when a 1d array was expected. Please change the shape of y to (n_samples, ), for example using ravel().\n",
            "  y = column_or_1d(y, warn=True)\n"
          ]
        }
      ]
    },
    {
      "cell_type": "code",
      "source": [
        "accuracy_score(ytrain, ypred_train)"
      ],
      "metadata": {
        "colab": {
          "base_uri": "https://localhost:8080/"
        },
        "id": "MCwRcqoO1QOg",
        "outputId": "4a3520f9-92fa-43c5-ac6e-3b1c79cd9617"
      },
      "execution_count": null,
      "outputs": [
        {
          "output_type": "execute_result",
          "data": {
            "text/plain": [
              "0.8035646568069776"
            ]
          },
          "metadata": {},
          "execution_count": 33
        }
      ]
    },
    {
      "cell_type": "code",
      "source": [
        "accuracy_score(ytest, ypred_test)"
      ],
      "metadata": {
        "colab": {
          "base_uri": "https://localhost:8080/"
        },
        "id": "NP_jHB7O1XhY",
        "outputId": "7f478e67-41ea-4431-fc4f-bac02c33cdad"
      },
      "execution_count": null,
      "outputs": [
        {
          "output_type": "execute_result",
          "data": {
            "text/plain": [
              "0.8060295790671217"
            ]
          },
          "metadata": {},
          "execution_count": 34
        }
      ]
    },
    {
      "cell_type": "markdown",
      "source": [
        "# LightGBM"
      ],
      "metadata": {
        "id": "x6dC9I5E12s4"
      }
    },
    {
      "cell_type": "code",
      "source": [
        "#from: https://www.kaggle.com/code/slavikonnikov/lightgbm-gpu-baseline-model-for-google-colab\n",
        "# After running\n",
        "#uncomment next line \n",
        "#! git clone --recursive https://github.com/Microsoft/LightGBM\n",
        "\n",
        "#You can run this oneliner which will build and compile LightGBM with GPU enabled in colab:\n",
        "#uncomment next line\n",
        "#! cd LightGBM && rm -rf build && mkdir build && cd build && cmake -DUSE_GPU=1 ../../LightGBM && make -j4 && cd ../python-package && python3 setup.py install --precompile --gpu;    "
      ],
      "metadata": {
        "id": "EJtLaktI1ZfL"
      },
      "execution_count": null,
      "outputs": []
    },
    {
      "cell_type": "code",
      "source": [
        "import lightgbm as lgb"
      ],
      "metadata": {
        "id": "hsQvzf_j1mfE"
      },
      "execution_count": null,
      "outputs": []
    },
    {
      "cell_type": "code",
      "source": [
        "lgbc = lgb.LGBMClassifier(max_depth=9, learning_rate=0.05, bagging_freq=8)"
      ],
      "metadata": {
        "id": "lrMdzrTr8tJW"
      },
      "execution_count": null,
      "outputs": []
    },
    {
      "cell_type": "code",
      "source": [
        "lgbc.fit(Xtrain_m, ytrain) \n",
        "\n",
        "ypred_train = lgbc.predict(Xtrain_m)\n",
        "ypred_test = lgbc.predict(Xtest_m)"
      ],
      "metadata": {
        "colab": {
          "base_uri": "https://localhost:8080/"
        },
        "id": "JFTUF_NC8xq-",
        "outputId": "8dcece3f-d9f6-496c-eab1-ca22e644650b"
      },
      "execution_count": null,
      "outputs": [
        {
          "output_type": "stream",
          "name": "stdout",
          "text": [
            "[LightGBM] [Warning] bagging_freq is set=8, subsample_freq=0 will be ignored. Current value: bagging_freq=8\n",
            "[LightGBM] [Warning] Accuracy may be bad since you didn't explicitly set num_leaves OR 2^max_depth > num_leaves. (num_leaves=31).\n",
            "[LightGBM] [Warning] bagging_freq is set=8, subsample_freq=0 will be ignored. Current value: bagging_freq=8\n",
            "[LightGBM] [Warning] Accuracy may be bad since you didn't explicitly set num_leaves OR 2^max_depth > num_leaves. (num_leaves=31).\n",
            "[LightGBM] [Info] Number of positive: 1419, number of negative: 3855\n",
            "[LightGBM] [Warning] Auto-choosing row-wise multi-threading, the overhead of testing was 0.000572 seconds.\n",
            "You can set `force_row_wise=true` to remove the overhead.\n",
            "And if memory is not enough, you can set `force_col_wise=true`.\n",
            "[LightGBM] [Info] Total Bins 629\n",
            "[LightGBM] [Info] Number of data points in the train set: 5274, number of used features: 22\n",
            "[LightGBM] [Info] [binary:BoostFromScore]: pavg=0.269056 -> initscore=-0.999419\n",
            "[LightGBM] [Info] Start training from score -0.999419\n",
            "[LightGBM] [Warning] bagging_freq is set=8, subsample_freq=0 will be ignored. Current value: bagging_freq=8\n",
            "[LightGBM] [Warning] Accuracy may be bad since you didn't explicitly set num_leaves OR 2^max_depth > num_leaves. (num_leaves=31).\n",
            "[LightGBM] [Warning] bagging_freq is set=8, subsample_freq=0 will be ignored. Current value: bagging_freq=8\n",
            "[LightGBM] [Warning] Accuracy may be bad since you didn't explicitly set num_leaves OR 2^max_depth > num_leaves. (num_leaves=31).\n"
          ]
        },
        {
          "output_type": "stream",
          "name": "stderr",
          "text": [
            "/usr/local/lib/python3.7/dist-packages/sklearn/preprocessing/_label.py:98: DataConversionWarning: A column-vector y was passed when a 1d array was expected. Please change the shape of y to (n_samples, ), for example using ravel().\n",
            "  y = column_or_1d(y, warn=True)\n",
            "/usr/local/lib/python3.7/dist-packages/sklearn/preprocessing/_label.py:133: DataConversionWarning: A column-vector y was passed when a 1d array was expected. Please change the shape of y to (n_samples, ), for example using ravel().\n",
            "  y = column_or_1d(y, warn=True)\n"
          ]
        }
      ]
    },
    {
      "cell_type": "code",
      "source": [
        "accuracy_score(ytrain, ypred_train)"
      ],
      "metadata": {
        "colab": {
          "base_uri": "https://localhost:8080/"
        },
        "id": "1NKV6a0q9T09",
        "outputId": "90b67ef4-2b59-4221-aa01-a57449d55988"
      },
      "execution_count": null,
      "outputs": [
        {
          "output_type": "execute_result",
          "data": {
            "text/plain": [
              "0.8485020857034509"
            ]
          },
          "metadata": {},
          "execution_count": 62
        }
      ]
    },
    {
      "cell_type": "code",
      "source": [
        "accuracy_score(ytest, ypred_test)"
      ],
      "metadata": {
        "colab": {
          "base_uri": "https://localhost:8080/"
        },
        "id": "QDteiTSEB__b",
        "outputId": "fe1f97dd-63d3-43a9-b3f8-663fe7ad7c76"
      },
      "execution_count": null,
      "outputs": [
        {
          "output_type": "execute_result",
          "data": {
            "text/plain": [
              "0.8020477815699659"
            ]
          },
          "metadata": {},
          "execution_count": 63
        }
      ]
    },
    {
      "cell_type": "code",
      "source": [
        "import tensorflow as tf\n",
        "from tensorflow.keras.models import Sequential\n",
        "from tensorflow.keras.layers import Dense, Softmax, Dropout"
      ],
      "metadata": {
        "id": "jSnFUGMxCCtl"
      },
      "execution_count": null,
      "outputs": []
    },
    {
      "cell_type": "code",
      "source": [
        "def model_tf(inp_shape):\n",
        "    model = Sequential([\n",
        "    Dense(64, activation='relu', input_shape=(inp_shape,)),\n",
        "    Dropout(0.25),\n",
        "    Dense(64, activation='relu'),\n",
        "    Dense(64, activation='relu'),\n",
        "    Dense(64, activation='relu'),\n",
        "    Dense(64, activation='relu'),\n",
        "    Dense(1, activation='sigmoid')\n",
        "    ])\n",
        "\n",
        "    model.compile(optimizer='adam', loss='binary_crossentropy', metrics=['accuracy'])\n",
        "    return model "
      ],
      "metadata": {
        "id": "DRSaok8pElrf"
      },
      "execution_count": null,
      "outputs": []
    },
    {
      "cell_type": "code",
      "source": [
        "from tensorflow.keras.callbacks import ModelCheckpoint"
      ],
      "metadata": {
        "id": "v_QtnN-SIVg_"
      },
      "execution_count": null,
      "outputs": []
    },
    {
      "cell_type": "code",
      "source": [
        "checkpoint_path = 'model_checkpoints/checkpoint'\n",
        "checkpoint = ModelCheckpoint(filepath=checkpoint_path,\n",
        "                            frequency='epoch',\n",
        "                            save_weights_only=True,\n",
        "                            save_best_only=True,\n",
        "                            verbose=1)"
      ],
      "metadata": {
        "id": "c9maKYaZH0uj"
      },
      "execution_count": null,
      "outputs": []
    },
    {
      "cell_type": "code",
      "source": [
        "model = model_tf(Xtrain_m.shape[1])"
      ],
      "metadata": {
        "id": "y_XOs_EdHdxe"
      },
      "execution_count": null,
      "outputs": []
    },
    {
      "cell_type": "code",
      "source": [
        "model.fit(Xtrain_m, ytrain, batch_size=64, epochs=30, validation_data=(Xtest_m, ytest), callbacks=[checkpoint])"
      ],
      "metadata": {
        "colab": {
          "base_uri": "https://localhost:8080/"
        },
        "id": "__P7TF-ZHkzP",
        "outputId": "ed1e6e2e-81cd-4eee-a1cd-3e750de03fa9"
      },
      "execution_count": null,
      "outputs": [
        {
          "output_type": "stream",
          "name": "stdout",
          "text": [
            "Epoch 1/30\n",
            "70/83 [========================>.....] - ETA: 0s - loss: 0.5313 - accuracy: 0.7299\n",
            "Epoch 1: val_loss did not improve from 0.40449\n",
            "83/83 [==============================] - 1s 6ms/step - loss: 0.5206 - accuracy: 0.7368 - val_loss: 0.4207 - val_accuracy: 0.7890\n",
            "Epoch 2/30\n",
            "70/83 [========================>.....] - ETA: 0s - loss: 0.4494 - accuracy: 0.7761\n",
            "Epoch 2: val_loss did not improve from 0.40449\n",
            "83/83 [==============================] - 0s 4ms/step - loss: 0.4509 - accuracy: 0.7755 - val_loss: 0.4154 - val_accuracy: 0.7969\n",
            "Epoch 3/30\n",
            "68/83 [=======================>......] - ETA: 0s - loss: 0.4428 - accuracy: 0.7877\n",
            "Epoch 3: val_loss did not improve from 0.40449\n",
            "83/83 [==============================] - 0s 4ms/step - loss: 0.4435 - accuracy: 0.7854 - val_loss: 0.4101 - val_accuracy: 0.8038\n",
            "Epoch 4/30\n",
            "83/83 [==============================] - ETA: 0s - loss: 0.4393 - accuracy: 0.7899\n",
            "Epoch 4: val_loss did not improve from 0.40449\n",
            "83/83 [==============================] - 0s 4ms/step - loss: 0.4393 - accuracy: 0.7899 - val_loss: 0.4099 - val_accuracy: 0.8032\n",
            "Epoch 5/30\n",
            "69/83 [=======================>......] - ETA: 0s - loss: 0.4366 - accuracy: 0.7942\n",
            "Epoch 5: val_loss did not improve from 0.40449\n",
            "83/83 [==============================] - 0s 4ms/step - loss: 0.4334 - accuracy: 0.7950 - val_loss: 0.4052 - val_accuracy: 0.8009\n",
            "Epoch 6/30\n",
            "68/83 [=======================>......] - ETA: 0s - loss: 0.4304 - accuracy: 0.7964\n",
            "Epoch 6: val_loss did not improve from 0.40449\n",
            "83/83 [==============================] - 0s 4ms/step - loss: 0.4331 - accuracy: 0.7937 - val_loss: 0.4127 - val_accuracy: 0.8032\n",
            "Epoch 7/30\n",
            "67/83 [=======================>......] - ETA: 0s - loss: 0.4226 - accuracy: 0.8008\n",
            "Epoch 7: val_loss did not improve from 0.40449\n",
            "83/83 [==============================] - 0s 4ms/step - loss: 0.4279 - accuracy: 0.7962 - val_loss: 0.4088 - val_accuracy: 0.8094\n",
            "Epoch 8/30\n",
            "69/83 [=======================>......] - ETA: 0s - loss: 0.4254 - accuracy: 0.8053\n",
            "Epoch 8: val_loss did not improve from 0.40449\n",
            "83/83 [==============================] - 0s 4ms/step - loss: 0.4280 - accuracy: 0.8026 - val_loss: 0.4094 - val_accuracy: 0.8094\n",
            "Epoch 9/30\n",
            "80/83 [===========================>..] - ETA: 0s - loss: 0.4254 - accuracy: 0.8018\n",
            "Epoch 9: val_loss did not improve from 0.40449\n",
            "83/83 [==============================] - 0s 4ms/step - loss: 0.4251 - accuracy: 0.8013 - val_loss: 0.4068 - val_accuracy: 0.8055\n",
            "Epoch 10/30\n",
            "69/83 [=======================>......] - ETA: 0s - loss: 0.4318 - accuracy: 0.7948\n",
            "Epoch 10: val_loss improved from 0.40449 to 0.40240, saving model to model_checkpoints/checkpoint\n",
            "83/83 [==============================] - 0s 4ms/step - loss: 0.4260 - accuracy: 0.7996 - val_loss: 0.4024 - val_accuracy: 0.8089\n",
            "Epoch 11/30\n",
            "70/83 [========================>.....] - ETA: 0s - loss: 0.4215 - accuracy: 0.8025\n",
            "Epoch 11: val_loss did not improve from 0.40240\n",
            "83/83 [==============================] - 0s 4ms/step - loss: 0.4223 - accuracy: 0.8032 - val_loss: 0.4088 - val_accuracy: 0.8089\n",
            "Epoch 12/30\n",
            "68/83 [=======================>......] - ETA: 0s - loss: 0.4270 - accuracy: 0.7989\n",
            "Epoch 12: val_loss did not improve from 0.40240\n",
            "83/83 [==============================] - 0s 4ms/step - loss: 0.4224 - accuracy: 0.8026 - val_loss: 0.4066 - val_accuracy: 0.8055\n",
            "Epoch 13/30\n",
            "68/83 [=======================>......] - ETA: 0s - loss: 0.4304 - accuracy: 0.8001\n",
            "Epoch 13: val_loss improved from 0.40240 to 0.40206, saving model to model_checkpoints/checkpoint\n",
            "83/83 [==============================] - 0s 4ms/step - loss: 0.4246 - accuracy: 0.8032 - val_loss: 0.4021 - val_accuracy: 0.8111\n",
            "Epoch 14/30\n",
            "71/83 [========================>.....] - ETA: 0s - loss: 0.4200 - accuracy: 0.8081\n",
            "Epoch 14: val_loss did not improve from 0.40206\n",
            "83/83 [==============================] - 0s 4ms/step - loss: 0.4189 - accuracy: 0.8077 - val_loss: 0.4038 - val_accuracy: 0.8003\n",
            "Epoch 15/30\n",
            "70/83 [========================>.....] - ETA: 0s - loss: 0.4202 - accuracy: 0.8018\n",
            "Epoch 15: val_loss did not improve from 0.40206\n",
            "83/83 [==============================] - 0s 4ms/step - loss: 0.4205 - accuracy: 0.8036 - val_loss: 0.4080 - val_accuracy: 0.8055\n",
            "Epoch 16/30\n",
            "73/83 [=========================>....] - ETA: 0s - loss: 0.4184 - accuracy: 0.8048\n",
            "Epoch 16: val_loss did not improve from 0.40206\n",
            "83/83 [==============================] - 0s 4ms/step - loss: 0.4189 - accuracy: 0.8049 - val_loss: 0.4042 - val_accuracy: 0.8015\n",
            "Epoch 17/30\n",
            "80/83 [===========================>..] - ETA: 0s - loss: 0.4200 - accuracy: 0.8043\n",
            "Epoch 17: val_loss did not improve from 0.40206\n",
            "83/83 [==============================] - 0s 4ms/step - loss: 0.4197 - accuracy: 0.8051 - val_loss: 0.4053 - val_accuracy: 0.8060\n",
            "Epoch 18/30\n",
            "73/83 [=========================>....] - ETA: 0s - loss: 0.4182 - accuracy: 0.8080\n",
            "Epoch 18: val_loss did not improve from 0.40206\n",
            "83/83 [==============================] - 0s 4ms/step - loss: 0.4181 - accuracy: 0.8075 - val_loss: 0.4075 - val_accuracy: 0.8026\n",
            "Epoch 19/30\n",
            "70/83 [========================>.....] - ETA: 0s - loss: 0.4118 - accuracy: 0.8087\n",
            "Epoch 19: val_loss did not improve from 0.40206\n",
            "83/83 [==============================] - 0s 4ms/step - loss: 0.4144 - accuracy: 0.8057 - val_loss: 0.4070 - val_accuracy: 0.8043\n",
            "Epoch 20/30\n",
            "70/83 [========================>.....] - ETA: 0s - loss: 0.4105 - accuracy: 0.8112\n",
            "Epoch 20: val_loss did not improve from 0.40206\n",
            "83/83 [==============================] - 0s 4ms/step - loss: 0.4128 - accuracy: 0.8096 - val_loss: 0.4170 - val_accuracy: 0.8009\n",
            "Epoch 21/30\n",
            "69/83 [=======================>......] - ETA: 0s - loss: 0.4147 - accuracy: 0.8093\n",
            "Epoch 21: val_loss did not improve from 0.40206\n",
            "83/83 [==============================] - 0s 4ms/step - loss: 0.4154 - accuracy: 0.8060 - val_loss: 0.4053 - val_accuracy: 0.8043\n",
            "Epoch 22/30\n",
            "81/83 [============================>.] - ETA: 0s - loss: 0.4125 - accuracy: 0.8054\n",
            "Epoch 22: val_loss did not improve from 0.40206\n",
            "83/83 [==============================] - 0s 4ms/step - loss: 0.4126 - accuracy: 0.8053 - val_loss: 0.4099 - val_accuracy: 0.7958\n",
            "Epoch 23/30\n",
            "67/83 [=======================>......] - ETA: 0s - loss: 0.4109 - accuracy: 0.8099\n",
            "Epoch 23: val_loss did not improve from 0.40206\n",
            "83/83 [==============================] - 0s 4ms/step - loss: 0.4118 - accuracy: 0.8123 - val_loss: 0.4121 - val_accuracy: 0.7998\n",
            "Epoch 24/30\n",
            "73/83 [=========================>....] - ETA: 0s - loss: 0.4123 - accuracy: 0.8074\n",
            "Epoch 24: val_loss did not improve from 0.40206\n",
            "83/83 [==============================] - 0s 4ms/step - loss: 0.4114 - accuracy: 0.8085 - val_loss: 0.4064 - val_accuracy: 0.8060\n",
            "Epoch 25/30\n",
            "70/83 [========================>.....] - ETA: 0s - loss: 0.4158 - accuracy: 0.7991\n",
            "Epoch 25: val_loss did not improve from 0.40206\n",
            "83/83 [==============================] - 0s 4ms/step - loss: 0.4136 - accuracy: 0.8017 - val_loss: 0.4045 - val_accuracy: 0.8009\n",
            "Epoch 26/30\n",
            "69/83 [=======================>......] - ETA: 0s - loss: 0.4105 - accuracy: 0.8093\n",
            "Epoch 26: val_loss did not improve from 0.40206\n",
            "83/83 [==============================] - 0s 4ms/step - loss: 0.4088 - accuracy: 0.8102 - val_loss: 0.4087 - val_accuracy: 0.8003\n",
            "Epoch 27/30\n",
            "73/83 [=========================>....] - ETA: 0s - loss: 0.4085 - accuracy: 0.8108\n",
            "Epoch 27: val_loss did not improve from 0.40206\n",
            "83/83 [==============================] - 0s 4ms/step - loss: 0.4088 - accuracy: 0.8102 - val_loss: 0.4115 - val_accuracy: 0.7958\n",
            "Epoch 28/30\n",
            "70/83 [========================>.....] - ETA: 0s - loss: 0.4139 - accuracy: 0.8114\n",
            "Epoch 28: val_loss did not improve from 0.40206\n",
            "83/83 [==============================] - 0s 4ms/step - loss: 0.4085 - accuracy: 0.8130 - val_loss: 0.4120 - val_accuracy: 0.7952\n",
            "Epoch 29/30\n",
            "70/83 [========================>.....] - ETA: 0s - loss: 0.4021 - accuracy: 0.8141\n",
            "Epoch 29: val_loss did not improve from 0.40206\n",
            "83/83 [==============================] - 0s 4ms/step - loss: 0.4059 - accuracy: 0.8110 - val_loss: 0.4049 - val_accuracy: 0.8032\n",
            "Epoch 30/30\n",
            "75/83 [==========================>...] - ETA: 0s - loss: 0.4045 - accuracy: 0.8106\n",
            "Epoch 30: val_loss did not improve from 0.40206\n",
            "83/83 [==============================] - 0s 4ms/step - loss: 0.4075 - accuracy: 0.8085 - val_loss: 0.4087 - val_accuracy: 0.8003\n"
          ]
        },
        {
          "output_type": "execute_result",
          "data": {
            "text/plain": [
              "<keras.callbacks.History at 0x7f21c88b7710>"
            ]
          },
          "metadata": {},
          "execution_count": 98
        }
      ]
    },
    {
      "cell_type": "code",
      "source": [
        "tf.keras.backend.clear_session()"
      ],
      "metadata": {
        "id": "C-u1JdWQIfGz"
      },
      "execution_count": null,
      "outputs": []
    },
    {
      "cell_type": "code",
      "source": [
        "model = model_tf(Xtrain_m.shape[1])\n",
        "model.load_weights(checkpoint_path)"
      ],
      "metadata": {
        "colab": {
          "base_uri": "https://localhost:8080/"
        },
        "id": "7urK6T8OJFBo",
        "outputId": "8c6b4064-fad8-41f1-91d4-541d67b46542"
      },
      "execution_count": null,
      "outputs": [
        {
          "output_type": "execute_result",
          "data": {
            "text/plain": [
              "<tensorflow.python.training.tracking.util.CheckpointLoadStatus at 0x7f21bce2f550>"
            ]
          },
          "metadata": {},
          "execution_count": 100
        }
      ]
    },
    {
      "cell_type": "code",
      "source": [
        "model.evaluate(Xtrain_m, ytrain)"
      ],
      "metadata": {
        "colab": {
          "base_uri": "https://localhost:8080/"
        },
        "id": "XlfIL5QJJmz1",
        "outputId": "eb0a21c6-36c0-42be-a579-ff8f0f318305"
      },
      "execution_count": null,
      "outputs": [
        {
          "output_type": "stream",
          "name": "stdout",
          "text": [
            "165/165 [==============================] - 1s 2ms/step - loss: 0.4094 - accuracy: 0.8085\n"
          ]
        },
        {
          "output_type": "execute_result",
          "data": {
            "text/plain": [
              "[0.40940508246421814, 0.808494508266449]"
            ]
          },
          "metadata": {},
          "execution_count": 101
        }
      ]
    },
    {
      "cell_type": "code",
      "source": [
        "model.evaluate(Xtest_m, ytest)"
      ],
      "metadata": {
        "colab": {
          "base_uri": "https://localhost:8080/"
        },
        "id": "1WOytvToJY_z",
        "outputId": "c24cec08-2237-4738-b611-42cab817e24a"
      },
      "execution_count": null,
      "outputs": [
        {
          "output_type": "stream",
          "name": "stdout",
          "text": [
            "55/55 [==============================] - 0s 3ms/step - loss: 0.4021 - accuracy: 0.8111\n"
          ]
        },
        {
          "output_type": "execute_result",
          "data": {
            "text/plain": [
              "[0.40205591917037964, 0.8111490607261658]"
            ]
          },
          "metadata": {},
          "execution_count": 102
        }
      ]
    },
    {
      "cell_type": "markdown",
      "source": [
        "# Auto ML with H2O"
      ],
      "metadata": {
        "id": "AW2Cp4INL8Yi"
      }
    },
    {
      "cell_type": "code",
      "source": [
        "#uncomment next line\n",
        "#!pip install h2o"
      ],
      "metadata": {
        "id": "83OKzPTkJg22"
      },
      "execution_count": null,
      "outputs": []
    },
    {
      "cell_type": "code",
      "source": [
        "from h2o.automl import H2OAutoML\n",
        "import h2o\n",
        "h2o.init()"
      ],
      "metadata": {
        "colab": {
          "base_uri": "https://localhost:8080/",
          "height": 544
        },
        "id": "1lLvjzgdLiIx",
        "outputId": "8e2e81d8-d2e7-4446-8a60-5daa33cf565d"
      },
      "execution_count": null,
      "outputs": [
        {
          "output_type": "stream",
          "name": "stdout",
          "text": [
            "Checking whether there is an H2O instance running at http://localhost:54321 ..... not found.\n",
            "Attempting to start a local H2O server...\n",
            "  Java Version: openjdk version \"11.0.16\" 2022-07-19; OpenJDK Runtime Environment (build 11.0.16+8-post-Ubuntu-0ubuntu118.04); OpenJDK 64-Bit Server VM (build 11.0.16+8-post-Ubuntu-0ubuntu118.04, mixed mode, sharing)\n",
            "  Starting server from /usr/local/lib/python3.7/dist-packages/h2o/backend/bin/h2o.jar\n",
            "  Ice root: /tmp/tmpffvy55qq\n",
            "  JVM stdout: /tmp/tmpffvy55qq/h2o_unknownUser_started_from_python.out\n",
            "  JVM stderr: /tmp/tmpffvy55qq/h2o_unknownUser_started_from_python.err\n",
            "  Server is running at http://127.0.0.1:54321\n",
            "Connecting to H2O server at http://127.0.0.1:54321 ... successful.\n"
          ]
        },
        {
          "output_type": "display_data",
          "data": {
            "text/plain": [
              "--------------------------  ----------------------------------\n",
              "H2O_cluster_uptime:         03 secs\n",
              "H2O_cluster_timezone:       Etc/UTC\n",
              "H2O_data_parsing_timezone:  UTC\n",
              "H2O_cluster_version:        3.38.0.1\n",
              "H2O_cluster_version_age:    6 days\n",
              "H2O_cluster_name:           H2O_from_python_unknownUser_c600as\n",
              "H2O_cluster_total_nodes:    1\n",
              "H2O_cluster_free_memory:    3.172 Gb\n",
              "H2O_cluster_total_cores:    2\n",
              "H2O_cluster_allowed_cores:  2\n",
              "H2O_cluster_status:         locked, healthy\n",
              "H2O_connection_url:         http://127.0.0.1:54321\n",
              "H2O_connection_proxy:       {\"http\": null, \"https\": null}\n",
              "H2O_internal_security:      False\n",
              "Python_version:             3.7.14 final\n",
              "--------------------------  ----------------------------------"
            ],
            "text/html": [
              "\n",
              "<style>\n",
              "\n",
              "#h2o-table-1.h2o-container {\n",
              "  overflow-x: auto;\n",
              "}\n",
              "#h2o-table-1 .h2o-table {\n",
              "  /* width: 100%; */\n",
              "  margin-top: 1em;\n",
              "  margin-bottom: 1em;\n",
              "}\n",
              "#h2o-table-1 .h2o-table caption {\n",
              "  white-space: nowrap;\n",
              "  caption-side: top;\n",
              "  text-align: left;\n",
              "  /* margin-left: 1em; */\n",
              "  margin: 0;\n",
              "  font-size: larger;\n",
              "}\n",
              "#h2o-table-1 .h2o-table thead {\n",
              "  white-space: nowrap; \n",
              "  position: sticky;\n",
              "  top: 0;\n",
              "  box-shadow: 0 -1px inset;\n",
              "}\n",
              "#h2o-table-1 .h2o-table tbody {\n",
              "  overflow: auto;\n",
              "}\n",
              "#h2o-table-1 .h2o-table th,\n",
              "#h2o-table-1 .h2o-table td {\n",
              "  text-align: right;\n",
              "  /* border: 1px solid; */\n",
              "}\n",
              "#h2o-table-1 .h2o-table tr:nth-child(even) {\n",
              "  /* background: #F5F5F5 */\n",
              "}\n",
              "\n",
              "</style>      \n",
              "<div id=\"h2o-table-1\" class=\"h2o-container\">\n",
              "  <table class=\"h2o-table\">\n",
              "    <caption></caption>\n",
              "    <thead></thead>\n",
              "    <tbody><tr><td>H2O_cluster_uptime:</td>\n",
              "<td>03 secs</td></tr>\n",
              "<tr><td>H2O_cluster_timezone:</td>\n",
              "<td>Etc/UTC</td></tr>\n",
              "<tr><td>H2O_data_parsing_timezone:</td>\n",
              "<td>UTC</td></tr>\n",
              "<tr><td>H2O_cluster_version:</td>\n",
              "<td>3.38.0.1</td></tr>\n",
              "<tr><td>H2O_cluster_version_age:</td>\n",
              "<td>6 days </td></tr>\n",
              "<tr><td>H2O_cluster_name:</td>\n",
              "<td>H2O_from_python_unknownUser_c600as</td></tr>\n",
              "<tr><td>H2O_cluster_total_nodes:</td>\n",
              "<td>1</td></tr>\n",
              "<tr><td>H2O_cluster_free_memory:</td>\n",
              "<td>3.172 Gb</td></tr>\n",
              "<tr><td>H2O_cluster_total_cores:</td>\n",
              "<td>2</td></tr>\n",
              "<tr><td>H2O_cluster_allowed_cores:</td>\n",
              "<td>2</td></tr>\n",
              "<tr><td>H2O_cluster_status:</td>\n",
              "<td>locked, healthy</td></tr>\n",
              "<tr><td>H2O_connection_url:</td>\n",
              "<td>http://127.0.0.1:54321</td></tr>\n",
              "<tr><td>H2O_connection_proxy:</td>\n",
              "<td>{\"http\": null, \"https\": null}</td></tr>\n",
              "<tr><td>H2O_internal_security:</td>\n",
              "<td>False</td></tr>\n",
              "<tr><td>Python_version:</td>\n",
              "<td>3.7.14 final</td></tr></tbody>\n",
              "  </table>\n",
              "</div>\n"
            ]
          },
          "metadata": {}
        }
      ]
    },
    {
      "cell_type": "code",
      "source": [
        "df = pd.read_csv('/content/gdrive/MyDrive/telco_churn.csv')"
      ],
      "metadata": {
        "id": "kWMXOzNTMvF0"
      },
      "execution_count": null,
      "outputs": []
    },
    {
      "cell_type": "code",
      "source": [
        "df = df[df['TotalCharges'] != ' ']"
      ],
      "metadata": {
        "id": "eMcTy0ffNztV"
      },
      "execution_count": null,
      "outputs": []
    },
    {
      "cell_type": "code",
      "source": [
        "df['TotalCharges'] = df['TotalCharges'].astype(float)"
      ],
      "metadata": {
        "id": "nGq9wVVoOBba"
      },
      "execution_count": null,
      "outputs": []
    },
    {
      "cell_type": "code",
      "source": [
        "hf = h2o.H2OFrame(df)"
      ],
      "metadata": {
        "colab": {
          "base_uri": "https://localhost:8080/"
        },
        "id": "f6RbeTiVNa9v",
        "outputId": "76c4482e-01e3-4452-ef0f-677a476a620c"
      },
      "execution_count": null,
      "outputs": [
        {
          "output_type": "stream",
          "name": "stdout",
          "text": [
            "Parse progress: |████████████████████████████████████████████████████████████████| (done) 100%\n"
          ]
        }
      ]
    },
    {
      "cell_type": "code",
      "source": [
        "Xtrain, Xtest = hf.split_frame(ratios=[0.75])"
      ],
      "metadata": {
        "id": "gJnmoPPQOMO5"
      },
      "execution_count": null,
      "outputs": []
    },
    {
      "cell_type": "code",
      "source": [
        "Xtrain"
      ],
      "metadata": {
        "colab": {
          "base_uri": "https://localhost:8080/",
          "height": 583
        },
        "id": "URsaAqJAPx-P",
        "outputId": "b482a321-ecfb-4a95-c76d-6dde053fdd61"
      },
      "execution_count": null,
      "outputs": [
        {
          "output_type": "execute_result",
          "data": {
            "text/plain": [
              "customerID    gender      SeniorCitizen  Partner    Dependents      tenure  PhoneService    MultipleLines     InternetService    OnlineSecurity       OnlineBackup         DeviceProtection     TechSupport          StreamingTV          StreamingMovies      Contract        PaperlessBilling    PaymentMethod                MonthlyCharges    TotalCharges  Churn\n",
              "------------  --------  ---------------  ---------  ------------  --------  --------------  ----------------  -----------------  -------------------  -------------------  -------------------  -------------------  -------------------  -------------------  --------------  ------------------  -------------------------  ----------------  --------------  -------\n",
              "5575-GNVDE    Male                    0  No         No                  34  Yes             No                DSL                Yes                  No                   Yes                  No                   No                   No                   One year        No                  Mailed check                          56.95         1889.5   No\n",
              "7795-CFOCW    Male                    0  No         No                  45  No              No phone service  DSL                Yes                  No                   Yes                  Yes                  No                   No                   One year        No                  Bank transfer (automatic)             42.3          1840.75  No\n",
              "9237-HQITU    Female                  0  No         No                   2  Yes             No                Fiber optic        No                   No                   No                   No                   No                   No                   Month-to-month  Yes                 Electronic check                      70.7           151.65  Yes\n",
              "9305-CDSKC    Female                  0  No         No                   8  Yes             Yes               Fiber optic        No                   No                   Yes                  No                   Yes                  Yes                  Month-to-month  Yes                 Electronic check                      99.65          820.5   Yes\n",
              "1452-KIOVK    Male                    0  No         Yes                 22  Yes             Yes               Fiber optic        No                   Yes                  No                   No                   Yes                  No                   Month-to-month  Yes                 Credit card (automatic)               89.1          1949.4   No\n",
              "6713-OKOMC    Female                  0  No         No                  10  No              No phone service  DSL                Yes                  No                   No                   No                   No                   No                   Month-to-month  No                  Mailed check                          29.75          301.9   No\n",
              "6388-TABGU    Male                    0  No         Yes                 62  Yes             No                DSL                Yes                  Yes                  No                   No                   No                   No                   One year        No                  Bank transfer (automatic)             56.15         3487.95  No\n",
              "9763-GRSKD    Male                    0  Yes        Yes                 13  Yes             No                DSL                Yes                  No                   No                   No                   No                   No                   Month-to-month  Yes                 Mailed check                          49.95          587.45  No\n",
              "7469-LKBCI    Male                    0  No         No                  16  Yes             No                No                 No internet service  No internet service  No internet service  No internet service  No internet service  No internet service  Two year        No                  Credit card (automatic)               18.95          326.8   No\n",
              "0280-XJGEX    Male                    0  No         No                  49  Yes             Yes               Fiber optic        No                   Yes                  Yes                  No                   Yes                  Yes                  Month-to-month  Yes                 Bank transfer (automatic)            103.7          5036.3   Yes\n",
              "[5304 rows x 21 columns]\n"
            ],
            "text/html": [
              "<table class='dataframe'>\n",
              "<thead>\n",
              "<tr><th>customerID  </th><th>gender  </th><th style=\"text-align: right;\">  SeniorCitizen</th><th>Partner  </th><th>Dependents  </th><th style=\"text-align: right;\">  tenure</th><th>PhoneService  </th><th>MultipleLines   </th><th>InternetService  </th><th>OnlineSecurity     </th><th>OnlineBackup       </th><th>DeviceProtection   </th><th>TechSupport        </th><th>StreamingTV        </th><th>StreamingMovies    </th><th>Contract      </th><th>PaperlessBilling  </th><th>PaymentMethod            </th><th style=\"text-align: right;\">  MonthlyCharges</th><th style=\"text-align: right;\">  TotalCharges</th><th>Churn  </th></tr>\n",
              "</thead>\n",
              "<tbody>\n",
              "<tr><td>5575-GNVDE  </td><td>Male    </td><td style=\"text-align: right;\">              0</td><td>No       </td><td>No          </td><td style=\"text-align: right;\">      34</td><td>Yes           </td><td>No              </td><td>DSL              </td><td>Yes                </td><td>No                 </td><td>Yes                </td><td>No                 </td><td>No                 </td><td>No                 </td><td>One year      </td><td>No                </td><td>Mailed check             </td><td style=\"text-align: right;\">           56.95</td><td style=\"text-align: right;\">       1889.5 </td><td>No     </td></tr>\n",
              "<tr><td>7795-CFOCW  </td><td>Male    </td><td style=\"text-align: right;\">              0</td><td>No       </td><td>No          </td><td style=\"text-align: right;\">      45</td><td>No            </td><td>No phone service</td><td>DSL              </td><td>Yes                </td><td>No                 </td><td>Yes                </td><td>Yes                </td><td>No                 </td><td>No                 </td><td>One year      </td><td>No                </td><td>Bank transfer (automatic)</td><td style=\"text-align: right;\">           42.3 </td><td style=\"text-align: right;\">       1840.75</td><td>No     </td></tr>\n",
              "<tr><td>9237-HQITU  </td><td>Female  </td><td style=\"text-align: right;\">              0</td><td>No       </td><td>No          </td><td style=\"text-align: right;\">       2</td><td>Yes           </td><td>No              </td><td>Fiber optic      </td><td>No                 </td><td>No                 </td><td>No                 </td><td>No                 </td><td>No                 </td><td>No                 </td><td>Month-to-month</td><td>Yes               </td><td>Electronic check         </td><td style=\"text-align: right;\">           70.7 </td><td style=\"text-align: right;\">        151.65</td><td>Yes    </td></tr>\n",
              "<tr><td>9305-CDSKC  </td><td>Female  </td><td style=\"text-align: right;\">              0</td><td>No       </td><td>No          </td><td style=\"text-align: right;\">       8</td><td>Yes           </td><td>Yes             </td><td>Fiber optic      </td><td>No                 </td><td>No                 </td><td>Yes                </td><td>No                 </td><td>Yes                </td><td>Yes                </td><td>Month-to-month</td><td>Yes               </td><td>Electronic check         </td><td style=\"text-align: right;\">           99.65</td><td style=\"text-align: right;\">        820.5 </td><td>Yes    </td></tr>\n",
              "<tr><td>1452-KIOVK  </td><td>Male    </td><td style=\"text-align: right;\">              0</td><td>No       </td><td>Yes         </td><td style=\"text-align: right;\">      22</td><td>Yes           </td><td>Yes             </td><td>Fiber optic      </td><td>No                 </td><td>Yes                </td><td>No                 </td><td>No                 </td><td>Yes                </td><td>No                 </td><td>Month-to-month</td><td>Yes               </td><td>Credit card (automatic)  </td><td style=\"text-align: right;\">           89.1 </td><td style=\"text-align: right;\">       1949.4 </td><td>No     </td></tr>\n",
              "<tr><td>6713-OKOMC  </td><td>Female  </td><td style=\"text-align: right;\">              0</td><td>No       </td><td>No          </td><td style=\"text-align: right;\">      10</td><td>No            </td><td>No phone service</td><td>DSL              </td><td>Yes                </td><td>No                 </td><td>No                 </td><td>No                 </td><td>No                 </td><td>No                 </td><td>Month-to-month</td><td>No                </td><td>Mailed check             </td><td style=\"text-align: right;\">           29.75</td><td style=\"text-align: right;\">        301.9 </td><td>No     </td></tr>\n",
              "<tr><td>6388-TABGU  </td><td>Male    </td><td style=\"text-align: right;\">              0</td><td>No       </td><td>Yes         </td><td style=\"text-align: right;\">      62</td><td>Yes           </td><td>No              </td><td>DSL              </td><td>Yes                </td><td>Yes                </td><td>No                 </td><td>No                 </td><td>No                 </td><td>No                 </td><td>One year      </td><td>No                </td><td>Bank transfer (automatic)</td><td style=\"text-align: right;\">           56.15</td><td style=\"text-align: right;\">       3487.95</td><td>No     </td></tr>\n",
              "<tr><td>9763-GRSKD  </td><td>Male    </td><td style=\"text-align: right;\">              0</td><td>Yes      </td><td>Yes         </td><td style=\"text-align: right;\">      13</td><td>Yes           </td><td>No              </td><td>DSL              </td><td>Yes                </td><td>No                 </td><td>No                 </td><td>No                 </td><td>No                 </td><td>No                 </td><td>Month-to-month</td><td>Yes               </td><td>Mailed check             </td><td style=\"text-align: right;\">           49.95</td><td style=\"text-align: right;\">        587.45</td><td>No     </td></tr>\n",
              "<tr><td>7469-LKBCI  </td><td>Male    </td><td style=\"text-align: right;\">              0</td><td>No       </td><td>No          </td><td style=\"text-align: right;\">      16</td><td>Yes           </td><td>No              </td><td>No               </td><td>No internet service</td><td>No internet service</td><td>No internet service</td><td>No internet service</td><td>No internet service</td><td>No internet service</td><td>Two year      </td><td>No                </td><td>Credit card (automatic)  </td><td style=\"text-align: right;\">           18.95</td><td style=\"text-align: right;\">        326.8 </td><td>No     </td></tr>\n",
              "<tr><td>0280-XJGEX  </td><td>Male    </td><td style=\"text-align: right;\">              0</td><td>No       </td><td>No          </td><td style=\"text-align: right;\">      49</td><td>Yes           </td><td>Yes             </td><td>Fiber optic      </td><td>No                 </td><td>Yes                </td><td>Yes                </td><td>No                 </td><td>Yes                </td><td>Yes                </td><td>Month-to-month</td><td>Yes               </td><td>Bank transfer (automatic)</td><td style=\"text-align: right;\">          103.7 </td><td style=\"text-align: right;\">       5036.3 </td><td>Yes    </td></tr>\n",
              "</tbody>\n",
              "</table><pre style='font-size: smaller; margin-bottom: 1em;'>[5304 rows x 21 columns]</pre>"
            ]
          },
          "metadata": {},
          "execution_count": 114
        }
      ]
    },
    {
      "cell_type": "code",
      "source": [
        "y = 'Churn'\n",
        "x = Xtrain.columns\n",
        "x.remove('customerID')\n",
        "x.remove(y)\n"
      ],
      "metadata": {
        "id": "0XQcIHCQP4xl"
      },
      "execution_count": null,
      "outputs": []
    },
    {
      "cell_type": "code",
      "source": [
        "aml = H2OAutoML(max_runtime_secs=1200, max_models=20, seed=231, nfolds=5)"
      ],
      "metadata": {
        "id": "fBT43XiTRGcq"
      },
      "execution_count": null,
      "outputs": []
    },
    {
      "cell_type": "code",
      "source": [
        "aml.train(x=x, y=y, training_frame=Xtrain)"
      ],
      "metadata": {
        "colab": {
          "base_uri": "https://localhost:8080/",
          "height": 1000
        },
        "id": "s3S0JoTHRLzK",
        "outputId": "5023dd33-1cbf-4465-83c0-9dbe27479985"
      },
      "execution_count": null,
      "outputs": [
        {
          "output_type": "stream",
          "name": "stdout",
          "text": [
            "AutoML progress: |███████████████████████████████████████████████████████████████| (done) 100%\n"
          ]
        },
        {
          "output_type": "execute_result",
          "data": {
            "text/plain": [
              "Model Details\n",
              "=============\n",
              "H2OStackedEnsembleEstimator : Stacked Ensemble\n",
              "Model Key: StackedEnsemble_BestOfFamily_1_AutoML_1_20220925_153127\n",
              "\n",
              "No summary for this model\n",
              "\n",
              "ModelMetricsBinomialGLM: stackedensemble\n",
              "** Reported on train data. **\n",
              "\n",
              "MSE: 0.11322760642659926\n",
              "RMSE: 0.3364931001173713\n",
              "LogLoss: 0.35541661553772225\n",
              "AUC: 0.8988037318882014\n",
              "AUCPR: 0.7776193395782413\n",
              "Gini: 0.7976074637764028\n",
              "Null degrees of freedom: 5303\n",
              "Residual degrees of freedom: 5298\n",
              "Null deviance: 6165.051315282894\n",
              "Residual deviance: 3770.259457624158\n",
              "AIC: 3782.259457624158\n",
              "\n",
              "Confusion Matrix (Act/Pred) for max f1 @ threshold = 0.34143582399587713\n",
              "       No    Yes    Error    Rate\n",
              "-----  ----  -----  -------  --------------\n",
              "No     3218  665    0.1713   (665.0/3883.0)\n",
              "Yes    298   1123   0.2097   (298.0/1421.0)\n",
              "Total  3516  1788   0.1816   (963.0/5304.0)\n",
              "\n",
              "Maximum Metrics: Maximum metrics at their respective thresholds\n",
              "metric                       threshold    value     idx\n",
              "---------------------------  -----------  --------  -----\n",
              "max f1                       0.341436     0.699907  208\n",
              "max f2                       0.207832     0.796023  269\n",
              "max f0point5                 0.575681     0.726881  113\n",
              "max accuracy                 0.545375     0.839932  126\n",
              "max precision                0.889546     1         0\n",
              "max recall                   0.0151062    1         386\n",
              "max specificity              0.889546     1         0\n",
              "max absolute_mcc             0.402325     0.583436  182\n",
              "max min_per_class_accuracy   0.318339     0.810713  218\n",
              "max mean_per_class_accuracy  0.281829     0.817738  233\n",
              "max tns                      0.889546     3883      0\n",
              "max fns                      0.889546     1419      0\n",
              "max fps                      0.00498838   3883      399\n",
              "max tps                      0.0151062    1421      386\n",
              "max tnr                      0.889546     1         0\n",
              "max fnr                      0.889546     0.998593  0\n",
              "max fpr                      0.00498838   1         399\n",
              "max tpr                      0.0151062    1         386\n",
              "\n",
              "Gains/Lift Table: Avg response rate: 26.79 %, avg score: 26.61 %\n",
              "group    cumulative_data_fraction    lower_threshold    lift       cumulative_lift    response_rate    score       cumulative_response_rate    cumulative_score    capture_rate    cumulative_capture_rate    gain      cumulative_gain    kolmogorov_smirnov\n",
              "-------  --------------------------  -----------------  ---------  -----------------  ---------------  ----------  --------------------------  ------------------  --------------  -------------------------  --------  -----------------  --------------------\n",
              "1        0.010181                    0.838061           3.66346    3.66346            0.981481         0.856421    0.981481                    0.856421            0.0372977       0.0372977                  266.346   266.346            0.0370401\n",
              "2        0.0201735                   0.820176           3.66216    3.66281            0.981132         0.829542    0.981308                    0.843107            0.0365939       0.0738916                  266.216   266.281            0.0733766\n",
              "3        0.0301659                   0.798748           3.66216    3.6626             0.981132         0.808629    0.98125                     0.831686            0.0365939       0.110486                   266.216   266.26             0.109713\n",
              "4        0.0401584                   0.77785            3.45088    3.60992            0.924528         0.789009    0.967136                    0.821067            0.0344828       0.144968                   245.088   260.992            0.143166\n",
              "5        0.0501508                   0.754166           3.2396     3.53613            0.867925         0.76504     0.947368                    0.809904            0.0323716       0.17734                    223.96    253.613            0.173734\n",
              "6        0.100113                    0.662994           2.9579     3.24756            0.792453         0.706046    0.870056                    0.758072            0.147783        0.325123                   195.79    224.756            0.307353\n",
              "7        0.150075                    0.590518           2.84521    3.11361            0.762264         0.625413    0.834171                    0.713908            0.142153        0.467277                   184.521   211.361            0.433282\n",
              "8        0.200038                    0.523506           2.11278    2.86364            0.566038         0.558985    0.767201                    0.675214            0.105559        0.572836                   111.278   186.364            0.509225\n",
              "9        0.299962                    0.382832           1.62684    2.45163            0.435849         0.451548    0.65682                     0.600705            0.162562        0.735398                   62.6843   145.163            0.594785\n",
              "10       0.400264                    0.274191           1.24887    2.15023            0.334586         0.325345    0.576072                    0.531703            0.125264        0.860662                   24.8872   115.023            0.628882\n",
              "11       0.5                         0.185781           0.69148    1.85925            0.185255         0.227554    0.498115                    0.471034            0.0689655       0.929627                   -30.852   85.9254            0.586851\n",
              "12       0.599925                    0.115715           0.394386   1.61526            0.10566          0.149434    0.432747                    0.417468            0.0394089       0.969036                   -60.5614  61.5263            0.504189\n",
              "13       0.700038                    0.0601835          0.231968   1.41744            0.0621469        0.0865056   0.379747                    0.370136            0.0232231       0.992259                   -76.8032  41.7436            0.399161\n",
              "14       0.799962                    0.0278961          0.0492983  1.24654            0.0132075        0.0423695   0.333962                    0.329195            0.00492611      0.997185                   -95.0702  24.654             0.269397\n",
              "15       0.899887                    0.0122139          0.0281704  1.11125            0.00754717       0.019267    0.297716                    0.29478             0.00281492      1                          -97.183   11.1251            0.13675\n",
              "16       1                           0.00402215         0          1                  0                0.00841372  0.267911                    0.266111            0               1                          -100      0                  0\n",
              "\n",
              "ModelMetricsBinomialGLM: stackedensemble\n",
              "** Reported on cross-validation data. **\n",
              "\n",
              "MSE: 0.13434037247273328\n",
              "RMSE: 0.3665247228670029\n",
              "LogLoss: 0.41310300703548397\n",
              "AUC: 0.8485561940815294\n",
              "AUCPR: 0.671470634372008\n",
              "Gini: 0.6971123881630588\n",
              "Null degrees of freedom: 5303\n",
              "Residual degrees of freedom: 5299\n",
              "Null deviance: 6166.497254160711\n",
              "Residual deviance: 4382.196698632414\n",
              "AIC: 4392.196698632414\n",
              "\n",
              "Confusion Matrix (Act/Pred) for max f1 @ threshold = 0.31911421104299165\n",
              "       No    Yes    Error    Rate\n",
              "-----  ----  -----  -------  ---------------\n",
              "No     3042  841    0.2166   (841.0/3883.0)\n",
              "Yes    364   1057   0.2562   (364.0/1421.0)\n",
              "Total  3406  1898   0.2272   (1205.0/5304.0)\n",
              "\n",
              "Maximum Metrics: Maximum metrics at their respective thresholds\n",
              "metric                       threshold    value     idx\n",
              "---------------------------  -----------  --------  -----\n",
              "max f1                       0.319114     0.636939  217\n",
              "max f2                       0.133414     0.751396  311\n",
              "max f0point5                 0.483736     0.638382  147\n",
              "max accuracy                 0.483736     0.80543   147\n",
              "max precision                0.908153     1         0\n",
              "max recall                   0.00628916   1         397\n",
              "max specificity              0.908153     1         0\n",
              "max absolute_mcc             0.422633     0.490615  171\n",
              "max min_per_class_accuracy   0.300294     0.762843  225\n",
              "max mean_per_class_accuracy  0.246056     0.767832  252\n",
              "max tns                      0.908153     3883      0\n",
              "max fns                      0.908153     1420      0\n",
              "max fps                      0.00393074   3883      399\n",
              "max tps                      0.00628916   1421      397\n",
              "max tnr                      0.908153     1         0\n",
              "max fnr                      0.908153     0.999296  0\n",
              "max fpr                      0.00393074   1         399\n",
              "max tpr                      0.00628916   1         397\n",
              "\n",
              "Gains/Lift Table: Avg response rate: 26.79 %, avg score: 26.79 %\n",
              "group    cumulative_data_fraction    lower_threshold    lift       cumulative_lift    response_rate    score      cumulative_response_rate    cumulative_score    capture_rate    cumulative_capture_rate    gain      cumulative_gain    kolmogorov_smirnov\n",
              "-------  --------------------------  -----------------  ---------  -----------------  ---------------  ---------  --------------------------  ------------------  --------------  -------------------------  --------  -----------------  --------------------\n",
              "1        0.010181                    0.836647           3.38697    3.38697            0.907407         0.853916   0.907407                    0.853916            0.0344828       0.0344828                  238.697   238.697            0.0331951\n",
              "2        0.0201735                   0.809903           3.2396     3.31398            0.867925         0.820371   0.88785                     0.8373              0.0323716       0.0668543                  223.96    231.398            0.0637639\n",
              "3        0.0301659                   0.786103           3.38045    3.336              0.90566          0.798598   0.89375                     0.82448             0.033779        0.100633                   238.045   233.6              0.0962553\n",
              "4        0.0401584                   0.76283            3.45088    3.36458            0.924528         0.772976   0.901408                    0.811665            0.0344828       0.135116                   245.088   236.458            0.129708\n",
              "5        0.0501508                   0.743129           2.88747    3.26952            0.773585         0.752044   0.87594                     0.799785            0.0288529       0.163969                   188.747   226.952            0.15547\n",
              "6        0.100113                    0.657593           2.54942    2.91015            0.683019         0.700925   0.779661                    0.750448            0.127375        0.291344                   154.942   191.015            0.261213\n",
              "7        0.150075                    0.585146           2.11278    2.64469            0.566038         0.618304   0.708543                    0.706455            0.105559        0.396904                   111.278   164.469            0.337156\n",
              "8        0.200038                    0.521572           2.14095    2.51888            0.573585         0.554144   0.674835                    0.668414            0.106967        0.503871                   114.095   151.888            0.415022\n",
              "9        0.299962                    0.387254           1.66206    2.23345            0.445283         0.454205   0.598366                    0.597056            0.16608         0.669951                   66.2056   123.345            0.505387\n",
              "10       0.400075                    0.274972           1.19499    1.97359            0.320151         0.3296     0.528746                    0.530129            0.119634        0.789585                   19.4989   97.359             0.532052\n",
              "11       0.5                         0.187259           0.83807    1.74666            0.224528         0.231821   0.467949                    0.470512            0.0837438       0.873329                   -16.193   74.6657            0.50995\n",
              "12       0.599925                    0.122414           0.640877   1.56248            0.171698         0.152688   0.418605                    0.417575            0.0640394       0.937368                   -35.9123  56.2476            0.460932\n",
              "13       0.700038                    0.0677745          0.295233   1.38125            0.079096         0.0935935  0.370051                    0.371242            0.0295567       0.966925                   -70.4767  38.1247            0.364555\n",
              "14       0.799962                    0.0322643          0.246491   1.2395             0.0660377        0.0488427  0.332076                    0.33097             0.0246305       0.991555                   -75.3509  23.9502            0.261707\n",
              "15       0.899887                    0.0142643          0.0422557  1.10656            0.0113208        0.0226847  0.296459                    0.296738            0.00422238      0.995778                   -95.7744  10.6559            0.130982\n",
              "16       1                           0.00304697         0.0421761  1                  0.0112994        0.0089712  0.267911                    0.267929            0.00422238      1                          -95.7824  0                  0\n",
              "\n",
              "Cross-Validation Metrics Summary: \n",
              "                      mean        sd            cv_1_valid    cv_2_valid    cv_3_valid    cv_4_valid    cv_5_valid\n",
              "--------------------  ----------  ------------  ------------  ------------  ------------  ------------  ------------\n",
              "accuracy              0.78643787  0.022375805   0.76663625    0.8048327     0.7634307     0.8135593     0.78373015\n",
              "auc                   0.84861094  0.0044146343  0.84962445    0.84324276    0.84510267    0.854106      0.850979\n",
              "err                   0.21356216  0.022375805   0.23336372    0.19516729    0.23656927    0.18644068    0.21626984\n",
              "err_count             226.6       25.628109     256.0         210.0         251.0         198.0         218.0\n",
              "f0point5              0.60906017  0.032738335   0.5736894     0.6196581     0.5783009     0.6515868     0.6220657\n",
              "f1                    0.6464908   0.015345141   0.64444447    0.6236559     0.64295876    0.6609589     0.66043615\n",
              "f2                    0.69223285  0.043609846   0.7351077     0.62770563    0.72389495    0.6706046     0.7038513\n",
              "lift_top_group        3.3256273   0.5641508     3.8356643     3.544137      2.3607755     3.38756       3.5\n",
              "logloss               0.41313744  0.0064458097  0.40867248    0.41050893    0.4192345     0.40650547    0.4207658\n",
              "max_per_class_error   0.2903576   0.05398929    0.24907522    0.36956522    0.24645162    0.322807      0.2638889\n",
              "---                   ---         ---           ---           ---           ---           ---           ---\n",
              "mean_per_class_error  0.23190337  0.012294729   0.21894321    0.25228262    0.22812091    0.22961457    0.23055555\n",
              "mse                   0.13435446  0.0023539395  0.13333355    0.13314024    0.13639876    0.13167048    0.13722928\n",
              "null_deviance         1233.2994   18.405037     1259.3778     1226.4126     1236.7621     1235.3677     1208.577\n",
              "pr_auc                0.672602    0.024107553   0.65453374    0.6631117     0.65076154    0.6870296     0.7075735\n",
              "precision             0.587581    0.048059132   0.53456223    0.61702126    0.54196644    0.6454849     0.59887004\n",
              "r2                    0.314863    0.012681896   0.30822355    0.30187237    0.30725485    0.32938763    0.32757655\n",
              "recall                0.7290275   0.075748384   0.8111888     0.6304348     0.7902098     0.677193      0.7361111\n",
              "residual_deviance     876.26794   19.956936     896.62744     883.4152      889.61566     863.4176      848.2638\n",
              "rmse                  0.3665327   0.0032084165  0.36514866    0.36488387    0.36932203    0.36286426    0.3704447\n",
              "specificity           0.80716574  0.05608977    0.75092477    0.865         0.7535484     0.86357784    0.80277777\n",
              "[22 rows x 8 columns]\n",
              "\n",
              "\n",
              "[tips]\n",
              "Use `model.explain()` to inspect the model.\n",
              "--\n",
              "Use `h2o.display.toggle_user_tips()` to switch on/off this section."
            ],
            "text/html": [
              "<pre style='margin: 1em 0 1em 0;'>Model Details\n",
              "=============\n",
              "H2OStackedEnsembleEstimator : Stacked Ensemble\n",
              "Model Key: StackedEnsemble_BestOfFamily_1_AutoML_1_20220925_153127\n",
              "\n",
              "No summary for this model</pre>\n",
              "<div style='margin: 1em 0 1em 0;'><pre style='margin: 1em 0 1em 0;'>ModelMetricsBinomialGLM: stackedensemble\n",
              "** Reported on train data. **\n",
              "\n",
              "MSE: 0.11322760642659926\n",
              "RMSE: 0.3364931001173713\n",
              "LogLoss: 0.35541661553772225\n",
              "AUC: 0.8988037318882014\n",
              "AUCPR: 0.7776193395782413\n",
              "Gini: 0.7976074637764028\n",
              "Null degrees of freedom: 5303\n",
              "Residual degrees of freedom: 5298\n",
              "Null deviance: 6165.051315282894\n",
              "Residual deviance: 3770.259457624158\n",
              "AIC: 3782.259457624158</pre>\n",
              "<div style='margin: 1em 0 1em 0;'>\n",
              "<style>\n",
              "\n",
              "#h2o-table-2.h2o-container {\n",
              "  overflow-x: auto;\n",
              "}\n",
              "#h2o-table-2 .h2o-table {\n",
              "  /* width: 100%; */\n",
              "  margin-top: 1em;\n",
              "  margin-bottom: 1em;\n",
              "}\n",
              "#h2o-table-2 .h2o-table caption {\n",
              "  white-space: nowrap;\n",
              "  caption-side: top;\n",
              "  text-align: left;\n",
              "  /* margin-left: 1em; */\n",
              "  margin: 0;\n",
              "  font-size: larger;\n",
              "}\n",
              "#h2o-table-2 .h2o-table thead {\n",
              "  white-space: nowrap; \n",
              "  position: sticky;\n",
              "  top: 0;\n",
              "  box-shadow: 0 -1px inset;\n",
              "}\n",
              "#h2o-table-2 .h2o-table tbody {\n",
              "  overflow: auto;\n",
              "}\n",
              "#h2o-table-2 .h2o-table th,\n",
              "#h2o-table-2 .h2o-table td {\n",
              "  text-align: right;\n",
              "  /* border: 1px solid; */\n",
              "}\n",
              "#h2o-table-2 .h2o-table tr:nth-child(even) {\n",
              "  /* background: #F5F5F5 */\n",
              "}\n",
              "\n",
              "</style>      \n",
              "<div id=\"h2o-table-2\" class=\"h2o-container\">\n",
              "  <table class=\"h2o-table\">\n",
              "    <caption>Confusion Matrix (Act/Pred) for max f1 @ threshold = 0.34143582399587713</caption>\n",
              "    <thead><tr><th></th>\n",
              "<th>No</th>\n",
              "<th>Yes</th>\n",
              "<th>Error</th>\n",
              "<th>Rate</th></tr></thead>\n",
              "    <tbody><tr><td>No</td>\n",
              "<td>3218.0</td>\n",
              "<td>665.0</td>\n",
              "<td>0.1713</td>\n",
              "<td> (665.0/3883.0)</td></tr>\n",
              "<tr><td>Yes</td>\n",
              "<td>298.0</td>\n",
              "<td>1123.0</td>\n",
              "<td>0.2097</td>\n",
              "<td> (298.0/1421.0)</td></tr>\n",
              "<tr><td>Total</td>\n",
              "<td>3516.0</td>\n",
              "<td>1788.0</td>\n",
              "<td>0.1816</td>\n",
              "<td> (963.0/5304.0)</td></tr></tbody>\n",
              "  </table>\n",
              "</div>\n",
              "</div>\n",
              "<div style='margin: 1em 0 1em 0;'>\n",
              "<style>\n",
              "\n",
              "#h2o-table-3.h2o-container {\n",
              "  overflow-x: auto;\n",
              "}\n",
              "#h2o-table-3 .h2o-table {\n",
              "  /* width: 100%; */\n",
              "  margin-top: 1em;\n",
              "  margin-bottom: 1em;\n",
              "}\n",
              "#h2o-table-3 .h2o-table caption {\n",
              "  white-space: nowrap;\n",
              "  caption-side: top;\n",
              "  text-align: left;\n",
              "  /* margin-left: 1em; */\n",
              "  margin: 0;\n",
              "  font-size: larger;\n",
              "}\n",
              "#h2o-table-3 .h2o-table thead {\n",
              "  white-space: nowrap; \n",
              "  position: sticky;\n",
              "  top: 0;\n",
              "  box-shadow: 0 -1px inset;\n",
              "}\n",
              "#h2o-table-3 .h2o-table tbody {\n",
              "  overflow: auto;\n",
              "}\n",
              "#h2o-table-3 .h2o-table th,\n",
              "#h2o-table-3 .h2o-table td {\n",
              "  text-align: right;\n",
              "  /* border: 1px solid; */\n",
              "}\n",
              "#h2o-table-3 .h2o-table tr:nth-child(even) {\n",
              "  /* background: #F5F5F5 */\n",
              "}\n",
              "\n",
              "</style>      \n",
              "<div id=\"h2o-table-3\" class=\"h2o-container\">\n",
              "  <table class=\"h2o-table\">\n",
              "    <caption>Maximum Metrics: Maximum metrics at their respective thresholds</caption>\n",
              "    <thead><tr><th>metric</th>\n",
              "<th>threshold</th>\n",
              "<th>value</th>\n",
              "<th>idx</th></tr></thead>\n",
              "    <tbody><tr><td>max f1</td>\n",
              "<td>0.3414358</td>\n",
              "<td>0.6999065</td>\n",
              "<td>208.0</td></tr>\n",
              "<tr><td>max f2</td>\n",
              "<td>0.2078325</td>\n",
              "<td>0.7960229</td>\n",
              "<td>269.0</td></tr>\n",
              "<tr><td>max f0point5</td>\n",
              "<td>0.5756807</td>\n",
              "<td>0.7268813</td>\n",
              "<td>113.0</td></tr>\n",
              "<tr><td>max accuracy</td>\n",
              "<td>0.5453750</td>\n",
              "<td>0.8399321</td>\n",
              "<td>126.0</td></tr>\n",
              "<tr><td>max precision</td>\n",
              "<td>0.8895458</td>\n",
              "<td>1.0</td>\n",
              "<td>0.0</td></tr>\n",
              "<tr><td>max recall</td>\n",
              "<td>0.0151062</td>\n",
              "<td>1.0</td>\n",
              "<td>386.0</td></tr>\n",
              "<tr><td>max specificity</td>\n",
              "<td>0.8895458</td>\n",
              "<td>1.0</td>\n",
              "<td>0.0</td></tr>\n",
              "<tr><td>max absolute_mcc</td>\n",
              "<td>0.4023255</td>\n",
              "<td>0.5834361</td>\n",
              "<td>182.0</td></tr>\n",
              "<tr><td>max min_per_class_accuracy</td>\n",
              "<td>0.3183385</td>\n",
              "<td>0.8107134</td>\n",
              "<td>218.0</td></tr>\n",
              "<tr><td>max mean_per_class_accuracy</td>\n",
              "<td>0.2818290</td>\n",
              "<td>0.8177380</td>\n",
              "<td>233.0</td></tr>\n",
              "<tr><td>max tns</td>\n",
              "<td>0.8895458</td>\n",
              "<td>3883.0</td>\n",
              "<td>0.0</td></tr>\n",
              "<tr><td>max fns</td>\n",
              "<td>0.8895458</td>\n",
              "<td>1419.0</td>\n",
              "<td>0.0</td></tr>\n",
              "<tr><td>max fps</td>\n",
              "<td>0.0049884</td>\n",
              "<td>3883.0</td>\n",
              "<td>399.0</td></tr>\n",
              "<tr><td>max tps</td>\n",
              "<td>0.0151062</td>\n",
              "<td>1421.0</td>\n",
              "<td>386.0</td></tr>\n",
              "<tr><td>max tnr</td>\n",
              "<td>0.8895458</td>\n",
              "<td>1.0</td>\n",
              "<td>0.0</td></tr>\n",
              "<tr><td>max fnr</td>\n",
              "<td>0.8895458</td>\n",
              "<td>0.9985925</td>\n",
              "<td>0.0</td></tr>\n",
              "<tr><td>max fpr</td>\n",
              "<td>0.0049884</td>\n",
              "<td>1.0</td>\n",
              "<td>399.0</td></tr>\n",
              "<tr><td>max tpr</td>\n",
              "<td>0.0151062</td>\n",
              "<td>1.0</td>\n",
              "<td>386.0</td></tr></tbody>\n",
              "  </table>\n",
              "</div>\n",
              "</div>\n",
              "<div style='margin: 1em 0 1em 0;'>\n",
              "<style>\n",
              "\n",
              "#h2o-table-4.h2o-container {\n",
              "  overflow-x: auto;\n",
              "}\n",
              "#h2o-table-4 .h2o-table {\n",
              "  /* width: 100%; */\n",
              "  margin-top: 1em;\n",
              "  margin-bottom: 1em;\n",
              "}\n",
              "#h2o-table-4 .h2o-table caption {\n",
              "  white-space: nowrap;\n",
              "  caption-side: top;\n",
              "  text-align: left;\n",
              "  /* margin-left: 1em; */\n",
              "  margin: 0;\n",
              "  font-size: larger;\n",
              "}\n",
              "#h2o-table-4 .h2o-table thead {\n",
              "  white-space: nowrap; \n",
              "  position: sticky;\n",
              "  top: 0;\n",
              "  box-shadow: 0 -1px inset;\n",
              "}\n",
              "#h2o-table-4 .h2o-table tbody {\n",
              "  overflow: auto;\n",
              "}\n",
              "#h2o-table-4 .h2o-table th,\n",
              "#h2o-table-4 .h2o-table td {\n",
              "  text-align: right;\n",
              "  /* border: 1px solid; */\n",
              "}\n",
              "#h2o-table-4 .h2o-table tr:nth-child(even) {\n",
              "  /* background: #F5F5F5 */\n",
              "}\n",
              "\n",
              "</style>      \n",
              "<div id=\"h2o-table-4\" class=\"h2o-container\">\n",
              "  <table class=\"h2o-table\">\n",
              "    <caption>Gains/Lift Table: Avg response rate: 26.79 %, avg score: 26.61 %</caption>\n",
              "    <thead><tr><th>group</th>\n",
              "<th>cumulative_data_fraction</th>\n",
              "<th>lower_threshold</th>\n",
              "<th>lift</th>\n",
              "<th>cumulative_lift</th>\n",
              "<th>response_rate</th>\n",
              "<th>score</th>\n",
              "<th>cumulative_response_rate</th>\n",
              "<th>cumulative_score</th>\n",
              "<th>capture_rate</th>\n",
              "<th>cumulative_capture_rate</th>\n",
              "<th>gain</th>\n",
              "<th>cumulative_gain</th>\n",
              "<th>kolmogorov_smirnov</th></tr></thead>\n",
              "    <tbody><tr><td>1</td>\n",
              "<td>0.0101810</td>\n",
              "<td>0.8380615</td>\n",
              "<td>3.6634608</td>\n",
              "<td>3.6634608</td>\n",
              "<td>0.9814815</td>\n",
              "<td>0.8564210</td>\n",
              "<td>0.9814815</td>\n",
              "<td>0.8564210</td>\n",
              "<td>0.0372977</td>\n",
              "<td>0.0372977</td>\n",
              "<td>266.3460787</td>\n",
              "<td>266.3460787</td>\n",
              "<td>0.0370401</td></tr>\n",
              "<tr><td>2</td>\n",
              "<td>0.0201735</td>\n",
              "<td>0.8201765</td>\n",
              "<td>3.6621566</td>\n",
              "<td>3.6628148</td>\n",
              "<td>0.9811321</td>\n",
              "<td>0.8295418</td>\n",
              "<td>0.9813084</td>\n",
              "<td>0.8431070</td>\n",
              "<td>0.0365939</td>\n",
              "<td>0.0738916</td>\n",
              "<td>266.2156600</td>\n",
              "<td>266.2814788</td>\n",
              "<td>0.0733766</td></tr>\n",
              "<tr><td>3</td>\n",
              "<td>0.0301659</td>\n",
              "<td>0.7987484</td>\n",
              "<td>3.6621566</td>\n",
              "<td>3.6625968</td>\n",
              "<td>0.9811321</td>\n",
              "<td>0.8086289</td>\n",
              "<td>0.98125</td>\n",
              "<td>0.8316861</td>\n",
              "<td>0.0365939</td>\n",
              "<td>0.1104856</td>\n",
              "<td>266.2156600</td>\n",
              "<td>266.2596763</td>\n",
              "<td>0.1097130</td></tr>\n",
              "<tr><td>4</td>\n",
              "<td>0.0401584</td>\n",
              "<td>0.7778503</td>\n",
              "<td>3.4508783</td>\n",
              "<td>3.6099157</td>\n",
              "<td>0.9245283</td>\n",
              "<td>0.7890091</td>\n",
              "<td>0.9671362</td>\n",
              "<td>0.8210669</td>\n",
              "<td>0.0344828</td>\n",
              "<td>0.1449683</td>\n",
              "<td>245.0878334</td>\n",
              "<td>260.9915652</td>\n",
              "<td>0.1431656</td></tr>\n",
              "<tr><td>5</td>\n",
              "<td>0.0501508</td>\n",
              "<td>0.7541661</td>\n",
              "<td>3.2396001</td>\n",
              "<td>3.5361310</td>\n",
              "<td>0.8679245</td>\n",
              "<td>0.7650399</td>\n",
              "<td>0.9473684</td>\n",
              "<td>0.8099037</td>\n",
              "<td>0.0323716</td>\n",
              "<td>0.1773399</td>\n",
              "<td>223.9600069</td>\n",
              "<td>253.6130968</td>\n",
              "<td>0.1737344</td></tr>\n",
              "<tr><td>6</td>\n",
              "<td>0.1001131</td>\n",
              "<td>0.6629943</td>\n",
              "<td>2.9578957</td>\n",
              "<td>3.2475578</td>\n",
              "<td>0.7924528</td>\n",
              "<td>0.7060456</td>\n",
              "<td>0.8700565</td>\n",
              "<td>0.7580724</td>\n",
              "<td>0.1477833</td>\n",
              "<td>0.3251232</td>\n",
              "<td>195.7895715</td>\n",
              "<td>224.7557819</td>\n",
              "<td>0.3073534</td></tr>\n",
              "<tr><td>7</td>\n",
              "<td>0.1500754</td>\n",
              "<td>0.5905177</td>\n",
              "<td>2.8452140</td>\n",
              "<td>3.1136117</td>\n",
              "<td>0.7622642</td>\n",
              "<td>0.6254126</td>\n",
              "<td>0.8341709</td>\n",
              "<td>0.7139080</td>\n",
              "<td>0.1421534</td>\n",
              "<td>0.4672766</td>\n",
              "<td>184.5213974</td>\n",
              "<td>211.3611690</td>\n",
              "<td>0.4332822</td></tr>\n",
              "<tr><td>8</td>\n",
              "<td>0.2000377</td>\n",
              "<td>0.5235060</td>\n",
              "<td>2.1127827</td>\n",
              "<td>2.8636403</td>\n",
              "<td>0.5660377</td>\n",
              "<td>0.5589855</td>\n",
              "<td>0.7672008</td>\n",
              "<td>0.6752139</td>\n",
              "<td>0.1055595</td>\n",
              "<td>0.5728360</td>\n",
              "<td>111.2782654</td>\n",
              "<td>186.3640253</td>\n",
              "<td>0.5092254</td></tr>\n",
              "<tr><td>9</td>\n",
              "<td>0.2999623</td>\n",
              "<td>0.3828321</td>\n",
              "<td>1.6268426</td>\n",
              "<td>2.4516335</td>\n",
              "<td>0.4358491</td>\n",
              "<td>0.4515477</td>\n",
              "<td>0.6568196</td>\n",
              "<td>0.6007053</td>\n",
              "<td>0.1625616</td>\n",
              "<td>0.7353976</td>\n",
              "<td>62.6842643</td>\n",
              "<td>145.1633507</td>\n",
              "<td>0.5947847</td></tr>\n",
              "<tr><td>10</td>\n",
              "<td>0.4002640</td>\n",
              "<td>0.2741906</td>\n",
              "<td>1.2488717</td>\n",
              "<td>2.1502349</td>\n",
              "<td>0.3345865</td>\n",
              "<td>0.3253453</td>\n",
              "<td>0.5760716</td>\n",
              "<td>0.5317032</td>\n",
              "<td>0.1252639</td>\n",
              "<td>0.8606615</td>\n",
              "<td>24.8871651</td>\n",
              "<td>115.0234869</td>\n",
              "<td>0.6288820</td></tr>\n",
              "<tr><td>11</td>\n",
              "<td>0.5</td>\n",
              "<td>0.1857812</td>\n",
              "<td>0.6914803</td>\n",
              "<td>1.8592540</td>\n",
              "<td>0.1852552</td>\n",
              "<td>0.2275542</td>\n",
              "<td>0.4981146</td>\n",
              "<td>0.4710340</td>\n",
              "<td>0.0689655</td>\n",
              "<td>0.9296270</td>\n",
              "<td>-30.8519653</td>\n",
              "<td>85.9254046</td>\n",
              "<td>0.5868508</td></tr>\n",
              "<tr><td>12</td>\n",
              "<td>0.5999246</td>\n",
              "<td>0.1157146</td>\n",
              "<td>0.3943861</td>\n",
              "<td>1.6152628</td>\n",
              "<td>0.1056604</td>\n",
              "<td>0.1494342</td>\n",
              "<td>0.4327467</td>\n",
              "<td>0.4174677</td>\n",
              "<td>0.0394089</td>\n",
              "<td>0.9690359</td>\n",
              "<td>-60.5613905</td>\n",
              "<td>61.5262842</td>\n",
              "<td>0.5041891</td></tr>\n",
              "<tr><td>13</td>\n",
              "<td>0.7000377</td>\n",
              "<td>0.0601835</td>\n",
              "<td>0.2319684</td>\n",
              "<td>1.4174365</td>\n",
              "<td>0.0621469</td>\n",
              "<td>0.0865056</td>\n",
              "<td>0.3797468</td>\n",
              "<td>0.3701365</td>\n",
              "<td>0.0232231</td>\n",
              "<td>0.9922590</td>\n",
              "<td>-76.8031584</td>\n",
              "<td>41.7436464</td>\n",
              "<td>0.3991609</td></tr>\n",
              "<tr><td>14</td>\n",
              "<td>0.7999623</td>\n",
              "<td>0.0278961</td>\n",
              "<td>0.0492983</td>\n",
              "<td>1.2465401</td>\n",
              "<td>0.0132075</td>\n",
              "<td>0.0423695</td>\n",
              "<td>0.3339618</td>\n",
              "<td>0.3291946</td>\n",
              "<td>0.0049261</td>\n",
              "<td>0.9971851</td>\n",
              "<td>-95.0701738</td>\n",
              "<td>24.6540106</td>\n",
              "<td>0.2693973</td></tr>\n",
              "<tr><td>15</td>\n",
              "<td>0.8998869</td>\n",
              "<td>0.0122139</td>\n",
              "<td>0.0281704</td>\n",
              "<td>1.1112508</td>\n",
              "<td>0.0075472</td>\n",
              "<td>0.0192670</td>\n",
              "<td>0.2977163</td>\n",
              "<td>0.2947798</td>\n",
              "<td>0.0028149</td>\n",
              "<td>1.0</td>\n",
              "<td>-97.1829565</td>\n",
              "<td>11.1250786</td>\n",
              "<td>0.1367499</td></tr>\n",
              "<tr><td>16</td>\n",
              "<td>1.0</td>\n",
              "<td>0.0040222</td>\n",
              "<td>0.0</td>\n",
              "<td>1.0</td>\n",
              "<td>0.0</td>\n",
              "<td>0.0084137</td>\n",
              "<td>0.2679110</td>\n",
              "<td>0.2661108</td>\n",
              "<td>0.0</td>\n",
              "<td>1.0</td>\n",
              "<td>-100.0</td>\n",
              "<td>0.0</td>\n",
              "<td>0.0</td></tr></tbody>\n",
              "  </table>\n",
              "</div>\n",
              "</div></div>\n",
              "<div style='margin: 1em 0 1em 0;'><pre style='margin: 1em 0 1em 0;'>ModelMetricsBinomialGLM: stackedensemble\n",
              "** Reported on cross-validation data. **\n",
              "\n",
              "MSE: 0.13434037247273328\n",
              "RMSE: 0.3665247228670029\n",
              "LogLoss: 0.41310300703548397\n",
              "AUC: 0.8485561940815294\n",
              "AUCPR: 0.671470634372008\n",
              "Gini: 0.6971123881630588\n",
              "Null degrees of freedom: 5303\n",
              "Residual degrees of freedom: 5299\n",
              "Null deviance: 6166.497254160711\n",
              "Residual deviance: 4382.196698632414\n",
              "AIC: 4392.196698632414</pre>\n",
              "<div style='margin: 1em 0 1em 0;'>\n",
              "<style>\n",
              "\n",
              "#h2o-table-5.h2o-container {\n",
              "  overflow-x: auto;\n",
              "}\n",
              "#h2o-table-5 .h2o-table {\n",
              "  /* width: 100%; */\n",
              "  margin-top: 1em;\n",
              "  margin-bottom: 1em;\n",
              "}\n",
              "#h2o-table-5 .h2o-table caption {\n",
              "  white-space: nowrap;\n",
              "  caption-side: top;\n",
              "  text-align: left;\n",
              "  /* margin-left: 1em; */\n",
              "  margin: 0;\n",
              "  font-size: larger;\n",
              "}\n",
              "#h2o-table-5 .h2o-table thead {\n",
              "  white-space: nowrap; \n",
              "  position: sticky;\n",
              "  top: 0;\n",
              "  box-shadow: 0 -1px inset;\n",
              "}\n",
              "#h2o-table-5 .h2o-table tbody {\n",
              "  overflow: auto;\n",
              "}\n",
              "#h2o-table-5 .h2o-table th,\n",
              "#h2o-table-5 .h2o-table td {\n",
              "  text-align: right;\n",
              "  /* border: 1px solid; */\n",
              "}\n",
              "#h2o-table-5 .h2o-table tr:nth-child(even) {\n",
              "  /* background: #F5F5F5 */\n",
              "}\n",
              "\n",
              "</style>      \n",
              "<div id=\"h2o-table-5\" class=\"h2o-container\">\n",
              "  <table class=\"h2o-table\">\n",
              "    <caption>Confusion Matrix (Act/Pred) for max f1 @ threshold = 0.31911421104299165</caption>\n",
              "    <thead><tr><th></th>\n",
              "<th>No</th>\n",
              "<th>Yes</th>\n",
              "<th>Error</th>\n",
              "<th>Rate</th></tr></thead>\n",
              "    <tbody><tr><td>No</td>\n",
              "<td>3042.0</td>\n",
              "<td>841.0</td>\n",
              "<td>0.2166</td>\n",
              "<td> (841.0/3883.0)</td></tr>\n",
              "<tr><td>Yes</td>\n",
              "<td>364.0</td>\n",
              "<td>1057.0</td>\n",
              "<td>0.2562</td>\n",
              "<td> (364.0/1421.0)</td></tr>\n",
              "<tr><td>Total</td>\n",
              "<td>3406.0</td>\n",
              "<td>1898.0</td>\n",
              "<td>0.2272</td>\n",
              "<td> (1205.0/5304.0)</td></tr></tbody>\n",
              "  </table>\n",
              "</div>\n",
              "</div>\n",
              "<div style='margin: 1em 0 1em 0;'>\n",
              "<style>\n",
              "\n",
              "#h2o-table-6.h2o-container {\n",
              "  overflow-x: auto;\n",
              "}\n",
              "#h2o-table-6 .h2o-table {\n",
              "  /* width: 100%; */\n",
              "  margin-top: 1em;\n",
              "  margin-bottom: 1em;\n",
              "}\n",
              "#h2o-table-6 .h2o-table caption {\n",
              "  white-space: nowrap;\n",
              "  caption-side: top;\n",
              "  text-align: left;\n",
              "  /* margin-left: 1em; */\n",
              "  margin: 0;\n",
              "  font-size: larger;\n",
              "}\n",
              "#h2o-table-6 .h2o-table thead {\n",
              "  white-space: nowrap; \n",
              "  position: sticky;\n",
              "  top: 0;\n",
              "  box-shadow: 0 -1px inset;\n",
              "}\n",
              "#h2o-table-6 .h2o-table tbody {\n",
              "  overflow: auto;\n",
              "}\n",
              "#h2o-table-6 .h2o-table th,\n",
              "#h2o-table-6 .h2o-table td {\n",
              "  text-align: right;\n",
              "  /* border: 1px solid; */\n",
              "}\n",
              "#h2o-table-6 .h2o-table tr:nth-child(even) {\n",
              "  /* background: #F5F5F5 */\n",
              "}\n",
              "\n",
              "</style>      \n",
              "<div id=\"h2o-table-6\" class=\"h2o-container\">\n",
              "  <table class=\"h2o-table\">\n",
              "    <caption>Maximum Metrics: Maximum metrics at their respective thresholds</caption>\n",
              "    <thead><tr><th>metric</th>\n",
              "<th>threshold</th>\n",
              "<th>value</th>\n",
              "<th>idx</th></tr></thead>\n",
              "    <tbody><tr><td>max f1</td>\n",
              "<td>0.3191142</td>\n",
              "<td>0.6369388</td>\n",
              "<td>217.0</td></tr>\n",
              "<tr><td>max f2</td>\n",
              "<td>0.1334142</td>\n",
              "<td>0.7513957</td>\n",
              "<td>311.0</td></tr>\n",
              "<tr><td>max f0point5</td>\n",
              "<td>0.4837357</td>\n",
              "<td>0.6383822</td>\n",
              "<td>147.0</td></tr>\n",
              "<tr><td>max accuracy</td>\n",
              "<td>0.4837357</td>\n",
              "<td>0.8054299</td>\n",
              "<td>147.0</td></tr>\n",
              "<tr><td>max precision</td>\n",
              "<td>0.9081531</td>\n",
              "<td>1.0</td>\n",
              "<td>0.0</td></tr>\n",
              "<tr><td>max recall</td>\n",
              "<td>0.0062892</td>\n",
              "<td>1.0</td>\n",
              "<td>397.0</td></tr>\n",
              "<tr><td>max specificity</td>\n",
              "<td>0.9081531</td>\n",
              "<td>1.0</td>\n",
              "<td>0.0</td></tr>\n",
              "<tr><td>max absolute_mcc</td>\n",
              "<td>0.4226331</td>\n",
              "<td>0.4906147</td>\n",
              "<td>171.0</td></tr>\n",
              "<tr><td>max min_per_class_accuracy</td>\n",
              "<td>0.3002938</td>\n",
              "<td>0.7628431</td>\n",
              "<td>225.0</td></tr>\n",
              "<tr><td>max mean_per_class_accuracy</td>\n",
              "<td>0.2460562</td>\n",
              "<td>0.7678319</td>\n",
              "<td>252.0</td></tr>\n",
              "<tr><td>max tns</td>\n",
              "<td>0.9081531</td>\n",
              "<td>3883.0</td>\n",
              "<td>0.0</td></tr>\n",
              "<tr><td>max fns</td>\n",
              "<td>0.9081531</td>\n",
              "<td>1420.0</td>\n",
              "<td>0.0</td></tr>\n",
              "<tr><td>max fps</td>\n",
              "<td>0.0039307</td>\n",
              "<td>3883.0</td>\n",
              "<td>399.0</td></tr>\n",
              "<tr><td>max tps</td>\n",
              "<td>0.0062892</td>\n",
              "<td>1421.0</td>\n",
              "<td>397.0</td></tr>\n",
              "<tr><td>max tnr</td>\n",
              "<td>0.9081531</td>\n",
              "<td>1.0</td>\n",
              "<td>0.0</td></tr>\n",
              "<tr><td>max fnr</td>\n",
              "<td>0.9081531</td>\n",
              "<td>0.9992963</td>\n",
              "<td>0.0</td></tr>\n",
              "<tr><td>max fpr</td>\n",
              "<td>0.0039307</td>\n",
              "<td>1.0</td>\n",
              "<td>399.0</td></tr>\n",
              "<tr><td>max tpr</td>\n",
              "<td>0.0062892</td>\n",
              "<td>1.0</td>\n",
              "<td>397.0</td></tr></tbody>\n",
              "  </table>\n",
              "</div>\n",
              "</div>\n",
              "<div style='margin: 1em 0 1em 0;'>\n",
              "<style>\n",
              "\n",
              "#h2o-table-7.h2o-container {\n",
              "  overflow-x: auto;\n",
              "}\n",
              "#h2o-table-7 .h2o-table {\n",
              "  /* width: 100%; */\n",
              "  margin-top: 1em;\n",
              "  margin-bottom: 1em;\n",
              "}\n",
              "#h2o-table-7 .h2o-table caption {\n",
              "  white-space: nowrap;\n",
              "  caption-side: top;\n",
              "  text-align: left;\n",
              "  /* margin-left: 1em; */\n",
              "  margin: 0;\n",
              "  font-size: larger;\n",
              "}\n",
              "#h2o-table-7 .h2o-table thead {\n",
              "  white-space: nowrap; \n",
              "  position: sticky;\n",
              "  top: 0;\n",
              "  box-shadow: 0 -1px inset;\n",
              "}\n",
              "#h2o-table-7 .h2o-table tbody {\n",
              "  overflow: auto;\n",
              "}\n",
              "#h2o-table-7 .h2o-table th,\n",
              "#h2o-table-7 .h2o-table td {\n",
              "  text-align: right;\n",
              "  /* border: 1px solid; */\n",
              "}\n",
              "#h2o-table-7 .h2o-table tr:nth-child(even) {\n",
              "  /* background: #F5F5F5 */\n",
              "}\n",
              "\n",
              "</style>      \n",
              "<div id=\"h2o-table-7\" class=\"h2o-container\">\n",
              "  <table class=\"h2o-table\">\n",
              "    <caption>Gains/Lift Table: Avg response rate: 26.79 %, avg score: 26.79 %</caption>\n",
              "    <thead><tr><th>group</th>\n",
              "<th>cumulative_data_fraction</th>\n",
              "<th>lower_threshold</th>\n",
              "<th>lift</th>\n",
              "<th>cumulative_lift</th>\n",
              "<th>response_rate</th>\n",
              "<th>score</th>\n",
              "<th>cumulative_response_rate</th>\n",
              "<th>cumulative_score</th>\n",
              "<th>capture_rate</th>\n",
              "<th>cumulative_capture_rate</th>\n",
              "<th>gain</th>\n",
              "<th>cumulative_gain</th>\n",
              "<th>kolmogorov_smirnov</th></tr></thead>\n",
              "    <tbody><tr><td>1</td>\n",
              "<td>0.0101810</td>\n",
              "<td>0.8366466</td>\n",
              "<td>3.3869732</td>\n",
              "<td>3.3869732</td>\n",
              "<td>0.9074074</td>\n",
              "<td>0.8539159</td>\n",
              "<td>0.9074074</td>\n",
              "<td>0.8539159</td>\n",
              "<td>0.0344828</td>\n",
              "<td>0.0344828</td>\n",
              "<td>238.6973180</td>\n",
              "<td>238.6973180</td>\n",
              "<td>0.0331951</td></tr>\n",
              "<tr><td>2</td>\n",
              "<td>0.0201735</td>\n",
              "<td>0.8099029</td>\n",
              "<td>3.2396001</td>\n",
              "<td>3.3139753</td>\n",
              "<td>0.8679245</td>\n",
              "<td>0.8203706</td>\n",
              "<td>0.8878505</td>\n",
              "<td>0.8373000</td>\n",
              "<td>0.0323716</td>\n",
              "<td>0.0668543</td>\n",
              "<td>223.9600069</td>\n",
              "<td>231.3975284</td>\n",
              "<td>0.0637639</td></tr>\n",
              "<tr><td>3</td>\n",
              "<td>0.0301659</td>\n",
              "<td>0.7861030</td>\n",
              "<td>3.3804522</td>\n",
              "<td>3.3359958</td>\n",
              "<td>0.9056604</td>\n",
              "<td>0.7985981</td>\n",
              "<td>0.89375</td>\n",
              "<td>0.8244800</td>\n",
              "<td>0.0337790</td>\n",
              "<td>0.1006334</td>\n",
              "<td>238.0452246</td>\n",
              "<td>233.5995778</td>\n",
              "<td>0.0962553</td></tr>\n",
              "<tr><td>4</td>\n",
              "<td>0.0401584</td>\n",
              "<td>0.7628301</td>\n",
              "<td>3.4508783</td>\n",
              "<td>3.3645816</td>\n",
              "<td>0.9245283</td>\n",
              "<td>0.7729763</td>\n",
              "<td>0.9014085</td>\n",
              "<td>0.8116645</td>\n",
              "<td>0.0344828</td>\n",
              "<td>0.1351161</td>\n",
              "<td>245.0878334</td>\n",
              "<td>236.4581578</td>\n",
              "<td>0.1297079</td></tr>\n",
              "<tr><td>5</td>\n",
              "<td>0.0501508</td>\n",
              "<td>0.7431292</td>\n",
              "<td>2.8874696</td>\n",
              "<td>3.2695179</td>\n",
              "<td>0.7735849</td>\n",
              "<td>0.7520436</td>\n",
              "<td>0.8759398</td>\n",
              "<td>0.7997852</td>\n",
              "<td>0.0288529</td>\n",
              "<td>0.1639690</td>\n",
              "<td>188.7469627</td>\n",
              "<td>226.9517919</td>\n",
              "<td>0.1554705</td></tr>\n",
              "<tr><td>6</td>\n",
              "<td>0.1001131</td>\n",
              "<td>0.6575926</td>\n",
              "<td>2.5494244</td>\n",
              "<td>2.9101492</td>\n",
              "<td>0.6830189</td>\n",
              "<td>0.7009253</td>\n",
              "<td>0.7796610</td>\n",
              "<td>0.7504483</td>\n",
              "<td>0.1273751</td>\n",
              "<td>0.2913441</td>\n",
              "<td>154.9424402</td>\n",
              "<td>191.0149215</td>\n",
              "<td>0.2612128</td></tr>\n",
              "<tr><td>7</td>\n",
              "<td>0.1500754</td>\n",
              "<td>0.5851463</td>\n",
              "<td>2.1127827</td>\n",
              "<td>2.6446943</td>\n",
              "<td>0.5660377</td>\n",
              "<td>0.6183036</td>\n",
              "<td>0.7085427</td>\n",
              "<td>0.7064554</td>\n",
              "<td>0.1055595</td>\n",
              "<td>0.3969036</td>\n",
              "<td>111.2782654</td>\n",
              "<td>164.4694267</td>\n",
              "<td>0.3371560</td></tr>\n",
              "<tr><td>8</td>\n",
              "<td>0.2000377</td>\n",
              "<td>0.5215719</td>\n",
              "<td>2.1409531</td>\n",
              "<td>2.5188777</td>\n",
              "<td>0.5735849</td>\n",
              "<td>0.5541444</td>\n",
              "<td>0.6748351</td>\n",
              "<td>0.6684135</td>\n",
              "<td>0.1069669</td>\n",
              "<td>0.5038705</td>\n",
              "<td>114.0953089</td>\n",
              "<td>151.8877667</td>\n",
              "<td>0.4150217</td></tr>\n",
              "<tr><td>9</td>\n",
              "<td>0.2999623</td>\n",
              "<td>0.3872535</td>\n",
              "<td>1.6620557</td>\n",
              "<td>2.2334499</td>\n",
              "<td>0.4452830</td>\n",
              "<td>0.4542050</td>\n",
              "<td>0.5983658</td>\n",
              "<td>0.5970556</td>\n",
              "<td>0.1660802</td>\n",
              "<td>0.6699507</td>\n",
              "<td>66.2055688</td>\n",
              "<td>123.3449855</td>\n",
              "<td>0.5053873</td></tr>\n",
              "<tr><td>10</td>\n",
              "<td>0.4000754</td>\n",
              "<td>0.2749715</td>\n",
              "<td>1.1949888</td>\n",
              "<td>1.9735899</td>\n",
              "<td>0.3201507</td>\n",
              "<td>0.3296003</td>\n",
              "<td>0.5287465</td>\n",
              "<td>0.5301287</td>\n",
              "<td>0.1196341</td>\n",
              "<td>0.7895848</td>\n",
              "<td>19.4988808</td>\n",
              "<td>97.3589904</td>\n",
              "<td>0.5320520</td></tr>\n",
              "<tr><td>11</td>\n",
              "<td>0.5</td>\n",
              "<td>0.1872592</td>\n",
              "<td>0.8380705</td>\n",
              "<td>1.7466573</td>\n",
              "<td>0.2245283</td>\n",
              "<td>0.2318211</td>\n",
              "<td>0.4679487</td>\n",
              "<td>0.4705122</td>\n",
              "<td>0.0837438</td>\n",
              "<td>0.8733286</td>\n",
              "<td>-16.1929547</td>\n",
              "<td>74.6657284</td>\n",
              "<td>0.5099498</td></tr>\n",
              "<tr><td>12</td>\n",
              "<td>0.5999246</td>\n",
              "<td>0.1224143</td>\n",
              "<td>0.6408774</td>\n",
              "<td>1.5624765</td>\n",
              "<td>0.1716981</td>\n",
              "<td>0.1526881</td>\n",
              "<td>0.4186047</td>\n",
              "<td>0.4175748</td>\n",
              "<td>0.0640394</td>\n",
              "<td>0.9373681</td>\n",
              "<td>-35.9122595</td>\n",
              "<td>56.2476474</td>\n",
              "<td>0.4609323</td></tr>\n",
              "<tr><td>13</td>\n",
              "<td>0.7000377</td>\n",
              "<td>0.0677745</td>\n",
              "<td>0.2952325</td>\n",
              "<td>1.3812466</td>\n",
              "<td>0.0790960</td>\n",
              "<td>0.0935935</td>\n",
              "<td>0.3700512</td>\n",
              "<td>0.3712419</td>\n",
              "<td>0.0295567</td>\n",
              "<td>0.9669247</td>\n",
              "<td>-70.4767471</td>\n",
              "<td>38.1246597</td>\n",
              "<td>0.3645554</td></tr>\n",
              "<tr><td>14</td>\n",
              "<td>0.7999623</td>\n",
              "<td>0.0322643</td>\n",
              "<td>0.2464913</td>\n",
              "<td>1.2395025</td>\n",
              "<td>0.0660377</td>\n",
              "<td>0.0488427</td>\n",
              "<td>0.3320764</td>\n",
              "<td>0.3309705</td>\n",
              "<td>0.0246305</td>\n",
              "<td>0.9915552</td>\n",
              "<td>-75.3508690</td>\n",
              "<td>23.9502476</td>\n",
              "<td>0.2617072</td></tr>\n",
              "<tr><td>15</td>\n",
              "<td>0.8998869</td>\n",
              "<td>0.0142643</td>\n",
              "<td>0.0422557</td>\n",
              "<td>1.1065587</td>\n",
              "<td>0.0113208</td>\n",
              "<td>0.0226847</td>\n",
              "<td>0.2964592</td>\n",
              "<td>0.2967380</td>\n",
              "<td>0.0042224</td>\n",
              "<td>0.9957776</td>\n",
              "<td>-95.7744347</td>\n",
              "<td>10.6558664</td>\n",
              "<td>0.1309824</td></tr>\n",
              "<tr><td>16</td>\n",
              "<td>1.0</td>\n",
              "<td>0.0030470</td>\n",
              "<td>0.0421761</td>\n",
              "<td>1.0</td>\n",
              "<td>0.0112994</td>\n",
              "<td>0.0089712</td>\n",
              "<td>0.2679110</td>\n",
              "<td>0.2679288</td>\n",
              "<td>0.0042224</td>\n",
              "<td>1.0</td>\n",
              "<td>-95.7823924</td>\n",
              "<td>0.0</td>\n",
              "<td>0.0</td></tr></tbody>\n",
              "  </table>\n",
              "</div>\n",
              "</div></div>\n",
              "<div style='margin: 1em 0 1em 0;'>\n",
              "<style>\n",
              "\n",
              "#h2o-table-8.h2o-container {\n",
              "  overflow-x: auto;\n",
              "}\n",
              "#h2o-table-8 .h2o-table {\n",
              "  /* width: 100%; */\n",
              "  margin-top: 1em;\n",
              "  margin-bottom: 1em;\n",
              "}\n",
              "#h2o-table-8 .h2o-table caption {\n",
              "  white-space: nowrap;\n",
              "  caption-side: top;\n",
              "  text-align: left;\n",
              "  /* margin-left: 1em; */\n",
              "  margin: 0;\n",
              "  font-size: larger;\n",
              "}\n",
              "#h2o-table-8 .h2o-table thead {\n",
              "  white-space: nowrap; \n",
              "  position: sticky;\n",
              "  top: 0;\n",
              "  box-shadow: 0 -1px inset;\n",
              "}\n",
              "#h2o-table-8 .h2o-table tbody {\n",
              "  overflow: auto;\n",
              "}\n",
              "#h2o-table-8 .h2o-table th,\n",
              "#h2o-table-8 .h2o-table td {\n",
              "  text-align: right;\n",
              "  /* border: 1px solid; */\n",
              "}\n",
              "#h2o-table-8 .h2o-table tr:nth-child(even) {\n",
              "  /* background: #F5F5F5 */\n",
              "}\n",
              "\n",
              "</style>      \n",
              "<div id=\"h2o-table-8\" class=\"h2o-container\">\n",
              "  <table class=\"h2o-table\">\n",
              "    <caption>Cross-Validation Metrics Summary: </caption>\n",
              "    <thead><tr><th></th>\n",
              "<th>mean</th>\n",
              "<th>sd</th>\n",
              "<th>cv_1_valid</th>\n",
              "<th>cv_2_valid</th>\n",
              "<th>cv_3_valid</th>\n",
              "<th>cv_4_valid</th>\n",
              "<th>cv_5_valid</th></tr></thead>\n",
              "    <tbody><tr><td>accuracy</td>\n",
              "<td>0.7864379</td>\n",
              "<td>0.0223758</td>\n",
              "<td>0.7666363</td>\n",
              "<td>0.8048327</td>\n",
              "<td>0.7634307</td>\n",
              "<td>0.8135593</td>\n",
              "<td>0.7837302</td></tr>\n",
              "<tr><td>auc</td>\n",
              "<td>0.8486109</td>\n",
              "<td>0.0044146</td>\n",
              "<td>0.8496244</td>\n",
              "<td>0.8432428</td>\n",
              "<td>0.8451027</td>\n",
              "<td>0.854106</td>\n",
              "<td>0.850979</td></tr>\n",
              "<tr><td>err</td>\n",
              "<td>0.2135622</td>\n",
              "<td>0.0223758</td>\n",
              "<td>0.2333637</td>\n",
              "<td>0.1951673</td>\n",
              "<td>0.2365693</td>\n",
              "<td>0.1864407</td>\n",
              "<td>0.2162698</td></tr>\n",
              "<tr><td>err_count</td>\n",
              "<td>226.6</td>\n",
              "<td>25.628109</td>\n",
              "<td>256.0</td>\n",
              "<td>210.0</td>\n",
              "<td>251.0</td>\n",
              "<td>198.0</td>\n",
              "<td>218.0</td></tr>\n",
              "<tr><td>f0point5</td>\n",
              "<td>0.6090602</td>\n",
              "<td>0.0327383</td>\n",
              "<td>0.5736894</td>\n",
              "<td>0.6196581</td>\n",
              "<td>0.5783009</td>\n",
              "<td>0.6515868</td>\n",
              "<td>0.6220657</td></tr>\n",
              "<tr><td>f1</td>\n",
              "<td>0.6464908</td>\n",
              "<td>0.0153451</td>\n",
              "<td>0.6444445</td>\n",
              "<td>0.6236559</td>\n",
              "<td>0.6429588</td>\n",
              "<td>0.6609589</td>\n",
              "<td>0.6604361</td></tr>\n",
              "<tr><td>f2</td>\n",
              "<td>0.6922329</td>\n",
              "<td>0.0436098</td>\n",
              "<td>0.7351077</td>\n",
              "<td>0.6277056</td>\n",
              "<td>0.7238950</td>\n",
              "<td>0.6706046</td>\n",
              "<td>0.7038513</td></tr>\n",
              "<tr><td>lift_top_group</td>\n",
              "<td>3.3256273</td>\n",
              "<td>0.5641508</td>\n",
              "<td>3.8356643</td>\n",
              "<td>3.544137</td>\n",
              "<td>2.3607755</td>\n",
              "<td>3.38756</td>\n",
              "<td>3.5</td></tr>\n",
              "<tr><td>logloss</td>\n",
              "<td>0.4131374</td>\n",
              "<td>0.0064458</td>\n",
              "<td>0.4086725</td>\n",
              "<td>0.4105089</td>\n",
              "<td>0.4192345</td>\n",
              "<td>0.4065055</td>\n",
              "<td>0.4207658</td></tr>\n",
              "<tr><td>max_per_class_error</td>\n",
              "<td>0.2903576</td>\n",
              "<td>0.0539893</td>\n",
              "<td>0.2490752</td>\n",
              "<td>0.3695652</td>\n",
              "<td>0.2464516</td>\n",
              "<td>0.322807</td>\n",
              "<td>0.2638889</td></tr>\n",
              "<tr><td>---</td>\n",
              "<td>---</td>\n",
              "<td>---</td>\n",
              "<td>---</td>\n",
              "<td>---</td>\n",
              "<td>---</td>\n",
              "<td>---</td>\n",
              "<td>---</td></tr>\n",
              "<tr><td>mean_per_class_error</td>\n",
              "<td>0.2319034</td>\n",
              "<td>0.0122947</td>\n",
              "<td>0.2189432</td>\n",
              "<td>0.2522826</td>\n",
              "<td>0.2281209</td>\n",
              "<td>0.2296146</td>\n",
              "<td>0.2305555</td></tr>\n",
              "<tr><td>mse</td>\n",
              "<td>0.1343545</td>\n",
              "<td>0.0023539</td>\n",
              "<td>0.1333335</td>\n",
              "<td>0.1331402</td>\n",
              "<td>0.1363988</td>\n",
              "<td>0.1316705</td>\n",
              "<td>0.1372293</td></tr>\n",
              "<tr><td>null_deviance</td>\n",
              "<td>1233.2994</td>\n",
              "<td>18.405037</td>\n",
              "<td>1259.3778</td>\n",
              "<td>1226.4126</td>\n",
              "<td>1236.7621</td>\n",
              "<td>1235.3677</td>\n",
              "<td>1208.577</td></tr>\n",
              "<tr><td>pr_auc</td>\n",
              "<td>0.672602</td>\n",
              "<td>0.0241076</td>\n",
              "<td>0.6545337</td>\n",
              "<td>0.6631117</td>\n",
              "<td>0.6507615</td>\n",
              "<td>0.6870296</td>\n",
              "<td>0.7075735</td></tr>\n",
              "<tr><td>precision</td>\n",
              "<td>0.587581</td>\n",
              "<td>0.0480591</td>\n",
              "<td>0.5345622</td>\n",
              "<td>0.6170213</td>\n",
              "<td>0.5419664</td>\n",
              "<td>0.6454849</td>\n",
              "<td>0.5988700</td></tr>\n",
              "<tr><td>r2</td>\n",
              "<td>0.314863</td>\n",
              "<td>0.0126819</td>\n",
              "<td>0.3082236</td>\n",
              "<td>0.3018724</td>\n",
              "<td>0.3072549</td>\n",
              "<td>0.3293876</td>\n",
              "<td>0.3275766</td></tr>\n",
              "<tr><td>recall</td>\n",
              "<td>0.7290275</td>\n",
              "<td>0.0757484</td>\n",
              "<td>0.8111888</td>\n",
              "<td>0.6304348</td>\n",
              "<td>0.7902098</td>\n",
              "<td>0.677193</td>\n",
              "<td>0.7361111</td></tr>\n",
              "<tr><td>residual_deviance</td>\n",
              "<td>876.26794</td>\n",
              "<td>19.956936</td>\n",
              "<td>896.62744</td>\n",
              "<td>883.4152</td>\n",
              "<td>889.61566</td>\n",
              "<td>863.4176</td>\n",
              "<td>848.2638</td></tr>\n",
              "<tr><td>rmse</td>\n",
              "<td>0.3665327</td>\n",
              "<td>0.0032084</td>\n",
              "<td>0.3651487</td>\n",
              "<td>0.3648839</td>\n",
              "<td>0.3693220</td>\n",
              "<td>0.3628643</td>\n",
              "<td>0.3704447</td></tr>\n",
              "<tr><td>specificity</td>\n",
              "<td>0.8071657</td>\n",
              "<td>0.0560898</td>\n",
              "<td>0.7509248</td>\n",
              "<td>0.865</td>\n",
              "<td>0.7535484</td>\n",
              "<td>0.8635778</td>\n",
              "<td>0.8027778</td></tr></tbody>\n",
              "  </table>\n",
              "</div>\n",
              "<pre style='font-size: smaller; margin-bottom: 1em;'>[22 rows x 8 columns]</pre></div><pre style=\"font-size: smaller; margin: 1em 0 0 0;\">\n",
              "\n",
              "[tips]\n",
              "Use `model.explain()` to inspect the model.\n",
              "--\n",
              "Use `h2o.display.toggle_user_tips()` to switch on/off this section.</pre>"
            ]
          },
          "metadata": {},
          "execution_count": 119
        }
      ]
    },
    {
      "cell_type": "code",
      "source": [
        "leaders = aml.leaderboard"
      ],
      "metadata": {
        "id": "B7-DOcmqRlU9"
      },
      "execution_count": null,
      "outputs": []
    },
    {
      "cell_type": "code",
      "source": [
        "leaders"
      ],
      "metadata": {
        "colab": {
          "base_uri": "https://localhost:8080/",
          "height": 409
        },
        "id": "f4ts_e48VC7W",
        "outputId": "7afd2049-a635-4214-e7fa-de3c1c498d24"
      },
      "execution_count": null,
      "outputs": [
        {
          "output_type": "execute_result",
          "data": {
            "text/plain": [
              "model_id                                                      auc    logloss     aucpr    mean_per_class_error      rmse       mse\n",
              "-------------------------------------------------------  --------  ---------  --------  ----------------------  --------  --------\n",
              "StackedEnsemble_BestOfFamily_1_AutoML_1_20220925_153127  0.848556   0.413103  0.671471                0.236371  0.366525  0.13434\n",
              "StackedEnsemble_AllModels_1_AutoML_1_20220925_153127     0.848039   0.413613  0.670158                0.236969  0.366711  0.134477\n",
              "GBM_grid_1_AutoML_1_20220925_153127_model_1              0.846568   0.415508  0.670218                0.239517  0.367241  0.134866\n",
              "GBM_1_AutoML_1_20220925_153127                           0.844727   0.417749  0.666151                0.241569  0.368535  0.135818\n",
              "XGBoost_grid_1_AutoML_1_20220925_153127_model_1          0.844365   0.418684  0.662252                0.238713  0.368919  0.136101\n",
              "GLM_1_AutoML_1_20220925_153127                           0.843669   0.420686  0.651771                0.235275  0.369984  0.136888\n",
              "GBM_5_AutoML_1_20220925_153127                           0.842543   0.420259  0.663439                0.242792  0.370078  0.136958\n",
              "GBM_grid_1_AutoML_1_20220925_153127_model_2              0.841327   0.42207   0.657927                0.245283  0.370294  0.137118\n",
              "DeepLearning_grid_3_AutoML_1_20220925_153127_model_1     0.840555   0.425301  0.650099                0.240314  0.371596  0.138084\n",
              "DeepLearning_grid_2_AutoML_1_20220925_153127_model_1     0.840375   0.424207  0.648952                0.238929  0.371614  0.138097\n",
              "[22 rows x 7 columns]\n"
            ],
            "text/html": [
              "<table class='dataframe'>\n",
              "<thead>\n",
              "<tr><th>model_id                                               </th><th style=\"text-align: right;\">     auc</th><th style=\"text-align: right;\">  logloss</th><th style=\"text-align: right;\">   aucpr</th><th style=\"text-align: right;\">  mean_per_class_error</th><th style=\"text-align: right;\">    rmse</th><th style=\"text-align: right;\">     mse</th></tr>\n",
              "</thead>\n",
              "<tbody>\n",
              "<tr><td>StackedEnsemble_BestOfFamily_1_AutoML_1_20220925_153127</td><td style=\"text-align: right;\">0.848556</td><td style=\"text-align: right;\"> 0.413103</td><td style=\"text-align: right;\">0.671471</td><td style=\"text-align: right;\">              0.236371</td><td style=\"text-align: right;\">0.366525</td><td style=\"text-align: right;\">0.13434 </td></tr>\n",
              "<tr><td>StackedEnsemble_AllModels_1_AutoML_1_20220925_153127   </td><td style=\"text-align: right;\">0.848039</td><td style=\"text-align: right;\"> 0.413613</td><td style=\"text-align: right;\">0.670158</td><td style=\"text-align: right;\">              0.236969</td><td style=\"text-align: right;\">0.366711</td><td style=\"text-align: right;\">0.134477</td></tr>\n",
              "<tr><td>GBM_grid_1_AutoML_1_20220925_153127_model_1            </td><td style=\"text-align: right;\">0.846568</td><td style=\"text-align: right;\"> 0.415508</td><td style=\"text-align: right;\">0.670218</td><td style=\"text-align: right;\">              0.239517</td><td style=\"text-align: right;\">0.367241</td><td style=\"text-align: right;\">0.134866</td></tr>\n",
              "<tr><td>GBM_1_AutoML_1_20220925_153127                         </td><td style=\"text-align: right;\">0.844727</td><td style=\"text-align: right;\"> 0.417749</td><td style=\"text-align: right;\">0.666151</td><td style=\"text-align: right;\">              0.241569</td><td style=\"text-align: right;\">0.368535</td><td style=\"text-align: right;\">0.135818</td></tr>\n",
              "<tr><td>XGBoost_grid_1_AutoML_1_20220925_153127_model_1        </td><td style=\"text-align: right;\">0.844365</td><td style=\"text-align: right;\"> 0.418684</td><td style=\"text-align: right;\">0.662252</td><td style=\"text-align: right;\">              0.238713</td><td style=\"text-align: right;\">0.368919</td><td style=\"text-align: right;\">0.136101</td></tr>\n",
              "<tr><td>GLM_1_AutoML_1_20220925_153127                         </td><td style=\"text-align: right;\">0.843669</td><td style=\"text-align: right;\"> 0.420686</td><td style=\"text-align: right;\">0.651771</td><td style=\"text-align: right;\">              0.235275</td><td style=\"text-align: right;\">0.369984</td><td style=\"text-align: right;\">0.136888</td></tr>\n",
              "<tr><td>GBM_5_AutoML_1_20220925_153127                         </td><td style=\"text-align: right;\">0.842543</td><td style=\"text-align: right;\"> 0.420259</td><td style=\"text-align: right;\">0.663439</td><td style=\"text-align: right;\">              0.242792</td><td style=\"text-align: right;\">0.370078</td><td style=\"text-align: right;\">0.136958</td></tr>\n",
              "<tr><td>GBM_grid_1_AutoML_1_20220925_153127_model_2            </td><td style=\"text-align: right;\">0.841327</td><td style=\"text-align: right;\"> 0.42207 </td><td style=\"text-align: right;\">0.657927</td><td style=\"text-align: right;\">              0.245283</td><td style=\"text-align: right;\">0.370294</td><td style=\"text-align: right;\">0.137118</td></tr>\n",
              "<tr><td>DeepLearning_grid_3_AutoML_1_20220925_153127_model_1   </td><td style=\"text-align: right;\">0.840555</td><td style=\"text-align: right;\"> 0.425301</td><td style=\"text-align: right;\">0.650099</td><td style=\"text-align: right;\">              0.240314</td><td style=\"text-align: right;\">0.371596</td><td style=\"text-align: right;\">0.138084</td></tr>\n",
              "<tr><td>DeepLearning_grid_2_AutoML_1_20220925_153127_model_1   </td><td style=\"text-align: right;\">0.840375</td><td style=\"text-align: right;\"> 0.424207</td><td style=\"text-align: right;\">0.648952</td><td style=\"text-align: right;\">              0.238929</td><td style=\"text-align: right;\">0.371614</td><td style=\"text-align: right;\">0.138097</td></tr>\n",
              "</tbody>\n",
              "</table><pre style='font-size: smaller; margin-bottom: 1em;'>[22 rows x 7 columns]</pre>"
            ]
          },
          "metadata": {},
          "execution_count": 121
        }
      ]
    },
    {
      "cell_type": "code",
      "source": [
        "aml.leader.model_performance(Xtest)"
      ],
      "metadata": {
        "colab": {
          "base_uri": "https://localhost:8080/",
          "height": 1000
        },
        "id": "QIj4AygNVE5q",
        "outputId": "87e9eb0a-1a34-46e9-a378-c3f551ab5f36"
      },
      "execution_count": null,
      "outputs": [
        {
          "output_type": "execute_result",
          "data": {
            "text/plain": [
              "ModelMetricsBinomialGLM: stackedensemble\n",
              "** Reported on test data. **\n",
              "\n",
              "MSE: 0.12936143839825395\n",
              "RMSE: 0.3596685118247828\n",
              "LogLoss: 0.4022908605926034\n",
              "AUC: 0.8549046107700893\n",
              "AUCPR: 0.664669938823258\n",
              "Gini: 0.7098092215401786\n",
              "Null degrees of freedom: 1727\n",
              "Residual degrees of freedom: 1722\n",
              "Null deviance: 1978.466159239726\n",
              "Residual deviance: 1390.3172142080375\n",
              "AIC: 1402.3172142080375\n",
              "\n",
              "Confusion Matrix (Act/Pred) for max f1 @ threshold = 0.36964508050830175\n",
              "       No    Yes    Error    Rate\n",
              "-----  ----  -----  -------  --------------\n",
              "No     1066  214    0.1672   (214.0/1280.0)\n",
              "Yes    126   322    0.2812   (126.0/448.0)\n",
              "Total  1192  536    0.1968   (340.0/1728.0)\n",
              "\n",
              "Maximum Metrics: Maximum metrics at their respective thresholds\n",
              "metric                       threshold    value     idx\n",
              "---------------------------  -----------  --------  -----\n",
              "max f1                       0.369645     0.654472  184\n",
              "max f2                       0.186866     0.756654  273\n",
              "max f0point5                 0.499248     0.65501   130\n",
              "max accuracy                 0.499248     0.818866  130\n",
              "max precision                0.882735     1         0\n",
              "max recall                   0.00529993   1         399\n",
              "max specificity              0.882735     1         0\n",
              "max absolute_mcc             0.373611     0.522897  182\n",
              "max min_per_class_accuracy   0.294241     0.782031  218\n",
              "max mean_per_class_accuracy  0.292811     0.783092  219\n",
              "max tns                      0.882735     1280      0\n",
              "max fns                      0.882735     446       0\n",
              "max fps                      0.00529993   1280      399\n",
              "max tps                      0.00529993   448       399\n",
              "max tnr                      0.882735     1         0\n",
              "max fnr                      0.882735     0.995536  0\n",
              "max fpr                      0.00529993   1         399\n",
              "max tpr                      0.00529993   1         399\n",
              "\n",
              "Gains/Lift Table: Avg response rate: 25.93 %, avg score: 26.13 %\n",
              "group    cumulative_data_fraction    lower_threshold    lift       cumulative_lift    response_rate    score       cumulative_response_rate    cumulative_score    capture_rate    cumulative_capture_rate    gain      cumulative_gain    kolmogorov_smirnov\n",
              "-------  --------------------------  -----------------  ---------  -----------------  ---------------  ----------  --------------------------  ------------------  --------------  -------------------------  --------  -----------------  --------------------\n",
              "1        0.0104167                   0.825025           3.42857    3.42857            0.888889         0.851116    0.888889                    0.851116            0.0357143       0.0357143                  242.857   242.857            0.0341518\n",
              "2        0.0202546                   0.799724           3.40336    3.41633            0.882353         0.812665    0.885714                    0.83244             0.0334821       0.0691964                  240.336   241.633            0.0660714\n",
              "3        0.0300926                   0.78297            2.4958     3.11538            0.647059         0.790476    0.807692                    0.818721            0.0245536       0.09375                    149.58    211.538            0.0859375\n",
              "4        0.0405093                   0.758503           3.42857    3.19592            0.888889         0.766905    0.828571                    0.805397            0.0357143       0.129464                   242.857   219.592            0.120089\n",
              "5        0.0503472                   0.737465           3.17647    3.19212            0.823529         0.747365    0.827586                    0.794057            0.03125         0.160714                   217.647   219.212            0.148996\n",
              "6        0.100116                    0.647619           2.69103    2.94302            0.697674         0.692484    0.763006                    0.743564            0.133929        0.294643                   169.103   194.302            0.262612\n",
              "7        0.150463                    0.584212           2.30542    2.72967            0.597701         0.612847    0.707692                    0.699824            0.116071        0.410714                   130.542   172.967            0.351339\n",
              "8        0.200231                    0.531721           2.33223    2.63088            0.604651         0.553978    0.682081                    0.663573            0.116071        0.526786                   133.223   163.088            0.440848\n",
              "9        0.300347                    0.37936            1.67217    2.31131            0.433526         0.448351    0.599229                    0.591833            0.167411        0.694196                   67.2172   131.131            0.531696\n",
              "10       0.399884                    0.256158           1.21096    2.03742            0.313953         0.313291    0.52822                     0.522499            0.120536        0.814732                   21.0963   103.742            0.560045\n",
              "11       0.5                         0.172418           0.758051   1.78125            0.196532         0.215921    0.461806                    0.461113            0.0758929       0.890625                   -24.1949  78.125             0.527344\n",
              "12       0.600116                    0.115399           0.490504   1.56592            0.127168         0.142892    0.405979                    0.408025            0.0491071       0.939732                   -50.9496  56.5918            0.458482\n",
              "13       0.699653                    0.0621025          0.313953   1.38781            0.0813953        0.0859493   0.359801                    0.362204            0.03125         0.970982                   -68.6047  38.7806            0.366295\n",
              "14       0.799769                    0.0316396          0.133774   1.23082            0.0346821        0.0464021   0.319103                    0.322672            0.0133929       0.984375                   -86.6226  23.0825            0.249219\n",
              "15       0.899884                    0.0145596          0.133774   1.10877            0.0346821        0.0231797   0.28746                     0.289352            0.0133929       0.997768                   -86.6226  10.8774            0.132143\n",
              "16       1                           0.00468843         0.0222956  1                  0.00578035       0.00946092  0.259259                    0.261331            0.00223214      1                          -97.7704  0                  0"
            ],
            "text/html": [
              "<pre style='margin: 1em 0 1em 0;'>ModelMetricsBinomialGLM: stackedensemble\n",
              "** Reported on test data. **\n",
              "\n",
              "MSE: 0.12936143839825395\n",
              "RMSE: 0.3596685118247828\n",
              "LogLoss: 0.4022908605926034\n",
              "AUC: 0.8549046107700893\n",
              "AUCPR: 0.664669938823258\n",
              "Gini: 0.7098092215401786\n",
              "Null degrees of freedom: 1727\n",
              "Residual degrees of freedom: 1722\n",
              "Null deviance: 1978.466159239726\n",
              "Residual deviance: 1390.3172142080375\n",
              "AIC: 1402.3172142080375</pre>\n",
              "<div style='margin: 1em 0 1em 0;'>\n",
              "<style>\n",
              "\n",
              "#h2o-table-9.h2o-container {\n",
              "  overflow-x: auto;\n",
              "}\n",
              "#h2o-table-9 .h2o-table {\n",
              "  /* width: 100%; */\n",
              "  margin-top: 1em;\n",
              "  margin-bottom: 1em;\n",
              "}\n",
              "#h2o-table-9 .h2o-table caption {\n",
              "  white-space: nowrap;\n",
              "  caption-side: top;\n",
              "  text-align: left;\n",
              "  /* margin-left: 1em; */\n",
              "  margin: 0;\n",
              "  font-size: larger;\n",
              "}\n",
              "#h2o-table-9 .h2o-table thead {\n",
              "  white-space: nowrap; \n",
              "  position: sticky;\n",
              "  top: 0;\n",
              "  box-shadow: 0 -1px inset;\n",
              "}\n",
              "#h2o-table-9 .h2o-table tbody {\n",
              "  overflow: auto;\n",
              "}\n",
              "#h2o-table-9 .h2o-table th,\n",
              "#h2o-table-9 .h2o-table td {\n",
              "  text-align: right;\n",
              "  /* border: 1px solid; */\n",
              "}\n",
              "#h2o-table-9 .h2o-table tr:nth-child(even) {\n",
              "  /* background: #F5F5F5 */\n",
              "}\n",
              "\n",
              "</style>      \n",
              "<div id=\"h2o-table-9\" class=\"h2o-container\">\n",
              "  <table class=\"h2o-table\">\n",
              "    <caption>Confusion Matrix (Act/Pred) for max f1 @ threshold = 0.36964508050830175</caption>\n",
              "    <thead><tr><th></th>\n",
              "<th>No</th>\n",
              "<th>Yes</th>\n",
              "<th>Error</th>\n",
              "<th>Rate</th></tr></thead>\n",
              "    <tbody><tr><td>No</td>\n",
              "<td>1066.0</td>\n",
              "<td>214.0</td>\n",
              "<td>0.1672</td>\n",
              "<td> (214.0/1280.0)</td></tr>\n",
              "<tr><td>Yes</td>\n",
              "<td>126.0</td>\n",
              "<td>322.0</td>\n",
              "<td>0.2812</td>\n",
              "<td> (126.0/448.0)</td></tr>\n",
              "<tr><td>Total</td>\n",
              "<td>1192.0</td>\n",
              "<td>536.0</td>\n",
              "<td>0.1968</td>\n",
              "<td> (340.0/1728.0)</td></tr></tbody>\n",
              "  </table>\n",
              "</div>\n",
              "</div>\n",
              "<div style='margin: 1em 0 1em 0;'>\n",
              "<style>\n",
              "\n",
              "#h2o-table-10.h2o-container {\n",
              "  overflow-x: auto;\n",
              "}\n",
              "#h2o-table-10 .h2o-table {\n",
              "  /* width: 100%; */\n",
              "  margin-top: 1em;\n",
              "  margin-bottom: 1em;\n",
              "}\n",
              "#h2o-table-10 .h2o-table caption {\n",
              "  white-space: nowrap;\n",
              "  caption-side: top;\n",
              "  text-align: left;\n",
              "  /* margin-left: 1em; */\n",
              "  margin: 0;\n",
              "  font-size: larger;\n",
              "}\n",
              "#h2o-table-10 .h2o-table thead {\n",
              "  white-space: nowrap; \n",
              "  position: sticky;\n",
              "  top: 0;\n",
              "  box-shadow: 0 -1px inset;\n",
              "}\n",
              "#h2o-table-10 .h2o-table tbody {\n",
              "  overflow: auto;\n",
              "}\n",
              "#h2o-table-10 .h2o-table th,\n",
              "#h2o-table-10 .h2o-table td {\n",
              "  text-align: right;\n",
              "  /* border: 1px solid; */\n",
              "}\n",
              "#h2o-table-10 .h2o-table tr:nth-child(even) {\n",
              "  /* background: #F5F5F5 */\n",
              "}\n",
              "\n",
              "</style>      \n",
              "<div id=\"h2o-table-10\" class=\"h2o-container\">\n",
              "  <table class=\"h2o-table\">\n",
              "    <caption>Maximum Metrics: Maximum metrics at their respective thresholds</caption>\n",
              "    <thead><tr><th>metric</th>\n",
              "<th>threshold</th>\n",
              "<th>value</th>\n",
              "<th>idx</th></tr></thead>\n",
              "    <tbody><tr><td>max f1</td>\n",
              "<td>0.3696451</td>\n",
              "<td>0.6544715</td>\n",
              "<td>184.0</td></tr>\n",
              "<tr><td>max f2</td>\n",
              "<td>0.1868661</td>\n",
              "<td>0.7566540</td>\n",
              "<td>273.0</td></tr>\n",
              "<tr><td>max f0point5</td>\n",
              "<td>0.4992477</td>\n",
              "<td>0.6550104</td>\n",
              "<td>130.0</td></tr>\n",
              "<tr><td>max accuracy</td>\n",
              "<td>0.4992477</td>\n",
              "<td>0.8188657</td>\n",
              "<td>130.0</td></tr>\n",
              "<tr><td>max precision</td>\n",
              "<td>0.8827348</td>\n",
              "<td>1.0</td>\n",
              "<td>0.0</td></tr>\n",
              "<tr><td>max recall</td>\n",
              "<td>0.0052999</td>\n",
              "<td>1.0</td>\n",
              "<td>399.0</td></tr>\n",
              "<tr><td>max specificity</td>\n",
              "<td>0.8827348</td>\n",
              "<td>1.0</td>\n",
              "<td>0.0</td></tr>\n",
              "<tr><td>max absolute_mcc</td>\n",
              "<td>0.3736105</td>\n",
              "<td>0.5228975</td>\n",
              "<td>182.0</td></tr>\n",
              "<tr><td>max min_per_class_accuracy</td>\n",
              "<td>0.2942415</td>\n",
              "<td>0.7820312</td>\n",
              "<td>218.0</td></tr>\n",
              "<tr><td>max mean_per_class_accuracy</td>\n",
              "<td>0.2928112</td>\n",
              "<td>0.7830915</td>\n",
              "<td>219.0</td></tr>\n",
              "<tr><td>max tns</td>\n",
              "<td>0.8827348</td>\n",
              "<td>1280.0</td>\n",
              "<td>0.0</td></tr>\n",
              "<tr><td>max fns</td>\n",
              "<td>0.8827348</td>\n",
              "<td>446.0</td>\n",
              "<td>0.0</td></tr>\n",
              "<tr><td>max fps</td>\n",
              "<td>0.0052999</td>\n",
              "<td>1280.0</td>\n",
              "<td>399.0</td></tr>\n",
              "<tr><td>max tps</td>\n",
              "<td>0.0052999</td>\n",
              "<td>448.0</td>\n",
              "<td>399.0</td></tr>\n",
              "<tr><td>max tnr</td>\n",
              "<td>0.8827348</td>\n",
              "<td>1.0</td>\n",
              "<td>0.0</td></tr>\n",
              "<tr><td>max fnr</td>\n",
              "<td>0.8827348</td>\n",
              "<td>0.9955357</td>\n",
              "<td>0.0</td></tr>\n",
              "<tr><td>max fpr</td>\n",
              "<td>0.0052999</td>\n",
              "<td>1.0</td>\n",
              "<td>399.0</td></tr>\n",
              "<tr><td>max tpr</td>\n",
              "<td>0.0052999</td>\n",
              "<td>1.0</td>\n",
              "<td>399.0</td></tr></tbody>\n",
              "  </table>\n",
              "</div>\n",
              "</div>\n",
              "<div style='margin: 1em 0 1em 0;'>\n",
              "<style>\n",
              "\n",
              "#h2o-table-11.h2o-container {\n",
              "  overflow-x: auto;\n",
              "}\n",
              "#h2o-table-11 .h2o-table {\n",
              "  /* width: 100%; */\n",
              "  margin-top: 1em;\n",
              "  margin-bottom: 1em;\n",
              "}\n",
              "#h2o-table-11 .h2o-table caption {\n",
              "  white-space: nowrap;\n",
              "  caption-side: top;\n",
              "  text-align: left;\n",
              "  /* margin-left: 1em; */\n",
              "  margin: 0;\n",
              "  font-size: larger;\n",
              "}\n",
              "#h2o-table-11 .h2o-table thead {\n",
              "  white-space: nowrap; \n",
              "  position: sticky;\n",
              "  top: 0;\n",
              "  box-shadow: 0 -1px inset;\n",
              "}\n",
              "#h2o-table-11 .h2o-table tbody {\n",
              "  overflow: auto;\n",
              "}\n",
              "#h2o-table-11 .h2o-table th,\n",
              "#h2o-table-11 .h2o-table td {\n",
              "  text-align: right;\n",
              "  /* border: 1px solid; */\n",
              "}\n",
              "#h2o-table-11 .h2o-table tr:nth-child(even) {\n",
              "  /* background: #F5F5F5 */\n",
              "}\n",
              "\n",
              "</style>      \n",
              "<div id=\"h2o-table-11\" class=\"h2o-container\">\n",
              "  <table class=\"h2o-table\">\n",
              "    <caption>Gains/Lift Table: Avg response rate: 25.93 %, avg score: 26.13 %</caption>\n",
              "    <thead><tr><th>group</th>\n",
              "<th>cumulative_data_fraction</th>\n",
              "<th>lower_threshold</th>\n",
              "<th>lift</th>\n",
              "<th>cumulative_lift</th>\n",
              "<th>response_rate</th>\n",
              "<th>score</th>\n",
              "<th>cumulative_response_rate</th>\n",
              "<th>cumulative_score</th>\n",
              "<th>capture_rate</th>\n",
              "<th>cumulative_capture_rate</th>\n",
              "<th>gain</th>\n",
              "<th>cumulative_gain</th>\n",
              "<th>kolmogorov_smirnov</th></tr></thead>\n",
              "    <tbody><tr><td>1</td>\n",
              "<td>0.0104167</td>\n",
              "<td>0.8250246</td>\n",
              "<td>3.4285714</td>\n",
              "<td>3.4285714</td>\n",
              "<td>0.8888889</td>\n",
              "<td>0.8511157</td>\n",
              "<td>0.8888889</td>\n",
              "<td>0.8511157</td>\n",
              "<td>0.0357143</td>\n",
              "<td>0.0357143</td>\n",
              "<td>242.8571429</td>\n",
              "<td>242.8571429</td>\n",
              "<td>0.0341518</td></tr>\n",
              "<tr><td>2</td>\n",
              "<td>0.0202546</td>\n",
              "<td>0.7997240</td>\n",
              "<td>3.4033613</td>\n",
              "<td>3.4163265</td>\n",
              "<td>0.8823529</td>\n",
              "<td>0.8126651</td>\n",
              "<td>0.8857143</td>\n",
              "<td>0.8324397</td>\n",
              "<td>0.0334821</td>\n",
              "<td>0.0691964</td>\n",
              "<td>240.3361345</td>\n",
              "<td>241.6326531</td>\n",
              "<td>0.0660714</td></tr>\n",
              "<tr><td>3</td>\n",
              "<td>0.0300926</td>\n",
              "<td>0.7829700</td>\n",
              "<td>2.4957983</td>\n",
              "<td>3.1153846</td>\n",
              "<td>0.6470588</td>\n",
              "<td>0.7904762</td>\n",
              "<td>0.8076923</td>\n",
              "<td>0.8187209</td>\n",
              "<td>0.0245536</td>\n",
              "<td>0.09375</td>\n",
              "<td>149.5798319</td>\n",
              "<td>211.5384615</td>\n",
              "<td>0.0859375</td></tr>\n",
              "<tr><td>4</td>\n",
              "<td>0.0405093</td>\n",
              "<td>0.7585027</td>\n",
              "<td>3.4285714</td>\n",
              "<td>3.1959184</td>\n",
              "<td>0.8888889</td>\n",
              "<td>0.7669053</td>\n",
              "<td>0.8285714</td>\n",
              "<td>0.8053969</td>\n",
              "<td>0.0357143</td>\n",
              "<td>0.1294643</td>\n",
              "<td>242.8571429</td>\n",
              "<td>219.5918367</td>\n",
              "<td>0.1200893</td></tr>\n",
              "<tr><td>5</td>\n",
              "<td>0.0503472</td>\n",
              "<td>0.7374645</td>\n",
              "<td>3.1764706</td>\n",
              "<td>3.1921182</td>\n",
              "<td>0.8235294</td>\n",
              "<td>0.7473648</td>\n",
              "<td>0.8275862</td>\n",
              "<td>0.7940573</td>\n",
              "<td>0.03125</td>\n",
              "<td>0.1607143</td>\n",
              "<td>217.6470588</td>\n",
              "<td>219.2118227</td>\n",
              "<td>0.1489955</td></tr>\n",
              "<tr><td>6</td>\n",
              "<td>0.1001157</td>\n",
              "<td>0.6476186</td>\n",
              "<td>2.6910299</td>\n",
              "<td>2.9430223</td>\n",
              "<td>0.6976744</td>\n",
              "<td>0.6924842</td>\n",
              "<td>0.7630058</td>\n",
              "<td>0.7435643</td>\n",
              "<td>0.1339286</td>\n",
              "<td>0.2946429</td>\n",
              "<td>169.1029900</td>\n",
              "<td>194.3022296</td>\n",
              "<td>0.2626116</td></tr>\n",
              "<tr><td>7</td>\n",
              "<td>0.1504630</td>\n",
              "<td>0.5842121</td>\n",
              "<td>2.3054187</td>\n",
              "<td>2.7296703</td>\n",
              "<td>0.5977011</td>\n",
              "<td>0.6128465</td>\n",
              "<td>0.7076923</td>\n",
              "<td>0.6998241</td>\n",
              "<td>0.1160714</td>\n",
              "<td>0.4107143</td>\n",
              "<td>130.5418719</td>\n",
              "<td>172.9670330</td>\n",
              "<td>0.3513393</td></tr>\n",
              "<tr><td>8</td>\n",
              "<td>0.2002315</td>\n",
              "<td>0.5317212</td>\n",
              "<td>2.3322259</td>\n",
              "<td>2.6308836</td>\n",
              "<td>0.6046512</td>\n",
              "<td>0.5539777</td>\n",
              "<td>0.6820809</td>\n",
              "<td>0.6635733</td>\n",
              "<td>0.1160714</td>\n",
              "<td>0.5267857</td>\n",
              "<td>133.2225914</td>\n",
              "<td>163.0883567</td>\n",
              "<td>0.4408482</td></tr>\n",
              "<tr><td>9</td>\n",
              "<td>0.3003472</td>\n",
              "<td>0.3793596</td>\n",
              "<td>1.6721718</td>\n",
              "<td>2.3113130</td>\n",
              "<td>0.4335260</td>\n",
              "<td>0.4483512</td>\n",
              "<td>0.5992293</td>\n",
              "<td>0.5918326</td>\n",
              "<td>0.1674107</td>\n",
              "<td>0.6941964</td>\n",
              "<td>67.2171759</td>\n",
              "<td>131.1312964</td>\n",
              "<td>0.5316964</td></tr>\n",
              "<tr><td>10</td>\n",
              "<td>0.3998843</td>\n",
              "<td>0.2561583</td>\n",
              "<td>1.2109635</td>\n",
              "<td>2.0374199</td>\n",
              "<td>0.3139535</td>\n",
              "<td>0.3132909</td>\n",
              "<td>0.5282200</td>\n",
              "<td>0.5224995</td>\n",
              "<td>0.1205357</td>\n",
              "<td>0.8147321</td>\n",
              "<td>21.0963455</td>\n",
              "<td>103.7419888</td>\n",
              "<td>0.5600446</td></tr>\n",
              "<tr><td>11</td>\n",
              "<td>0.5</td>\n",
              "<td>0.1724184</td>\n",
              "<td>0.7580512</td>\n",
              "<td>1.7812500</td>\n",
              "<td>0.1965318</td>\n",
              "<td>0.2159207</td>\n",
              "<td>0.4618056</td>\n",
              "<td>0.4611128</td>\n",
              "<td>0.0758929</td>\n",
              "<td>0.890625</td>\n",
              "<td>-24.1948803</td>\n",
              "<td>78.1250000</td>\n",
              "<td>0.5273438</td></tr>\n",
              "<tr><td>12</td>\n",
              "<td>0.6001157</td>\n",
              "<td>0.1153993</td>\n",
              "<td>0.4905037</td>\n",
              "<td>1.5659182</td>\n",
              "<td>0.1271676</td>\n",
              "<td>0.1428922</td>\n",
              "<td>0.4059788</td>\n",
              "<td>0.4080248</td>\n",
              "<td>0.0491071</td>\n",
              "<td>0.9397321</td>\n",
              "<td>-50.9496284</td>\n",
              "<td>56.5918171</td>\n",
              "<td>0.4584821</td></tr>\n",
              "<tr><td>13</td>\n",
              "<td>0.6996528</td>\n",
              "<td>0.0621025</td>\n",
              "<td>0.3139535</td>\n",
              "<td>1.3878057</td>\n",
              "<td>0.0813953</td>\n",
              "<td>0.0859493</td>\n",
              "<td>0.3598015</td>\n",
              "<td>0.3622043</td>\n",
              "<td>0.03125</td>\n",
              "<td>0.9709821</td>\n",
              "<td>-68.6046512</td>\n",
              "<td>38.7805743</td>\n",
              "<td>0.3662946</td></tr>\n",
              "<tr><td>14</td>\n",
              "<td>0.7997685</td>\n",
              "<td>0.0316396</td>\n",
              "<td>0.1337737</td>\n",
              "<td>1.2308249</td>\n",
              "<td>0.0346821</td>\n",
              "<td>0.0464021</td>\n",
              "<td>0.3191027</td>\n",
              "<td>0.3226719</td>\n",
              "<td>0.0133929</td>\n",
              "<td>0.984375</td>\n",
              "<td>-86.6226259</td>\n",
              "<td>23.0824891</td>\n",
              "<td>0.2492188</td></tr>\n",
              "<tr><td>15</td>\n",
              "<td>0.8998843</td>\n",
              "<td>0.0145596</td>\n",
              "<td>0.1337737</td>\n",
              "<td>1.1087735</td>\n",
              "<td>0.0346821</td>\n",
              "<td>0.0231797</td>\n",
              "<td>0.2874598</td>\n",
              "<td>0.2893522</td>\n",
              "<td>0.0133929</td>\n",
              "<td>0.9977679</td>\n",
              "<td>-86.6226259</td>\n",
              "<td>10.8773542</td>\n",
              "<td>0.1321429</td></tr>\n",
              "<tr><td>16</td>\n",
              "<td>1.0</td>\n",
              "<td>0.0046884</td>\n",
              "<td>0.0222956</td>\n",
              "<td>1.0</td>\n",
              "<td>0.0057803</td>\n",
              "<td>0.0094609</td>\n",
              "<td>0.2592593</td>\n",
              "<td>0.2613307</td>\n",
              "<td>0.0022321</td>\n",
              "<td>1.0</td>\n",
              "<td>-97.7704377</td>\n",
              "<td>0.0</td>\n",
              "<td>0.0</td></tr></tbody>\n",
              "  </table>\n",
              "</div>\n",
              "</div>"
            ]
          },
          "metadata": {},
          "execution_count": 122
        }
      ]
    },
    {
      "cell_type": "markdown",
      "source": [
        "# Auto Keras"
      ],
      "metadata": {
        "id": "YBdkxo9mcwdt"
      }
    },
    {
      "cell_type": "code",
      "source": [
        "#uncomment the next two lines\n",
        "#!pip install git+https://github.com/keras-team/keras-tuner.git\n",
        "#!pip install autokeras"
      ],
      "metadata": {
        "id": "pF3emT_KWlj0"
      },
      "execution_count": null,
      "outputs": []
    },
    {
      "cell_type": "code",
      "source": [
        "import autokeras as ak"
      ],
      "metadata": {
        "id": "sLDYubPucu5w"
      },
      "execution_count": null,
      "outputs": []
    },
    {
      "cell_type": "code",
      "source": [
        "clf = ak.StructuredDataClassifier(\n",
        "    overwrite=True, max_trials=4\n",
        ")\n",
        "\n",
        "clf.fit(Xtrain_m, ytrain, epochs=20)"
      ],
      "metadata": {
        "colab": {
          "base_uri": "https://localhost:8080/"
        },
        "id": "8ZvQZtU7diON",
        "outputId": "506eac35-b162-4a8b-da99-29fae21dce36"
      },
      "execution_count": null,
      "outputs": [
        {
          "output_type": "stream",
          "name": "stdout",
          "text": [
            "Trial 4 Complete [00h 00m 28s]\n",
            "val_accuracy: 0.8009523749351501\n",
            "\n",
            "Best val_accuracy So Far: 0.8066666722297668\n",
            "Total elapsed time: 00h 01m 54s\n",
            "Epoch 1/20\n",
            "165/165 [==============================] - 2s 4ms/step - loss: 0.4813 - accuracy: 0.7700\n",
            "Epoch 2/20\n",
            "165/165 [==============================] - 1s 4ms/step - loss: 0.4446 - accuracy: 0.7933\n",
            "Epoch 3/20\n",
            "165/165 [==============================] - 1s 4ms/step - loss: 0.4347 - accuracy: 0.8002\n",
            "Epoch 4/20\n",
            "165/165 [==============================] - 1s 3ms/step - loss: 0.4298 - accuracy: 0.8002\n",
            "Epoch 5/20\n",
            "165/165 [==============================] - 1s 3ms/step - loss: 0.4262 - accuracy: 0.8024\n",
            "Epoch 6/20\n",
            "165/165 [==============================] - 1s 3ms/step - loss: 0.4232 - accuracy: 0.8049\n",
            "Epoch 7/20\n",
            "165/165 [==============================] - 1s 3ms/step - loss: 0.4203 - accuracy: 0.8068\n",
            "Epoch 8/20\n",
            "165/165 [==============================] - 1s 4ms/step - loss: 0.4174 - accuracy: 0.8074\n",
            "Epoch 9/20\n",
            "165/165 [==============================] - 1s 3ms/step - loss: 0.4148 - accuracy: 0.8096\n",
            "Epoch 10/20\n",
            "165/165 [==============================] - 1s 4ms/step - loss: 0.4124 - accuracy: 0.8094\n",
            "Epoch 11/20\n",
            "165/165 [==============================] - 1s 3ms/step - loss: 0.4102 - accuracy: 0.8110\n",
            "Epoch 12/20\n",
            "165/165 [==============================] - 1s 3ms/step - loss: 0.4079 - accuracy: 0.8119\n",
            "Epoch 13/20\n",
            "165/165 [==============================] - 1s 4ms/step - loss: 0.4058 - accuracy: 0.8125\n",
            "Epoch 14/20\n",
            "165/165 [==============================] - 1s 3ms/step - loss: 0.4036 - accuracy: 0.8149\n",
            "Epoch 15/20\n",
            "165/165 [==============================] - 1s 4ms/step - loss: 0.4016 - accuracy: 0.8142\n",
            "Epoch 16/20\n",
            "165/165 [==============================] - 1s 4ms/step - loss: 0.3996 - accuracy: 0.8157\n",
            "Epoch 17/20\n",
            "165/165 [==============================] - 1s 4ms/step - loss: 0.3976 - accuracy: 0.8163\n",
            "Epoch 18/20\n",
            "165/165 [==============================] - 1s 4ms/step - loss: 0.3957 - accuracy: 0.8168\n",
            "Epoch 19/20\n",
            "165/165 [==============================] - 1s 4ms/step - loss: 0.3938 - accuracy: 0.8170\n",
            "Epoch 20/20\n",
            "165/165 [==============================] - 1s 4ms/step - loss: 0.3919 - accuracy: 0.8193\n"
          ]
        },
        {
          "output_type": "execute_result",
          "data": {
            "text/plain": [
              "<keras.callbacks.History at 0x7f21c21370d0>"
            ]
          },
          "metadata": {},
          "execution_count": 142
        }
      ]
    },
    {
      "cell_type": "code",
      "source": [
        "model = clf.export_model()"
      ],
      "metadata": {
        "id": "ZhI5J-sOd-hr"
      },
      "execution_count": null,
      "outputs": []
    },
    {
      "cell_type": "code",
      "source": [
        "model.summary()"
      ],
      "metadata": {
        "colab": {
          "base_uri": "https://localhost:8080/"
        },
        "id": "CdIvc95Ye2UX",
        "outputId": "07dcbc0d-0036-4747-b5c0-bc6f52733db3"
      },
      "execution_count": null,
      "outputs": [
        {
          "output_type": "stream",
          "name": "stdout",
          "text": [
            "Model: \"model\"\n",
            "_________________________________________________________________\n",
            " Layer (type)                Output Shape              Param #   \n",
            "=================================================================\n",
            " input_1 (InputLayer)        [(None, 22)]              0         \n",
            "                                                                 \n",
            " multi_category_encoding (Mu  (None, 22)               0         \n",
            " ltiCategoryEncoding)                                            \n",
            "                                                                 \n",
            " normalization (Normalizatio  (None, 22)               45        \n",
            " n)                                                              \n",
            "                                                                 \n",
            " dense (Dense)               (None, 32)                736       \n",
            "                                                                 \n",
            " re_lu (ReLU)                (None, 32)                0         \n",
            "                                                                 \n",
            " dense_1 (Dense)             (None, 32)                1056      \n",
            "                                                                 \n",
            " re_lu_1 (ReLU)              (None, 32)                0         \n",
            "                                                                 \n",
            " dense_2 (Dense)             (None, 1)                 33        \n",
            "                                                                 \n",
            " classification_head_1 (Acti  (None, 1)                0         \n",
            " vation)                                                         \n",
            "                                                                 \n",
            "=================================================================\n",
            "Total params: 1,870\n",
            "Trainable params: 1,825\n",
            "Non-trainable params: 45\n",
            "_________________________________________________________________\n"
          ]
        }
      ]
    },
    {
      "cell_type": "code",
      "source": [
        "ypred_test = model.evaluate(Xtest_m, ytest)"
      ],
      "metadata": {
        "colab": {
          "base_uri": "https://localhost:8080/"
        },
        "id": "E3y8qJaoe5qd",
        "outputId": "f10467d2-a503-4cd5-a35c-8505c02521fc"
      },
      "execution_count": null,
      "outputs": [
        {
          "output_type": "stream",
          "name": "stdout",
          "text": [
            "55/55 [==============================] - 1s 7ms/step - loss: 0.4183 - accuracy: 0.7986\n"
          ]
        }
      ]
    },
    {
      "cell_type": "code",
      "source": [],
      "metadata": {
        "id": "sf2ufAohfIZW"
      },
      "execution_count": null,
      "outputs": []
    }
  ]
}